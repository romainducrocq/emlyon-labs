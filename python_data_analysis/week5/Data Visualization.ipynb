{
 "cells": [
  {
   "cell_type": "markdown",
   "metadata": {
    "deletable": false,
    "editable": false,
    "nbgrader": {
     "checksum": "6e2d20415e76c8ffdf9084518d75b9ac",
     "grade": false,
     "grade_id": "cell-fc105e8123ea121e",
     "locked": true,
     "schema_version": 1,
     "solution": false
    }
   },
   "source": [
    "# Lecture - Data Visualization \n",
    "Data visualization is a very important step in data analysis. It helps in exploring the data as well as in presenting and interpreting the results.\n",
    "we can use plots to check distributions of variables or checking outliers\n",
    "There are two main plot libraries in Python, which are Matplotlib and Seaborn. I personally prefer to use Seaborn because it looks nicer in my opinion.\n",
    "\n",
    "In this lecture we will explore different Python modules for data visualization."
   ]
  },
  {
   "cell_type": "markdown",
   "metadata": {
    "deletable": false,
    "editable": false,
    "nbgrader": {
     "checksum": "0a3f11404254ffcd97a5196335d2e6e6",
     "grade": false,
     "grade_id": "cell-41c14b4fdcbd3188",
     "locked": true,
     "schema_version": 1,
     "solution": false
    }
   },
   "source": [
    "## Matplotlib \n",
    "You've already used it in previous lectures. Matplotlib is a Python 2D plotting library which produces publication quality figures in a variety of hardcopy formats and interactive environments across platforms. \n",
    "Check out the website https://matplotlib.org.\n",
    "\n",
    "To use the plotting functionality from Matplotlib:\n",
    "- `import matplotlib.pyplot as pl`\n",
    "\n",
    "To plot Y in function of X:\n",
    "- `plt.plot(X,Y)`\n",
    "- `plt.show()`\n",
    "\n",
    "### How to customize a graph?\n",
    "- Change figure size : \n",
    " - `plt.figure(figsize=(20,10))`\n",
    "\n",
    "- Change graph style:\n",
    " - `import matplotlib.style as style` \n",
    " - `style.available` : find the available styles\n",
    " - `style.use('fivethirtyeight')` : Use a specific style\n",
    "\n",
    "- You can also customize the graph inside the plot function:\n",
    " - `plt.plot(X, Y, color=\"red\", label= 'redLine',linewidth=2.0, linestyle=\"-\")`. \n",
    " - Different linestyle are possible : `[ '-' | '--' | '-.' | ':' | 'steps' `\n",
    "\n",
    "- To set the legend:\n",
    " - `plt.legend()`\n",
    "\n",
    "\n",
    "-  Set x and y limits\n",
    " - `plt.xlim(left_limit,right_limit)`\n",
    " - `plt.ylim(left_limit,right_limit)`\n",
    "\n",
    "- Set x and y ticks\n",
    " - Set y ticks : `plt.yticks(ticks,lables,kwrds)`\n",
    "   - `ticks` : array_like. A list of positions at which ticks should be placed. You can pass an empty list to  disable yticks.\n",
    "   - `labels` : array_like, optional. A list of explicit labels to place at the given locs.\n",
    "\n",
    "   - `**kwrds` : Text properties can be used to control the appearance of the labels.\n",
    "   - Check this for some demo examples. https://matplotlib.org/3.1.1/api/_as_gen/matplotlib.pyplot.yticks.html\n",
    "\n",
    " - Set x ticks => these are the scales of the axis\n",
    "  - xticks(ticks=None, labels=None, **kwargs)\n",
    "\n",
    "- Set labels and titles\n",
    " - `plt.title('My curve')`\n",
    " - `plt.xlabel('x-axis')`\n",
    " - `plt.ylabel('y-axis')`\n",
    " \n",
    "### Creating subfugures and customizing them\n",
    "\n",
    "These are variables that help you to set parameters of the figure and all the charts in the figure for matplotlib. \n",
    "\n",
    "To create subfigures in the same figure:\n",
    "\n",
    "`fig, (ax0, ax1, ...) = plt.subplots(nrows,ncols, figsize=(, ), dpi= )`\n",
    "- nrows,ncols : number of rows and columns of the subfigures\n",
    "- figsize : figure.figsize means figure size in inches (width, height)\n",
    "- dpi: figure.dpi means resolution in dots per inch\n",
    "\n",
    "To plot on the first subfigure for example:\n",
    "- `df.plot(x,y,ax=ax0)`\n",
    "\n",
    "To set the title, x and y labels of the first subfigure\n",
    "\n",
    "- `ax0.set(title=' ', xlabel='x axis', ylabel='y axis')`\n",
    "\n",
    "To set the title of the subfigure:\n",
    "\n",
    "- `fig.suptitle(' ', fontsize=, fontweight='bold')`\n",
    "\n",
    "\n",
    "\n",
    "### Different examples of graph\n",
    "Check out this link for a summary of plot functionalities in matplotlib. http://matplotlib.org/api/pyplot_summary.html\n",
    "\n",
    "#### Scatter plot\n",
    "A scatter plot, also known as a scatter graph or a scatter chart, is a two-dimensional data visualization that uses dots to represent the values obtained for two different variables - one plotted along the x-axis and the other plotted along the y-axis.\n",
    "![seaborn_scatterplot](img/seaborn-scatterplot-2.png)\n",
    "\n",
    "- `plt.scatter(X,Y, alpha=.5, s=20,marker= 'o'`\n",
    "  - alpha is used to give a % of transparency\n",
    "  - different other markers [ '+' | ',' | '.' | '1' | '2' | '3' | '4' ]\n",
    "  - s is the size of the points\n",
    "\n",
    "#### Bar chart\n",
    "A bar plot is a plot that presents categorical data with rectangular bars with lengths proportional to the values that they represent. A bar plot shows comparisons among discrete categories. One axis of the plot shows the specific categories being compared, and the other axis represents a measured value.\n",
    "\n",
    "- `plt.bar(X, Y,kwrds)`\n",
    "  - kwrds Additional keyword arguments are documented in pandas.DataFrame.plot()\n",
    "  - Example kwrds: `facecolor='skyblue'` change background color, `edgecolor='blue'`\n",
    "  \n",
    "#### Histogram\n",
    "\n",
    "- `plt.hist(X, bins, histtype='step', orientation='horizontal')`\n",
    "  - bins: histogram bins\n",
    "  - `orientation` : `'horizontal'` or `'vertical`\n",
    "  - `histtype` : type of histogram, {'bar', 'barstacked', 'step', 'stepfilled'}\n",
    "  - You can find all the parameters here : https://matplotlib.org/3.1.1/api/_as_gen/matplotlib.pyplot.hist.html\n",
    "\n",
    "#### Area line\n",
    "Plots the area under a curve. `data.plot.area()`\n",
    "\n",
    "#### Pie chart\n",
    "\n",
    "`plt.pie(value,labels,colors,shadow, explode)`\n",
    "\n",
    "- value : array of numerical values\n",
    "- labels : array of strings\n",
    "- colors : array of colors\n",
    "- shadow: True of False for shadow effect\n",
    "\n",
    "example: `explode=(0,0.1,0,0)` will result in the exploding of the second element.\n",
    "\n",
    "![PieChart](img/PieChart.png)\n",
    "\n",
    "\n",
    "\n",
    "\n",
    "There exist other graphs types that might be very beneficial and interesting to check. Check out the links in this lecture. Do not hesitate to ask Google as well."
   ]
  },
  {
   "cell_type": "markdown",
   "metadata": {
    "deletable": false,
    "editable": false,
    "nbgrader": {
     "checksum": "e52d7da9509c0e4d7d651c7336e736c4",
     "grade": false,
     "grade_id": "cell-73ccc1eedf32361e",
     "locked": true,
     "schema_version": 1,
     "solution": false
    }
   },
   "source": [
    "\n",
    "## Seaborn\n",
    "\n",
    "### Some out of the box plots you can find in Seaborn library\n",
    "Of course you should import the Seaborn library.\n",
    "`import seaborn as sn`\n",
    "\n",
    "#### Scatter Plot\n",
    "To plot the scatter plot, while plotting the linear relationship between them (`fit_reg=True`).\n",
    "- `sns.lmplot(x='column_name', y='column_name', data=df, fit_reg=True, scatter_kws={'keyword1': value})`\n",
    " - Example: `scatter_kws={'alpha': 0.5'}` to change the transparancy\n",
    "\n",
    "![lmplot](img/lmplot.png)\n",
    "\n",
    "To color the points according to certain column's categories : hue='column_name'\n",
    "- `sns.lmplot(x='column_name', y='column_name', data=df, fit_reg=False, hue='column_name', scatter_kws={'keyword1': value}) `\n",
    "\n",
    "![lmplot_nofit](img/lmplot_notfit.png)\n",
    "\n",
    "#### Box plot\n",
    "- `bp=sns.boxplot(data=videogames, x='Genre', y='Year') `\n",
    "![boxplot](img/boxplot.png)\n",
    "\n",
    "#### Violin plot\n",
    "Combines the boxplot with the distribution of the data.\n",
    "- `vp=sns.violinplot(data=videogames, x='Genre', y='Year', inner=None)`\n",
    " - `inner` : None, or \"box\" , quartile, stick, point\n",
    "![violinplot](img/violinplot.png)\n",
    "\n",
    "Source: https://www.youtube.com/watch?v=cLHwwRgny5g"
   ]
  },
  {
   "cell_type": "code",
   "execution_count": null,
   "metadata": {
    "deletable": false,
    "editable": false,
    "nbgrader": {
     "checksum": "5a6e4fb9cb3aa80267ccaf6db30d1043",
     "grade": false,
     "grade_id": "cell-8519c21b83ddfe83",
     "locked": true,
     "schema_version": 1,
     "solution": false
    }
   },
   "outputs": [],
   "source": [
    "%matplotlib inline\n",
    "import pandas as pd\n",
    "import numpy as np\n",
    "import matplotlib.pyplot as plt\n",
    "import seaborn as sns\n",
    "\n",
    "tips = sns.load_dataset(\"tips\")\n",
    "tips.head()"
   ]
  },
  {
   "cell_type": "code",
   "execution_count": null,
   "metadata": {
    "deletable": false,
    "editable": false,
    "nbgrader": {
     "checksum": "694615e03f5cc1fac1e93ff026765f0f",
     "grade": false,
     "grade_id": "cell-e12249ef1a15d0a6",
     "locked": true,
     "schema_version": 1,
     "solution": false
    }
   },
   "outputs": [],
   "source": [
    "ax = sns.violinplot(x=tips[\"total_bill\"], inner =None)"
   ]
  },
  {
   "cell_type": "code",
   "execution_count": null,
   "metadata": {
    "deletable": false,
    "editable": false,
    "nbgrader": {
     "checksum": "3697b961374c4e309f926a01599c05fc",
     "grade": false,
     "grade_id": "cell-4940673b12c8172f",
     "locked": true,
     "schema_version": 1,
     "solution": false
    }
   },
   "outputs": [],
   "source": [
    "ax = sns.violinplot(x=tips[\"total_bill\"], inner ='box')"
   ]
  },
  {
   "cell_type": "code",
   "execution_count": null,
   "metadata": {
    "deletable": false,
    "editable": false,
    "nbgrader": {
     "checksum": "fdd752e2f83ffc21e039e1fcde09f2fe",
     "grade": false,
     "grade_id": "cell-0223ce0b8c6504fa",
     "locked": true,
     "schema_version": 1,
     "solution": false
    }
   },
   "outputs": [],
   "source": [
    "ax = sns.violinplot(x=tips[\"total_bill\"], inner ='quartile')"
   ]
  },
  {
   "cell_type": "markdown",
   "metadata": {
    "deletable": false,
    "editable": false,
    "nbgrader": {
     "checksum": "0538ce53e0583953ede35f23c0714f0b",
     "grade": false,
     "grade_id": "cell-f5003b001c0a7279",
     "locked": true,
     "schema_version": 1,
     "solution": false
    }
   },
   "source": [
    "See each observation with a stick inside the violin."
   ]
  },
  {
   "cell_type": "code",
   "execution_count": null,
   "metadata": {
    "deletable": false,
    "editable": false,
    "nbgrader": {
     "checksum": "f575d7f58321ed49adf312bb76b0877f",
     "grade": false,
     "grade_id": "cell-18f6e47cd3fb5161",
     "locked": true,
     "schema_version": 1,
     "solution": false
    }
   },
   "outputs": [],
   "source": [
    "ax = sns.violinplot(x=tips[\"total_bill\"], inner ='stick')"
   ]
  },
  {
   "cell_type": "code",
   "execution_count": null,
   "metadata": {
    "deletable": false,
    "editable": false,
    "nbgrader": {
     "checksum": "cb57ad5efdb9b378b686404bc272b818",
     "grade": false,
     "grade_id": "cell-613cfc96b0ad3076",
     "locked": true,
     "schema_version": 1,
     "solution": false
    }
   },
   "outputs": [],
   "source": [
    "ax = sns.violinplot(x=tips[\"total_bill\"], inner ='point')"
   ]
  },
  {
   "cell_type": "markdown",
   "metadata": {
    "deletable": false,
    "editable": false,
    "nbgrader": {
     "checksum": "04ad299f264843e4d69ec9d084edf7cc",
     "grade": false,
     "grade_id": "cell-7609efba332a1c82",
     "locked": true,
     "schema_version": 1,
     "solution": false
    }
   },
   "source": [
    "#### Swarm plot\n",
    "A great tool to see a better representation of the distribution of values with respect to certain categories.\n",
    "- `vp=sns.swarmplot(data=df, x='column_name_with_categories', y='column_name_with_values', hue='column_name_with_categories', alpha=) `\n",
    "\n",
    "\n",
    "![swarmplot](img/swarmplot.png)\n",
    "\n",
    "\n",
    "#### Factor plot\n",
    "Factor plot is informative when we have multiple groups to compare. There are many parameters under factor plot and I want to focus on basic parameters.\n",
    "- `g = sns.factorplot(x='column_name_with_values', `\n",
    "                   `y='column_name_with_values',`\n",
    "                   `data=df,` \n",
    "                   `hue='column_name_with_categories',`  : Color by column with categories\n",
    "                   `col='column_name_with_categories',`  # Separate by column categories\n",
    "                  ` kind='column_name_with_categories') ` # Specifiy a kind of plot for ex. Swarmplot\n",
    "                   \n",
    "In the following example,  there are three different types of assortments under a feature called assortment, there is a feature called promo, which is an indicator whether promotions happened or not, and there is a feature called sales, which indicate the total sales of stores\n",
    "\n",
    "x is the promo column, and y is the sales column and hue is the assortment column, which will give us the total sales based on 3 different types of assortments with the existence of promotion. \n",
    "![factorplot_basic](img/FactorPlot_basic.png)\n",
    "\n",
    "Another example, setting the other parameters:\n",
    "\n",
    "\n",
    " ![factorplot](img/factorplot.png)\n",
    " \n",
    "#### Count plot\n",
    "- `c=sns.countplot(x='column_name_with_values', data=df) `#, palette=pkmn_type_colors)\n",
    "![countplot](img/countplot.png)\n",
    "\n",
    "#### Distribution plot\n",
    "- `sns.distplot('column_name_with_values') `\n",
    "![distplot](img/distplot.png)\n",
    "\n",
    "\n",
    "\n",
    "### Customize the graph.\n",
    "- `axes = bp.axes`\n",
    "- `axes.set_ylim(ylim1,ylim2)`\n",
    "- `axes.set_xticklabels(data.column_name_with_categories.unique(), rotation=90)`\n",
    "- `.legend_.remove()` :removes the legend\n",
    "\n",
    "\n",
    "### Excellent resources\n",
    "I advice you to look at the following documentations and examples. You will be amazed of what you can do with Seaborn.\n",
    "\n",
    "\n",
    "http://seaborn.pydata.org/examples/index.html\n",
    "\n",
    "https://elitedatascience.com/python-seaborn-tutorial\n",
    "\n",
    "\n",
    "## Bokeh\n",
    "https://bokeh.pydata.org/en/latest/\n",
    "\n",
    "\n",
    "## Altair\n",
    "https://github.com/altair-viz/altair_widgets\n",
    "\n",
    "altair-viz jakevdp github\n",
    "\n",
    "\n",
    "\n",
    "\n"
   ]
  },
  {
   "cell_type": "markdown",
   "metadata": {
    "deletable": false,
    "editable": false,
    "nbgrader": {
     "checksum": "e76cefd29592f0d2a58f548cbf15f42f",
     "grade": false,
     "grade_id": "cell-2b05486037c825e8",
     "locked": true,
     "schema_version": 1,
     "solution": false
    }
   },
   "source": [
    "# In-class exercises"
   ]
  },
  {
   "cell_type": "markdown",
   "metadata": {
    "deletable": false,
    "editable": false,
    "nbgrader": {
     "checksum": "2b0aca73a2c0fa7264ec8fcfd6c9b623",
     "grade": false,
     "grade_id": "cell-5a30fa7214c42eed",
     "locked": true,
     "schema_version": 1,
     "solution": false
    }
   },
   "source": [
    "## Matplotlib"
   ]
  },
  {
   "cell_type": "markdown",
   "metadata": {
    "deletable": false,
    "editable": false,
    "nbgrader": {
     "checksum": "9135b452b7a6dcb06efbe77e2b8eef4d",
     "grade": false,
     "grade_id": "cell-6ed52899904d2099",
     "locked": true,
     "schema_version": 1,
     "solution": false
    }
   },
   "source": [
    "### Graph customization : titles , axes, legends, colors , font, ....\n"
   ]
  },
  {
   "cell_type": "code",
   "execution_count": null,
   "metadata": {
    "deletable": false,
    "editable": false,
    "nbgrader": {
     "checksum": "97f5165e0d370c48bf808da88bd059f6",
     "grade": false,
     "grade_id": "cell-0269a56ac8b8b34e",
     "locked": true,
     "schema_version": 1,
     "solution": false
    }
   },
   "outputs": [],
   "source": [
    "import pandas as pd\n",
    "import numpy as np\n",
    "import matplotlib.pyplot as plt"
   ]
  },
  {
   "cell_type": "markdown",
   "metadata": {
    "deletable": false,
    "editable": false,
    "nbgrader": {
     "checksum": "0e82a66a099120071b91818e909c8355",
     "grade": false,
     "grade_id": "cell-7beaf815ae612a72",
     "locked": true,
     "schema_version": 1,
     "solution": false
    }
   },
   "source": [
    "#### How to plot simple Y,X line-graph ? \n",
    "Use linespace from Numpy. `numpy.linspace(start, stop, num, endpoint=True, retstep=False, dtype=None, axis=0)` to create the x-axis points.\n",
    "- `start` : number to start with\n",
    "- `stop` : last number \n",
    "- `num` : number of points \n",
    "- `endpoint` : True or False , If True, stop is the last sample. Otherwise, it is not included. Default is True.\n",
    "- `retstep`: True or False, If True, return (samples, step), where step is the spacing between samples.\n",
    "- `dtype` : The type of the output array. If dtype is not given, infer the data type from the other input arguments.\n",
    "- `axis` : The axis in the result to store the samples. Relevant only if start or stop are array-like. By default (0), the samples will be along a new axis inserted at the beginning. Use -1 to get an axis at the end.\n"
   ]
  },
  {
   "cell_type": "code",
   "execution_count": null,
   "metadata": {
    "deletable": false,
    "editable": false,
    "nbgrader": {
     "checksum": "f5be0b958a6086fb42167f4c66d14a28",
     "grade": false,
     "grade_id": "cell-1f36cb92345b3410",
     "locked": true,
     "schema_version": 1,
     "solution": false
    }
   },
   "outputs": [],
   "source": [
    "# np.pi : iginally defined as the ratio of a circle's circumference to its diameter. \n",
    "# It is approximately equal to 3.14159.\n",
    "X = np.linspace(-np.pi, np.pi, 100)  #Return evenly spaced numbers over a specified interval.\n",
    "\n",
    "#np.cos(X) : cosine function\n",
    "#np.sin(X) : sine function\n",
    "\n",
    "C,S = np.cos(X), np.sin(X)\n",
    "\n"
   ]
  },
  {
   "cell_type": "markdown",
   "metadata": {
    "deletable": false,
    "editable": false,
    "nbgrader": {
     "checksum": "11336168b28eebf29de445d31d51a2ad",
     "grade": false,
     "grade_id": "cell-397ff3f5363b7872",
     "locked": true,
     "schema_version": 1,
     "solution": false
    }
   },
   "source": [
    "#### Plot the two curves C and S on the same graph"
   ]
  },
  {
   "cell_type": "code",
   "execution_count": null,
   "metadata": {
    "deletable": false,
    "nbgrader": {
     "checksum": "0329d8d9ff16dadb4f10423edf97c43e",
     "grade": false,
     "grade_id": "cell-17fe5b7346d3664a",
     "locked": false,
     "schema_version": 1,
     "solution": true
    }
   },
   "outputs": [],
   "source": [
    "# YOUR CODE HERE\n",
    "raise NotImplementedError()"
   ]
  },
  {
   "cell_type": "markdown",
   "metadata": {
    "deletable": false,
    "editable": false,
    "nbgrader": {
     "checksum": "b54ec22eecfc75940d457e299d9102a7",
     "grade": false,
     "grade_id": "cell-ae4413676f2dd782",
     "locked": true,
     "schema_version": 1,
     "solution": false
    }
   },
   "source": [
    "#### Now, choose a general style for our charts. \n"
   ]
  },
  {
   "cell_type": "code",
   "execution_count": null,
   "metadata": {
    "deletable": false,
    "nbgrader": {
     "checksum": "e6d3a070b190111e4f30585a6e5f6380",
     "grade": false,
     "grade_id": "cell-1cb3512ee85e41ca",
     "locked": false,
     "schema_version": 1,
     "solution": true
    }
   },
   "outputs": [],
   "source": [
    "# YOUR CODE HERE\n",
    "raise NotImplementedError()"
   ]
  },
  {
   "cell_type": "code",
   "execution_count": null,
   "metadata": {
    "deletable": false,
    "nbgrader": {
     "checksum": "85b32e421ed3ca0dc33e9324d9ae370b",
     "grade": false,
     "grade_id": "cell-4e50e1c13fe2cb4a",
     "locked": false,
     "schema_version": 1,
     "solution": true
    }
   },
   "outputs": [],
   "source": [
    "# YOUR CODE HERE\n",
    "raise NotImplementedError()"
   ]
  },
  {
   "cell_type": "markdown",
   "metadata": {
    "deletable": false,
    "editable": false,
    "nbgrader": {
     "checksum": "0925725dc01fdd772915fccc94d22e1a",
     "grade": false,
     "grade_id": "cell-cb4ecd2708be1d02",
     "locked": true,
     "schema_version": 1,
     "solution": false
    }
   },
   "source": [
    "#### Plot again C and S to see the style change"
   ]
  },
  {
   "cell_type": "code",
   "execution_count": null,
   "metadata": {
    "deletable": false,
    "nbgrader": {
     "checksum": "9e295dd9760f62ab1bbb6822df8b6da2",
     "grade": false,
     "grade_id": "cell-11828696513a111d",
     "locked": false,
     "schema_version": 1,
     "solution": true
    }
   },
   "outputs": [],
   "source": [
    "# YOUR CODE HERE\n",
    "raise NotImplementedError()"
   ]
  },
  {
   "cell_type": "markdown",
   "metadata": {
    "deletable": false,
    "editable": false,
    "nbgrader": {
     "checksum": "de70141ac93d01a45b47987a8d955708",
     "grade": false,
     "grade_id": "cell-c56e89037408d707",
     "locked": true,
     "schema_version": 1,
     "solution": false
    }
   },
   "source": [
    "\n",
    "Do not hesitate to test with other colours, labels, width of the line and style of the line"
   ]
  },
  {
   "cell_type": "markdown",
   "metadata": {
    "deletable": false,
    "editable": false,
    "nbgrader": {
     "checksum": "1237cb326423aaf65cac06e5c9559d8d",
     "grade": false,
     "grade_id": "cell-d8ef8ad9c64415ce",
     "locked": true,
     "schema_version": 1,
     "solution": false
    }
   },
   "source": [
    "### Modify the properties of each curve\n",
    "- Change the figure size to 20,10. \n",
    "- Plot cosine using red color with a continuous line of width 2 (pixels)\n",
    "- Plot sine using purple color with a dotted line of width 1 (pixels)\n",
    "- set the legend of the curves"
   ]
  },
  {
   "cell_type": "code",
   "execution_count": null,
   "metadata": {
    "deletable": false,
    "nbgrader": {
     "checksum": "c1198099cce45796acbd5108810d5d0c",
     "grade": false,
     "grade_id": "cell-1f93151180fcdfe3",
     "locked": false,
     "schema_version": 1,
     "solution": true
    }
   },
   "outputs": [],
   "source": [
    "# YOUR CODE HERE\n",
    "raise NotImplementedError()"
   ]
  },
  {
   "cell_type": "markdown",
   "metadata": {
    "deletable": false,
    "editable": false,
    "nbgrader": {
     "checksum": "3475532ac60696453a0f28fd5bb81874",
     "grade": false,
     "grade_id": "cell-6f93132967f87492",
     "locked": true,
     "schema_version": 1,
     "solution": false
    }
   },
   "source": [
    "### Change the scale of the graph\n",
    "\n",
    "\n",
    "\n",
    "Try several limits, ticks and titles."
   ]
  },
  {
   "cell_type": "markdown",
   "metadata": {
    "deletable": false,
    "editable": false,
    "nbgrader": {
     "checksum": "656da11271ab5182d8300f04ab2f016f",
     "grade": false,
     "grade_id": "cell-ce86d049cafef612",
     "locked": true,
     "schema_version": 1,
     "solution": false
    }
   },
   "source": [
    "- Set the x and y limits to -4, 4 for x-axis and -1.1, 1.1 for y-axis\n"
   ]
  },
  {
   "cell_type": "code",
   "execution_count": null,
   "metadata": {
    "deletable": false,
    "nbgrader": {
     "checksum": "cb0c698fde3c29efe49526b0a7ea60d2",
     "grade": false,
     "grade_id": "cell-7383fd29eb68e36f",
     "locked": false,
     "schema_version": 1,
     "solution": true
    }
   },
   "outputs": [],
   "source": [
    "# YOUR CODE HERE\n",
    "raise NotImplementedError()"
   ]
  },
  {
   "cell_type": "markdown",
   "metadata": {
    "deletable": false,
    "editable": false,
    "nbgrader": {
     "checksum": "747044d4ac858e37a998f97a64d7ca29",
     "grade": false,
     "grade_id": "cell-9c0c247c97989744",
     "locked": true,
     "schema_version": 1,
     "solution": false
    }
   },
   "source": [
    "- Set the x ticks to [-np.pi, -np.pi/2, 0, np.pi/2, np.pi]\n",
    "- set the x ticks labels to ['- \\pi/', '$-\\pi/2$', '$0$', '$+\\pi/2$', '$+\\pi$']\n"
   ]
  },
  {
   "cell_type": "code",
   "execution_count": null,
   "metadata": {
    "deletable": false,
    "nbgrader": {
     "checksum": "2e31fb9ab2fd42254160ac592627c39f",
     "grade": false,
     "grade_id": "cell-53e9c7a534b381ae",
     "locked": false,
     "schema_version": 1,
     "solution": true
    }
   },
   "outputs": [],
   "source": [
    "# YOUR CODE HERE\n",
    "raise NotImplementedError()"
   ]
  },
  {
   "cell_type": "markdown",
   "metadata": {
    "deletable": false,
    "editable": false,
    "nbgrader": {
     "checksum": "c3c6a8cebc76183e39441ce25809c180",
     "grade": false,
     "grade_id": "cell-789cbbcd60e2a0ed",
     "locked": true,
     "schema_version": 1,
     "solution": false
    }
   },
   "source": [
    "- Set the y ticks to -1, 1 with a spacing of 4. *Hint: Use the linspace function*"
   ]
  },
  {
   "cell_type": "code",
   "execution_count": null,
   "metadata": {
    "deletable": false,
    "nbgrader": {
     "checksum": "d7b1ba3d8889a32d444b22468c9a2c3f",
     "grade": false,
     "grade_id": "cell-f67e4429b484c1ae",
     "locked": false,
     "schema_version": 1,
     "solution": true
    }
   },
   "outputs": [],
   "source": [
    "# YOUR CODE HERE\n",
    "raise NotImplementedError()"
   ]
  },
  {
   "cell_type": "markdown",
   "metadata": {
    "deletable": false,
    "editable": false,
    "nbgrader": {
     "checksum": "e95b6ccf624b632d791b01ff89c32179",
     "grade": false,
     "grade_id": "cell-bfa3c5dd3f26e98c",
     "locked": true,
     "schema_version": 1,
     "solution": false
    }
   },
   "source": [
    "- Set labels and titles"
   ]
  },
  {
   "cell_type": "code",
   "execution_count": null,
   "metadata": {
    "deletable": false,
    "nbgrader": {
     "checksum": "4a6ee447900257e2fd51738dfa702243",
     "grade": false,
     "grade_id": "cell-27e26f13c9c614f2",
     "locked": false,
     "schema_version": 1,
     "solution": true
    }
   },
   "outputs": [],
   "source": [
    "# YOUR CODE HERE\n",
    "raise NotImplementedError()"
   ]
  },
  {
   "cell_type": "markdown",
   "metadata": {
    "deletable": false,
    "editable": false,
    "nbgrader": {
     "checksum": "e1c7556a54a86db8279835ce77cb0aff",
     "grade": false,
     "grade_id": "cell-95fa966b5d3ac510",
     "locked": true,
     "schema_version": 1,
     "solution": false
    }
   },
   "source": [
    "#### Copy all the above steps in one cell and execute it."
   ]
  },
  {
   "cell_type": "code",
   "execution_count": null,
   "metadata": {
    "deletable": false,
    "nbgrader": {
     "checksum": "6913e748a37d165c2d55fe184e7662c7",
     "grade": false,
     "grade_id": "cell-d5cc9db18820f3f3",
     "locked": false,
     "schema_version": 1,
     "solution": true
    }
   },
   "outputs": [],
   "source": [
    "# YOUR CODE HERE\n",
    "raise NotImplementedError()"
   ]
  },
  {
   "cell_type": "markdown",
   "metadata": {
    "deletable": false,
    "editable": false,
    "nbgrader": {
     "checksum": "867133442b292014ba5b9771a980ed03",
     "grade": false,
     "grade_id": "cell-c435ce43c515db69",
     "locked": true,
     "schema_version": 1,
     "solution": false
    }
   },
   "source": [
    "### Creating subplots\n"
   ]
  },
  {
   "cell_type": "code",
   "execution_count": null,
   "metadata": {
    "deletable": false,
    "editable": false,
    "nbgrader": {
     "checksum": "b83e1a6faea14bf3b8db0b9074fa0d0a",
     "grade": false,
     "grade_id": "cell-c1208aeedf5c1673",
     "locked": true,
     "schema_version": 1,
     "solution": false
    }
   },
   "outputs": [],
   "source": [
    "df=pd.DataFrame({'Cos':C, 'Sin':S}, index=X )\n"
   ]
  },
  {
   "cell_type": "markdown",
   "metadata": {
    "deletable": false,
    "editable": false,
    "nbgrader": {
     "checksum": "f8bc7f3c41438e7bdbc78b30ac6dcf2d",
     "grade": false,
     "grade_id": "cell-b20b50b13aeff567",
     "locked": true,
     "schema_version": 1,
     "solution": false
    }
   },
   "source": [
    "- create subplots to plot the sine and cosine figures. Use the variable fig to hold the figure and axe0, axe1 to hold the subplots. Set the figure size and the resolution as you wish\n",
    "- plot in ax0 the Cosine function and in ax1 the Sine function\n",
    "- Set the titles as well as the x and y labels of the subfigures and the figure\n",
    "\n"
   ]
  },
  {
   "cell_type": "code",
   "execution_count": null,
   "metadata": {
    "deletable": false,
    "nbgrader": {
     "checksum": "891b39ecdc39683ba7148340d4980e3a",
     "grade": false,
     "grade_id": "cell-a5458ab50c921ae7",
     "locked": false,
     "schema_version": 1,
     "solution": true
    }
   },
   "outputs": [],
   "source": [
    "# YOUR CODE HERE\n",
    "raise NotImplementedError()"
   ]
  },
  {
   "cell_type": "markdown",
   "metadata": {
    "deletable": false,
    "editable": false,
    "nbgrader": {
     "checksum": "2653ba3701b611ba0d2301c70b77dd0c",
     "grade": false,
     "grade_id": "cell-16f73ac1056db5c9",
     "locked": true,
     "schema_version": 1,
     "solution": false
    }
   },
   "source": [
    "How to save a plot ? "
   ]
  },
  {
   "cell_type": "code",
   "execution_count": null,
   "metadata": {
    "deletable": false,
    "editable": false,
    "nbgrader": {
     "checksum": "da192a64e575209989ffd4c659e54341",
     "grade": false,
     "grade_id": "cell-1e0e16bc58057a02",
     "locked": true,
     "schema_version": 1,
     "solution": false
    }
   },
   "outputs": [],
   "source": [
    "fig.savefig('kick.png', transparent=False, dpi=80, bbox_inches=\"tight\")"
   ]
  },
  {
   "cell_type": "markdown",
   "metadata": {
    "deletable": false,
    "editable": false,
    "nbgrader": {
     "checksum": "0a5295be6eff4ee9c03696ec4610dd33",
     "grade": false,
     "grade_id": "cell-657056978a3abc44",
     "locked": true,
     "schema_version": 1,
     "solution": false
    }
   },
   "source": [
    "## Different examples of graph\n"
   ]
  },
  {
   "cell_type": "markdown",
   "metadata": {
    "deletable": false,
    "editable": false,
    "nbgrader": {
     "checksum": "3f0d8b15cfc52fe729f92a1b965d9fe4",
     "grade": false,
     "grade_id": "cell-efcd88fc764dac6e",
     "locked": true,
     "schema_version": 1,
     "solution": false
    }
   },
   "source": [
    "### Scatter plot "
   ]
  },
  {
   "cell_type": "code",
   "execution_count": null,
   "metadata": {
    "deletable": false,
    "editable": false,
    "nbgrader": {
     "checksum": "a6b4804c06a1b9c1bffb7f2d9245c67c",
     "grade": false,
     "grade_id": "cell-c0c71ff7b947e8f7",
     "locked": true,
     "schema_version": 1,
     "solution": false
    }
   },
   "outputs": [],
   "source": [
    "n = 2017\n",
    "X = np.random.normal(0,1,n)\n",
    "Y = np.random.normal(0,1,n)"
   ]
  },
  {
   "cell_type": "markdown",
   "metadata": {
    "deletable": false,
    "editable": false,
    "nbgrader": {
     "checksum": "3f19dedd16103d8b370b3defdacb8ce4",
     "grade": false,
     "grade_id": "cell-13730da1abc9d3a7",
     "locked": true,
     "schema_version": 1,
     "solution": false
    }
   },
   "source": [
    "#### Plot the scatter plot. Set alpha, points size and marker"
   ]
  },
  {
   "cell_type": "code",
   "execution_count": null,
   "metadata": {
    "deletable": false,
    "nbgrader": {
     "checksum": "fa15423482b1115d697d1e30342f89bd",
     "grade": false,
     "grade_id": "cell-8b347a9190fd242b",
     "locked": false,
     "schema_version": 1,
     "solution": true
    }
   },
   "outputs": [],
   "source": [
    "# YOUR CODE HERE\n",
    "raise NotImplementedError()"
   ]
  },
  {
   "cell_type": "markdown",
   "metadata": {
    "deletable": false,
    "editable": false,
    "nbgrader": {
     "checksum": "15272734a2372109b928728e155d8891",
     "grade": false,
     "grade_id": "cell-c6d5520317f28f9a",
     "locked": true,
     "schema_version": 1,
     "solution": false
    }
   },
   "source": [
    "### Bar chart "
   ]
  },
  {
   "cell_type": "code",
   "execution_count": null,
   "metadata": {
    "deletable": false,
    "editable": false,
    "nbgrader": {
     "checksum": "5ca57ad244f7a91f114cfc9dfee5309c",
     "grade": false,
     "grade_id": "cell-fe8473063f639425",
     "locked": true,
     "schema_version": 1,
     "solution": false
    }
   },
   "outputs": [],
   "source": [
    "n = 15\n",
    "X = np.arange(n)\n",
    "Y1 = (1-X/float(n)) * np.random.uniform(0.5,1.0,n)\n",
    "Y2 = (1-X/float(n)) * np.random.uniform(0.5,1.0,n)"
   ]
  },
  {
   "cell_type": "markdown",
   "metadata": {
    "deletable": false,
    "editable": false,
    "nbgrader": {
     "checksum": "707111b903d5dd077676170f14f7d16f",
     "grade": false,
     "grade_id": "cell-e12b22b47d7df356",
     "locked": true,
     "schema_version": 1,
     "solution": false
    }
   },
   "source": [
    "#### Plot the bar plot of Y1 and Y2. Set Y2 to negative. \n",
    "Set different `facecolor` values and `edgecolor='blue'`  for Y1, `edgecolor=['red']*len(X)` for Y2"
   ]
  },
  {
   "cell_type": "code",
   "execution_count": null,
   "metadata": {
    "deletable": false,
    "nbgrader": {
     "checksum": "2e019e882c89d14d29023c11328d52fd",
     "grade": false,
     "grade_id": "cell-999c39b41f0b8627",
     "locked": false,
     "schema_version": 1,
     "solution": true
    }
   },
   "outputs": [],
   "source": [
    "# YOUR CODE HERE\n",
    "raise NotImplementedError()"
   ]
  },
  {
   "cell_type": "markdown",
   "metadata": {
    "deletable": false,
    "editable": false,
    "nbgrader": {
     "checksum": "c5afd3d2e579c247f6a4e596a6a04b73",
     "grade": false,
     "grade_id": "cell-3864f7297b019873",
     "locked": true,
     "schema_version": 1,
     "solution": false
    }
   },
   "source": [
    "### Histogram"
   ]
  },
  {
   "cell_type": "code",
   "execution_count": null,
   "metadata": {
    "deletable": false,
    "nbgrader": {
     "checksum": "5d70cea3871eafa956dc78378a92ca82",
     "grade": false,
     "grade_id": "cell-c0ceffbf8a313515",
     "locked": false,
     "schema_version": 1,
     "solution": true
    }
   },
   "outputs": [],
   "source": [
    "# YOUR CODE HERE\n",
    "raise NotImplementedError()"
   ]
  },
  {
   "cell_type": "markdown",
   "metadata": {
    "deletable": false,
    "editable": false,
    "nbgrader": {
     "checksum": "4e147bbeb1aec4a70a70de94dba543e8",
     "grade": false,
     "grade_id": "cell-99551bd957c61ea1",
     "locked": true,
     "schema_version": 1,
     "solution": false
    }
   },
   "source": [
    "#### Plot the histogram. set the bins; histtype to 'step' and orientation to horizontal"
   ]
  },
  {
   "cell_type": "code",
   "execution_count": null,
   "metadata": {
    "deletable": false,
    "nbgrader": {
     "checksum": "0e8b5a641062678d8a488fb8f314e62c",
     "grade": false,
     "grade_id": "cell-83fa773e69288133",
     "locked": false,
     "schema_version": 1,
     "solution": true
    }
   },
   "outputs": [],
   "source": [
    "# YOUR CODE HERE\n",
    "raise NotImplementedError()"
   ]
  },
  {
   "cell_type": "markdown",
   "metadata": {
    "deletable": false,
    "editable": false,
    "nbgrader": {
     "checksum": "c951449cdfb50f06800d2c58fc00ce20",
     "grade": false,
     "grade_id": "cell-499c5e8cfc07402f",
     "locked": true,
     "schema_version": 1,
     "solution": false
    }
   },
   "source": [
    "### Area line"
   ]
  },
  {
   "cell_type": "code",
   "execution_count": null,
   "metadata": {
    "deletable": false,
    "editable": false,
    "nbgrader": {
     "checksum": "c4384f4531876a9e0b685e07b2a5eb81",
     "grade": false,
     "grade_id": "cell-9cec0ace065963d1",
     "locked": true,
     "schema_version": 1,
     "solution": false
    }
   },
   "outputs": [],
   "source": [
    "df = pd.DataFrame({'sales': [3, 2, 3, 9, 10, 6],\n",
    "                   'signups': [5, 5, 6, 12, 14, 13],\n",
    "                   'visits': [20, 42, 28, 62, 81, 50]}, index=pd.date_range(start='2018/01/01', end='2018/07/01',freq='M'))\n"
   ]
  },
  {
   "cell_type": "markdown",
   "metadata": {
    "deletable": false,
    "editable": false,
    "nbgrader": {
     "checksum": "da4160f3ee3acef85acf49120997640f",
     "grade": false,
     "grade_id": "cell-bf05daa171738f14",
     "locked": true,
     "schema_version": 1,
     "solution": false
    }
   },
   "source": [
    "#### Plot the area of the data in the dataframe"
   ]
  },
  {
   "cell_type": "code",
   "execution_count": null,
   "metadata": {
    "deletable": false,
    "nbgrader": {
     "checksum": "6fdebf22530eea5a2df3a525afb31c86",
     "grade": false,
     "grade_id": "cell-ca9a7a76329d6fea",
     "locked": false,
     "schema_version": 1,
     "solution": true
    }
   },
   "outputs": [],
   "source": [
    "# YOUR CODE HERE\n",
    "raise NotImplementedError()"
   ]
  },
  {
   "cell_type": "markdown",
   "metadata": {
    "deletable": false,
    "editable": false,
    "nbgrader": {
     "checksum": "bf0918b846b0b4bded4997e2b7b9c279",
     "grade": false,
     "grade_id": "cell-e9425ee0c5a6ccb6",
     "locked": true,
     "schema_version": 1,
     "solution": false
    }
   },
   "source": [
    "Check this as well."
   ]
  },
  {
   "cell_type": "code",
   "execution_count": null,
   "metadata": {
    "deletable": false,
    "editable": false,
    "nbgrader": {
     "checksum": "ac812302da5ec143fe9051efda540b19",
     "grade": false,
     "grade_id": "cell-40651b9da93c7c7c",
     "locked": true,
     "schema_version": 1,
     "solution": false
    }
   },
   "outputs": [],
   "source": [
    "x=np.linspace(0,10, 5)\n",
    "var1=np.random.randint(0,10,5)\n",
    "var2=np.random.randint(0,10,5)\n",
    "var3=np.random.randint(0,10,5)\n",
    "\n",
    "plt.figure(figsize=(20,10))\n",
    "plt.plot([],[],color='blue',label='var1')\n",
    "plt.plot([],[],color='black',label='var2')\n",
    "plt.plot([],[],color='gold',label='var3')\n",
    "plt.stackplot(x,var1,var2,var3,colors=['blue','black','gold'])"
   ]
  },
  {
   "cell_type": "code",
   "execution_count": null,
   "metadata": {
    "deletable": false,
    "editable": false,
    "nbgrader": {
     "checksum": "94ef26130d43b911c9510c6061a60537",
     "grade": false,
     "grade_id": "cell-a2fe0b1acdcdc4dc",
     "locked": true,
     "schema_version": 1,
     "solution": false
    }
   },
   "outputs": [],
   "source": [
    "var1"
   ]
  },
  {
   "cell_type": "markdown",
   "metadata": {
    "deletable": false,
    "editable": false,
    "nbgrader": {
     "checksum": "ded6c24159c9ad35856b7cadaadd376d",
     "grade": false,
     "grade_id": "cell-0f0b19b677c317d6",
     "locked": true,
     "schema_version": 1,
     "solution": false
    }
   },
   "source": [
    "### Pie chart"
   ]
  },
  {
   "cell_type": "code",
   "execution_count": null,
   "metadata": {
    "deletable": false,
    "editable": false,
    "nbgrader": {
     "checksum": "1719157d989fefd2a4d84d22eb5ef4ec",
     "grade": false,
     "grade_id": "cell-43e794126158469b",
     "locked": true,
     "schema_version": 1,
     "solution": false
    }
   },
   "outputs": [],
   "source": [
    "value=[28,15,15,42]\n",
    "element=['tomato sauce','beef','cheese','pasta']\n",
    "cols=['red','brown','yellow','wheat']"
   ]
  },
  {
   "cell_type": "code",
   "execution_count": null,
   "metadata": {
    "deletable": false,
    "nbgrader": {
     "checksum": "66206aff36b9cfdecd1ad5961db6ba7c",
     "grade": false,
     "grade_id": "cell-c8909e8171f96c46",
     "locked": false,
     "schema_version": 1,
     "solution": true
    }
   },
   "outputs": [],
   "source": [
    "# YOUR CODE HERE\n",
    "raise NotImplementedError()"
   ]
  },
  {
   "cell_type": "markdown",
   "metadata": {
    "collapsed": true,
    "deletable": false,
    "editable": false,
    "nbgrader": {
     "checksum": "cb4c95666fc9871281fc0fc69feeb6e3",
     "grade": false,
     "grade_id": "cell-3f199a4458be8a8b",
     "locked": true,
     "schema_version": 1,
     "solution": false
    }
   },
   "source": [
    "## Seaborn\n",
    "\n",
    "To practice with Seaborn, we will work with the database videogames_data. \n",
    "This database contains data about video games such as the rank, the year it went public, type, publisher, and sales (in Europe, Japan, North America, Global, etc..)\n",
    "\n",
    "\n",
    "The database is stored on the server of Emlyon. \n",
    "The following code will load the database and put it in a dataframe `videogames`. Don't worry about the code to access the database. You will learn this in the next lectures. Just execute the following code and lets get going into experimenting with Seaborn."
   ]
  },
  {
   "cell_type": "code",
   "execution_count": null,
   "metadata": {
    "deletable": false,
    "editable": false,
    "nbgrader": {
     "checksum": "e454f6d690fed8ff20767b35ec691c88",
     "grade": false,
     "grade_id": "cell-b200ad42eef4134b",
     "locked": true,
     "schema_version": 1,
     "solution": false
    }
   },
   "outputs": [],
   "source": [
    "import pandas as pd\n",
    "import numpy as np\n",
    "import matplotlib.pyplot as plt\n",
    "%matplotlib inline\n",
    "from collections import Counter\n",
    "import datetime as dt\n",
    "\n"
   ]
  },
  {
   "cell_type": "code",
   "execution_count": null,
   "metadata": {
    "deletable": false,
    "editable": false,
    "nbgrader": {
     "checksum": "27fac0000cc6abb263405ddd671b90e9",
     "grade": false,
     "grade_id": "cell-95d1ca10b5e78a4e",
     "locked": true,
     "schema_version": 1,
     "solution": false
    }
   },
   "outputs": [],
   "source": [
    "import pymysql\n",
    "server = '10.126.8.140'\n",
    "username = \"student1\"\n",
    "password = \"student1\"\n"
   ]
  },
  {
   "cell_type": "code",
   "execution_count": null,
   "metadata": {
    "deletable": false,
    "editable": false,
    "nbgrader": {
     "checksum": "457eeeb22a1e61e4d835e288c04d277e",
     "grade": false,
     "grade_id": "cell-105f1fbc34bd997b",
     "locked": true,
     "schema_version": 1,
     "solution": false
    }
   },
   "outputs": [],
   "source": [
    "connection = pymysql.connect(host=server,\n",
    "                             user=username,\n",
    "                             password=password,\n",
    "                             db='videogames_data',\n",
    "                             charset='utf8')\n",
    "SQL = \"SELECT * FROM videogames_data.sales\"\n",
    "videogames = pd.read_sql(SQL, connection)\n",
    "videogames.Global_Sales=videogames.Global_Sales.replace('','0')\n",
    "for i in [6,7,8,9,10]:\n",
    "    videogames.iloc[:,i]=videogames.iloc[:,i].map(lambda x: float(x))\n",
    "\n"
   ]
  },
  {
   "cell_type": "markdown",
   "metadata": {
    "deletable": false,
    "editable": false,
    "nbgrader": {
     "checksum": "18e895363de1f23c828f8f52cb99af4a",
     "grade": false,
     "grade_id": "cell-b8ad7ca5144eb4a2",
     "locked": true,
     "schema_version": 1,
     "solution": false
    }
   },
   "source": [
    "### Import seaborn"
   ]
  },
  {
   "cell_type": "code",
   "execution_count": null,
   "metadata": {
    "deletable": false,
    "nbgrader": {
     "checksum": "6078170aaf9accc04197faff0fe208fb",
     "grade": false,
     "grade_id": "cell-6fbf29cce69f4833",
     "locked": false,
     "schema_version": 1,
     "solution": true
    }
   },
   "outputs": [],
   "source": [
    "# YOUR CODE HERE\n",
    "raise NotImplementedError()"
   ]
  },
  {
   "cell_type": "code",
   "execution_count": null,
   "metadata": {
    "deletable": false,
    "editable": false,
    "nbgrader": {
     "checksum": "b69cba7af3aa9de8394b81f4f202cdc9",
     "grade": false,
     "grade_id": "cell-3a1eac674c628576",
     "locked": true,
     "schema_version": 1,
     "solution": false
    }
   },
   "outputs": [],
   "source": [
    "videogames.head()"
   ]
  },
  {
   "cell_type": "markdown",
   "metadata": {
    "deletable": false,
    "editable": false,
    "nbgrader": {
     "checksum": "dd2ae2a151051289ea206b2e0d8ca283",
     "grade": false,
     "grade_id": "cell-25bf2aab2beb3c2f",
     "locked": true,
     "schema_version": 1,
     "solution": false
    }
   },
   "source": [
    "### Plot the relationship between Sales in Europe and Sales Globally."
   ]
  },
  {
   "cell_type": "code",
   "execution_count": null,
   "metadata": {
    "deletable": false,
    "nbgrader": {
     "checksum": "91ac8274351040229bd700c42b539bd8",
     "grade": false,
     "grade_id": "cell-a543061b3098211a",
     "locked": false,
     "schema_version": 1,
     "solution": true
    }
   },
   "outputs": [],
   "source": [
    "# YOUR CODE HERE\n",
    "raise NotImplementedError()"
   ]
  },
  {
   "cell_type": "markdown",
   "metadata": {
    "deletable": false,
    "editable": false,
    "nbgrader": {
     "checksum": "9a106d5ba613e56facd68e787a167d8e",
     "grade": false,
     "grade_id": "cell-fe4f248e81f061fd",
     "locked": true,
     "schema_version": 1,
     "solution": false
    }
   },
   "source": [
    "### Plot European sales in function of Global sales. Color the points in function of the type 'Genre'"
   ]
  },
  {
   "cell_type": "code",
   "execution_count": null,
   "metadata": {
    "deletable": false,
    "nbgrader": {
     "checksum": "9b055ebafde1dd0e10eb62086d4d0b59",
     "grade": false,
     "grade_id": "cell-510654956da53a25",
     "locked": false,
     "schema_version": 1,
     "solution": true
    }
   },
   "outputs": [],
   "source": [
    "# YOUR CODE HERE\n",
    "raise NotImplementedError()"
   ]
  },
  {
   "cell_type": "markdown",
   "metadata": {
    "deletable": false,
    "editable": false,
    "nbgrader": {
     "checksum": "75c5fbdfa86de342b9f9fde046910e83",
     "grade": false,
     "grade_id": "cell-0a34c3bc08df06d2",
     "locked": true,
     "schema_version": 1,
     "solution": false
    }
   },
   "source": [
    "### Check if there are some data where the Year is equal to 0"
   ]
  },
  {
   "cell_type": "code",
   "execution_count": null,
   "metadata": {
    "deletable": false,
    "nbgrader": {
     "checksum": "05cee199539410e35ad0b4777da11de4",
     "grade": false,
     "grade_id": "cell-e9373ebf64a05750",
     "locked": false,
     "schema_version": 1,
     "solution": true
    }
   },
   "outputs": [],
   "source": [
    "# YOUR CODE HERE\n",
    "raise NotImplementedError()"
   ]
  },
  {
   "cell_type": "markdown",
   "metadata": {
    "deletable": false,
    "editable": false,
    "nbgrader": {
     "checksum": "851231ab21ae7fa4802829f030f3bdbe",
     "grade": false,
     "grade_id": "cell-3d0233471d9eba4a",
     "locked": true,
     "schema_version": 1,
     "solution": false
    }
   },
   "source": [
    "### When the Year is 0, replace the 'Genre' by NAN. `Use np.nan`. Then remove these lines using `dropna()`"
   ]
  },
  {
   "cell_type": "code",
   "execution_count": null,
   "metadata": {
    "deletable": false,
    "nbgrader": {
     "checksum": "528c9bcdeecebc2a16e4b201820b4abd",
     "grade": false,
     "grade_id": "cell-7053fdfe8fb95210",
     "locked": false,
     "schema_version": 1,
     "solution": true
    }
   },
   "outputs": [],
   "source": [
    "# YOUR CODE HERE\n",
    "raise NotImplementedError()"
   ]
  },
  {
   "cell_type": "markdown",
   "metadata": {
    "deletable": false,
    "editable": false,
    "nbgrader": {
     "checksum": "640319d83d36924d551fe75ec242bcc2",
     "grade": false,
     "grade_id": "cell-a4559cdd0d4dc28a",
     "locked": true,
     "schema_version": 1,
     "solution": false
    }
   },
   "source": [
    "### Draw the boxplot of the type 'Genre' in function of the year between the years 1987 and 2018. Set the xticks labels to Types. Use `videogames.Genre.unique()`."
   ]
  },
  {
   "cell_type": "code",
   "execution_count": null,
   "metadata": {
    "deletable": false,
    "nbgrader": {
     "checksum": "c8d31a47497319145daa5cdb845606a9",
     "grade": false,
     "grade_id": "cell-8bd36cbe61cb8892",
     "locked": false,
     "schema_version": 1,
     "solution": true
    }
   },
   "outputs": [],
   "source": [
    "# YOUR CODE HERE\n",
    "raise NotImplementedError()"
   ]
  },
  {
   "cell_type": "markdown",
   "metadata": {
    "deletable": false,
    "editable": false,
    "nbgrader": {
     "checksum": "aecf48dd10efb70a647d9b2619248712",
     "grade": false,
     "grade_id": "cell-92afee8f9c193762",
     "locked": true,
     "schema_version": 1,
     "solution": false
    }
   },
   "source": [
    "### Plot the violin plot of 'Genre' in funtion of 'Year'. Set the xticks labels as above."
   ]
  },
  {
   "cell_type": "code",
   "execution_count": null,
   "metadata": {
    "deletable": false,
    "nbgrader": {
     "checksum": "dca2c194b5b855efd601c6c81215edcb",
     "grade": false,
     "grade_id": "cell-3955ae179ab7f20b",
     "locked": false,
     "schema_version": 1,
     "solution": true
    }
   },
   "outputs": [],
   "source": [
    "# YOUR CODE HERE\n",
    "raise NotImplementedError()"
   ]
  },
  {
   "cell_type": "markdown",
   "metadata": {
    "deletable": false,
    "editable": false,
    "nbgrader": {
     "checksum": "cf47bb627aafa9493d47826f67f8457f",
     "grade": false,
     "grade_id": "cell-a0a62905d3db7093",
     "locked": true,
     "schema_version": 1,
     "solution": false
    }
   },
   "source": [
    "### Create a new dataframe called df which contains data befor year 1995."
   ]
  },
  {
   "cell_type": "code",
   "execution_count": null,
   "metadata": {
    "deletable": false,
    "nbgrader": {
     "checksum": "d14c41d20125487dab0480ed71133c8e",
     "grade": false,
     "grade_id": "cell-10020d5161fc3c33",
     "locked": false,
     "schema_version": 1,
     "solution": true
    }
   },
   "outputs": [],
   "source": [
    "# YOUR CODE HERE\n",
    "raise NotImplementedError()"
   ]
  },
  {
   "cell_type": "markdown",
   "metadata": {
    "deletable": false,
    "editable": false,
    "nbgrader": {
     "checksum": "6b03a6230b6916ff30151dbbda4f480d",
     "grade": false,
     "grade_id": "cell-11120e81510ef8bd",
     "locked": true,
     "schema_version": 1,
     "solution": false
    }
   },
   "source": [
    "### Draw the swarplot of 'Genre' in function of 'Year'. Set the year limits to 1975 and 2020.  \n",
    "Remove the legend. Set the xtick labels as above."
   ]
  },
  {
   "cell_type": "code",
   "execution_count": null,
   "metadata": {
    "deletable": false,
    "nbgrader": {
     "checksum": "6959aac242235167aac529ae50285373",
     "grade": false,
     "grade_id": "cell-b8be2c1c9c6ed091",
     "locked": false,
     "schema_version": 1,
     "solution": true
    }
   },
   "outputs": [],
   "source": [
    "# YOUR CODE HERE\n",
    "raise NotImplementedError()"
   ]
  },
  {
   "cell_type": "markdown",
   "metadata": {
    "deletable": false,
    "editable": false,
    "nbgrader": {
     "checksum": "cfff1f3ac15a55c12579e52503c80658",
     "grade": false,
     "grade_id": "cell-efbacb074e8d079e",
     "locked": true,
     "schema_version": 1,
     "solution": false
    }
   },
   "source": [
    "### Repeat the same thing without setting the year limits. Notice the difference."
   ]
  },
  {
   "cell_type": "code",
   "execution_count": null,
   "metadata": {
    "deletable": false,
    "nbgrader": {
     "checksum": "53fcb9fd64c4751e5d6ae330c6d8f2ce",
     "grade": false,
     "grade_id": "cell-960c332bfba9b85d",
     "locked": false,
     "schema_version": 1,
     "solution": true
    }
   },
   "outputs": [],
   "source": [
    "# YOUR CODE HERE\n",
    "raise NotImplementedError()"
   ]
  },
  {
   "cell_type": "markdown",
   "metadata": {
    "deletable": false,
    "editable": false,
    "nbgrader": {
     "checksum": "89506545d62c597ad3cff46b7d879697",
     "grade": false,
     "grade_id": "cell-1c5549d3a580c251",
     "locked": true,
     "schema_version": 1,
     "solution": false
    }
   },
   "source": [
    "### Create a new data frame that satisfy the following conditions:\n",
    "- Type is 'Sports','Racing','Action'\n",
    "- Year greater than 2010\n"
   ]
  },
  {
   "cell_type": "code",
   "execution_count": null,
   "metadata": {
    "deletable": false,
    "nbgrader": {
     "checksum": "66593a82e3e16bfbb827bc125a5a6593",
     "grade": false,
     "grade_id": "cell-8f5ca7f361fc3b22",
     "locked": false,
     "schema_version": 1,
     "solution": true
    }
   },
   "outputs": [],
   "source": [
    "# YOUR CODE HERE\n",
    "raise NotImplementedError()"
   ]
  },
  {
   "cell_type": "markdown",
   "metadata": {
    "deletable": false,
    "editable": false,
    "nbgrader": {
     "checksum": "1aa0d1bd509d1a7bbd800cfbc36e918c",
     "grade": false,
     "grade_id": "cell-f5164cf637b5a4cd",
     "locked": true,
     "schema_version": 1,
     "solution": false
    }
   },
   "source": [
    "###  Choose 100 samples"
   ]
  },
  {
   "cell_type": "code",
   "execution_count": null,
   "metadata": {
    "deletable": false,
    "editable": false,
    "nbgrader": {
     "checksum": "b943c779d2af97d58500a8d75a451c73",
     "grade": false,
     "grade_id": "cell-5e0e52d8b0a396c1",
     "locked": true,
     "schema_version": 1,
     "solution": false
    }
   },
   "outputs": [],
   "source": [
    "df = df.sample(100)\n",
    "df"
   ]
  },
  {
   "cell_type": "markdown",
   "metadata": {},
   "source": [
    "### Draw the factor plot of Global Sales in function of the Year. Color by Type, Separate by Type, Use Swarm plot."
   ]
  },
  {
   "cell_type": "code",
   "execution_count": null,
   "metadata": {
    "deletable": false,
    "nbgrader": {
     "checksum": "c8821123afdacebdc00ca858a5d212d2",
     "grade": false,
     "grade_id": "cell-18574af3bfc313b7",
     "locked": false,
     "schema_version": 1,
     "solution": true
    }
   },
   "outputs": [],
   "source": [
    "# YOUR CODE HERE\n",
    "raise NotImplementedError()"
   ]
  },
  {
   "cell_type": "markdown",
   "metadata": {
    "deletable": false,
    "editable": false,
    "nbgrader": {
     "checksum": "d24394452f104c1c458798272c6ee355",
     "grade": false,
     "grade_id": "cell-84dde53344eb1537",
     "locked": true,
     "schema_version": 1,
     "solution": false
    }
   },
   "source": [
    "### Draw the countplot of each year in the dataframe"
   ]
  },
  {
   "cell_type": "code",
   "execution_count": null,
   "metadata": {
    "deletable": false,
    "nbgrader": {
     "checksum": "231a3fd36aa1e2dd7c7a3d4bdd42634c",
     "grade": false,
     "grade_id": "cell-69712c360674b835",
     "locked": false,
     "schema_version": 1,
     "solution": true
    }
   },
   "outputs": [],
   "source": [
    "# YOUR CODE HERE\n",
    "raise NotImplementedError()"
   ]
  },
  {
   "cell_type": "markdown",
   "metadata": {
    "deletable": false,
    "editable": false,
    "nbgrader": {
     "checksum": "06977cc7ba5d0f49582c277bf1298197",
     "grade": false,
     "grade_id": "cell-6e374a7c3893f38f",
     "locked": true,
     "schema_version": 1,
     "solution": false
    }
   },
   "source": [
    "### Plot the distribution of the Global Sales for the video games whose rank is less than 100. "
   ]
  },
  {
   "cell_type": "code",
   "execution_count": null,
   "metadata": {
    "deletable": false,
    "nbgrader": {
     "checksum": "360eccde9dc1b2c1f36360ca7c380d0b",
     "grade": false,
     "grade_id": "cell-edf12670c57793d2",
     "locked": false,
     "schema_version": 1,
     "solution": true
    }
   },
   "outputs": [],
   "source": [
    "# YOUR CODE HERE\n",
    "raise NotImplementedError()"
   ]
  }
 ],
 "metadata": {
  "anaconda-cloud": {},
  "kernelspec": {
   "display_name": "Python 3",
   "language": "python",
   "name": "python3"
  },
  "language_info": {
   "codemirror_mode": {
    "name": "ipython",
    "version": 3
   },
   "file_extension": ".py",
   "mimetype": "text/x-python",
   "name": "python",
   "nbconvert_exporter": "python",
   "pygments_lexer": "ipython3",
   "version": "3.8.3"
  },
  "toc": {
   "base_numbering": 1,
   "nav_menu": {},
   "number_sections": true,
   "sideBar": true,
   "skip_h1_title": false,
   "title_cell": "Table of Contents",
   "title_sidebar": "Contents",
   "toc_cell": false,
   "toc_position": {
    "height": "calc(100% - 180px)",
    "left": "10px",
    "top": "150px",
    "width": "338.8235168457031px"
   },
   "toc_section_display": true,
   "toc_window_display": true
  }
 },
 "nbformat": 4,
 "nbformat_minor": 1
}
