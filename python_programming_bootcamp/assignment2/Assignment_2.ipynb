{
 "cells": [
  {
   "cell_type": "markdown",
   "metadata": {},
   "source": [
    "Before you turn this problem in, make sure everything runs as expected. First, **restart the kernel** (in the menubar, select Kernel$\\rightarrow$Restart) and then **run all cells** (in the menubar, select Cell$\\rightarrow$Run All). Check your output to make sure it all looks as you expected.\n",
    "\n",
    "Make sure you fill in any place that says `YOUR CODE HERE` or \"YOUR ANSWER HERE\", as well as your name below:"
   ]
  },
  {
   "cell_type": "code",
   "execution_count": 1,
   "metadata": {},
   "outputs": [],
   "source": [
    "NAME = \"DUCROCQ Romain\""
   ]
  },
  {
   "cell_type": "markdown",
   "metadata": {},
   "source": [
    "---"
   ]
  },
  {
   "cell_type": "markdown",
   "metadata": {
    "deletable": false,
    "editable": false,
    "nbgrader": {
     "cell_type": "markdown",
     "checksum": "b543a884c5edc9339dc2eb5bc7163634",
     "grade": false,
     "grade_id": "cell-54ef91cd2b609f82",
     "locked": true,
     "schema_version": 3,
     "solution": false,
     "task": false
    }
   },
   "source": [
    "You should have read all the readings and content from the lectures given on Brightspace.\n"
   ]
  },
  {
   "cell_type": "markdown",
   "metadata": {
    "deletable": false,
    "editable": false,
    "nbgrader": {
     "cell_type": "markdown",
     "checksum": "ffab2a5a20d53eb0bba4b371403d1f99",
     "grade": false,
     "grade_id": "cell-94d973ea451da2ff",
     "locked": true,
     "schema_version": 3,
     "solution": false,
     "task": false
    }
   },
   "source": [
    "In order to make it easy to grade your works, here are the notes you should read and follow carrefully.  We will take off points for not following them. We will grade based on assuming you have read and understood them.\n",
    "    \n",
    "1. **Using the Notebook to Show Your Work**: You must learn to write code in the notebook... It is a core tool for data science and will make it easier to develop and document your work if you become good at using it. Writing your code in another tool and pasting it into the notebook will probably not work well: Some of you forgot to include code elsewhere, or the spacing became messed up, or it didn't run as copied.  You must be sure your code cells execute because we will test them.  So learn how to run code in the notebook cells to double check your work.\n",
    "2. **Read Directions Carefully**:  The instructions for your code are very important. If you don't follow the requirements, your application won't do as requested. Making it work correctly is part of learning to program.  If we worded something unclearly, send an e-mail to your professor.\n",
    "\n",
    "The second set of issues are coding style:\n",
    "\n",
    "1. **Indentation**: In Python, indentation matters and must be consistent. If you write your code in the Notebook, the tab key will indent properly.  If you use another editor and paste into the notebook, it might not be correctly indented (When you do write code in another editor, make sure you set your tabs to indent as 4 spaces, not as a tab character.)  You must make sure that your pasted code runs in the notebook or it will not get a good grade.\n",
    "2. **Spacing**: Follow closely the spacing shown in the lessons.  There should not be a space  between a function name and the parentheses with the arguments. As a programmer, style is very important. If you work with programmers in the future, they sometimes have \"lint\" checkers to test your code for style and reject if it doesn't follow the approprate spacing and blank-line-rules. Think of it as a matter of politness for other people reading your code :-)\n",
    "3. **Names of Variables**:  In Python, there's a culture of making everything readable. Don't use \"x\" and \"y\" as your variable names... use words like \"pounds\" and \"kilograms.\"  It will be easier for colleagues (and yourself) to understand the code later.\n",
    "4. **Error Messages**: Please use informative error messages that tell the user what they did wrong and what kind of input you expect.  Imagine you are designing the user experience!  Think about how to help your user. And remember **you** are the user when you debug!\n",
    "\n",
    "We will take points off for issues of non-standard spacing, indentation, bad error messages, and bad variable names in the future.  This will continue for the entire course.\n",
    "\n",
    "There are multiple ways to code all the answers.  Here are a few more code style tips:\n",
    "\n",
    "1. If you do a calculation or a transformation, like \"float(pounds)\" -- do it once and save it as a variable, don't do it multiple times.  You should try not to have code that repeats itself too much.  If you repeat things, you can make mistakes like typos and it will be harder to find them.\n",
    "2. A few of you had tests like \"4 < test < 40\" in your code, but didn't save that result (True) into any variable or put it in an IF statement.  It won't do anything relevant unless you save the result or use it as part of an IF test.\n",
    "3. ``try``/``except`` should be used to catch errors. (In fancier, more formal Python, there is more careful error catching where the type of error is detected and handled. We're just doing the basic try/except right now.) Anytime you have a conversion or something that could result in an error, you should wrap it in try/except. Do not allow a user to run code that results in an un-handled error.\n",
    "\n",
    "We will talk about this last point during in-class sessions. \n",
    "Once again, do not stay stuck without doing anything.\n",
    "Use the \"print\" function to follow the elements and display your results inside your code.\n"
   ]
  },
  {
   "cell_type": "markdown",
   "metadata": {
    "deletable": false,
    "editable": false,
    "nbgrader": {
     "cell_type": "markdown",
     "checksum": "e5ccb225a9fff83e0198281ac852dd56",
     "grade": false,
     "grade_id": "cell-7af5891c38c21068",
     "locked": true,
     "schema_version": 3,
     "solution": false,
     "task": false
    }
   },
   "source": [
    "---"
   ]
  },
  {
   "cell_type": "markdown",
   "metadata": {
    "deletable": false,
    "editable": false,
    "nbgrader": {
     "cell_type": "markdown",
     "checksum": "28b902ca1468c4741a080b6a0594346b",
     "grade": false,
     "grade_id": "cell-0b106187146bbb72",
     "locked": true,
     "schema_version": 3,
     "solution": false,
     "task": false
    }
   },
   "source": [
    "# Homework Questions:"
   ]
  },
  {
   "cell_type": "markdown",
   "metadata": {
    "deletable": false,
    "editable": false,
    "nbgrader": {
     "cell_type": "markdown",
     "checksum": "306e8ee83556d1a00dc2c121502922f4",
     "grade": false,
     "grade_id": "cell-22ca32cbc7ee994b",
     "locked": true,
     "schema_version": 3,
     "solution": false,
     "task": false
    }
   },
   "source": [
    "### Creation of a currency converter ###"
   ]
  },
  {
   "cell_type": "markdown",
   "metadata": {
    "deletable": false,
    "editable": false,
    "nbgrader": {
     "cell_type": "markdown",
     "checksum": "43d44563c815d8ade9e394876afbbd42",
     "grade": false,
     "grade_id": "cell-95bf513558a408db",
     "locked": true,
     "schema_version": 3,
     "solution": false,
     "task": false
    }
   },
   "source": [
    "Consider money you need to convert into a different currency. \n",
    "We will ask you to code a converter by asking the user to give an input value, and indicate the conversion he or she wants to make (from the initial currency to the final one).\n",
    "\n",
    "The initial and final currencies will also be inputs from the user. \n"
   ]
  },
  {
   "cell_type": "markdown",
   "metadata": {
    "deletable": false,
    "editable": false,
    "nbgrader": {
     "cell_type": "markdown",
     "checksum": "b006e2e945d711cdfcd967001a7445d8",
     "grade": false,
     "grade_id": "cell-4e54a48d824ae868",
     "locked": true,
     "schema_version": 3,
     "solution": false,
     "task": false
    }
   },
   "source": [
    "#### First step####"
   ]
  },
  {
   "cell_type": "markdown",
   "metadata": {
    "deletable": false,
    "editable": false,
    "nbgrader": {
     "cell_type": "markdown",
     "checksum": "520791d5834ba161580cbb5d534491a1",
     "grade": false,
     "grade_id": "cell-a8a775828be17d2c",
     "locked": true,
     "schema_version": 3,
     "solution": false,
     "task": false
    }
   },
   "source": [
    "Let's consider you as an user want to convert money from EUR to YEN (Renminbi).\n",
    "Please take the currency value to be 1 EUR = 8.09647 YEN (on the 13/09/2020 - 1:00 pm / CET+2)\n",
    "\n",
    "Write a code which: \n",
    "- Asks from the user an input considered as value money\n",
    "This one will be considered to be in EUR \n",
    "\n",
    "- Then calculates the value in YEN \n",
    "- And displays and returns the result \n",
    "Here use both \"print\" and \"return\" functions\n",
    "\n",
    "**Do not forgot to include tests / error messages / ...\n",
    "in order to guide the user when using your program !**\n",
    "\n",
    "All your error messages must start with \"Error: \" \n"
   ]
  },
  {
   "cell_type": "code",
   "execution_count": 2,
   "metadata": {
    "deletable": false,
    "nbgrader": {
     "cell_type": "code",
     "checksum": "12216b25e5175d60fb4c39c2c69e9101",
     "grade": false,
     "grade_id": "cell-1b2e96b62467116f",
     "locked": false,
     "schema_version": 3,
     "solution": true,
     "task": false
    }
   },
   "outputs": [],
   "source": [
    "# Remember you can comment your code using #\n",
    "\n",
    "def currency_converter():\n",
    "    ''' Ask for the user input with a prompt and compute the currency conversion from EUR to YEN. Print the value\n",
    "    and return it from the function as well.'''\n",
    "    \n",
    "    prompt = 'Enter a value in EUR to be converted to YEN:'\n",
    "    error_message = 'Error: your input should be a positive number'\n",
    "    \n",
    "    value = input(prompt)\n",
    "    try:\n",
    "        value = float(value)\n",
    "    except:\n",
    "        print(error_message)\n",
    "        return None\n",
    "    \n",
    "    if value < 0:\n",
    "        print(error_message)\n",
    "        return None\n",
    "    \n",
    "    conversion = value * 8.09647\n",
    "    print(\"Your input is equal to {output} stones\".format(output=conversion))\n",
    "    return conversion\n"
   ]
  },
  {
   "cell_type": "markdown",
   "metadata": {
    "deletable": false,
    "editable": false,
    "nbgrader": {
     "cell_type": "markdown",
     "checksum": "da45badc017596d542c3581befbc65e0",
     "grade": false,
     "grade_id": "cell-52a9407065bda538",
     "locked": true,
     "schema_version": 3,
     "solution": false,
     "task": false
    }
   },
   "source": [
    "To run your code in a cell, you should add a new cell and type:\n",
    "\n",
    "```currency_converter()```\n",
    "\n",
    "and execute that cell.  Provide the input and show it working below:"
   ]
  },
  {
   "cell_type": "code",
   "execution_count": 3,
   "metadata": {},
   "outputs": [
    {
     "name": "stdout",
     "output_type": "stream",
     "text": [
      "Enter a value in EUR to be converted to YEN:i am a number !\n",
      "Error: your input should be a positive number\n"
     ]
    }
   ],
   "source": [
    "# run this to show it working!\n",
    "currency_converter()\n"
   ]
  },
  {
   "cell_type": "markdown",
   "metadata": {},
   "source": [
    "The following code checks that your function performs correctly.  It is only verifying the return value is the correct number.  Testing functions for their return values is a standard practice in *Test-Driven Development*.  Test cases help you figure out where your code has errors, if you have lots of functions calling each other."
   ]
  },
  {
   "cell_type": "code",
   "execution_count": 4,
   "metadata": {
    "deletable": false,
    "editable": false,
    "nbgrader": {
     "cell_type": "code",
     "checksum": "d5f1cbe5def7e3a3e241dac02bf6175d",
     "grade": true,
     "grade_id": "test_converter1",
     "locked": true,
     "points": 1,
     "schema_version": 3,
     "solution": false,
     "task": false
    }
   },
   "outputs": [
    {
     "name": "stdout",
     "output_type": "stream",
     "text": [
      "Your input is equal to 36.434115 stones\n",
      "Your input is equal to 1619.294 stones\n"
     ]
    }
   ],
   "source": [
    "# This is a test of your code. Don't change this.\n",
    "\n",
    "import mock\n",
    "from io import StringIO\n",
    "import sys\n",
    "\n",
    "def test_converter():\n",
    "    with mock.patch('builtins.input', return_value='4.5'):\n",
    "        assert currency_converter() == 36.434115\n",
    "    with mock.patch('builtins.input', return_value='200'):\n",
    "        assert currency_converter() == 1619.294\n",
    "            \n",
    "test_converter()"
   ]
  },
  {
   "cell_type": "code",
   "execution_count": 5,
   "metadata": {
    "deletable": false,
    "editable": false,
    "nbgrader": {
     "cell_type": "code",
     "checksum": "262589bebf33150757f15e5328da4834",
     "grade": true,
     "grade_id": "test_converter2",
     "locked": true,
     "points": 2,
     "schema_version": 3,
     "solution": false,
     "task": false
    }
   },
   "outputs": [],
   "source": [
    "# testing more....\n",
    "\n",
    "with mock.patch('builtins.input', return_value='cat'):\n",
    "    with mock.patch('sys.stdout', new_callable=StringIO):\n",
    "        assert currency_converter() is None\n",
    "        assert sys.stdout.getvalue() == \"Error: your input should be a positive number\\n\""
   ]
  },
  {
   "cell_type": "code",
   "execution_count": 6,
   "metadata": {
    "deletable": false,
    "editable": false,
    "nbgrader": {
     "cell_type": "code",
     "checksum": "2a6bce81e87634a43090c5ba1829e4df",
     "grade": true,
     "grade_id": "cell-c92e17942d63eb09",
     "locked": true,
     "points": 1,
     "schema_version": 3,
     "solution": false,
     "task": false
    }
   },
   "outputs": [],
   "source": [
    "# testing even more....\n",
    "\n",
    "with mock.patch('builtins.input', return_value='-3'):\n",
    "    with mock.patch('sys.stdout', new_callable=StringIO):\n",
    "        assert currency_converter() is None\n",
    "        assert sys.stdout.getvalue() == \"Error: your input should be a positive number\\n\""
   ]
  },
  {
   "cell_type": "markdown",
   "metadata": {
    "deletable": false,
    "editable": false,
    "nbgrader": {
     "cell_type": "markdown",
     "checksum": "697282cf2518ca92a7e29b483ead5b55",
     "grade": false,
     "grade_id": "cell-383989c1b0cad848",
     "locked": true,
     "schema_version": 3,
     "solution": false,
     "task": false
    }
   },
   "source": [
    "#### Second step####"
   ]
  },
  {
   "cell_type": "markdown",
   "metadata": {
    "deletable": false,
    "editable": false,
    "nbgrader": {
     "cell_type": "markdown",
     "checksum": "bf0033623bec42c456efc2f08b762254",
     "grade": false,
     "grade_id": "cell-53b7b15ab00e6539",
     "locked": true,
     "schema_version": 3,
     "solution": false,
     "task": false
    }
   },
   "source": [
    "Let's continue on the same topic.\n",
    "Now consider multiple options of conversion from one currency to another one. \n",
    "\n",
    "This means by using what you've done preciously, add 1 input from the user to be: \n",
    "- the final currency for which you need to know the value\n",
    "The initial currency of the value given will be stuck to EUR. \n",
    "\n",
    "For that purpose, you need to : \n",
    "- Store inputs into variables \n",
    "- Use inputs as elements for conditionals \n",
    "- Calculates conversion depending on the inputs\n",
    "- Only use one output variable\n",
    "\n",
    "For this exercise, you will consider the following currencies: YEN / USD / CAD / GBP / INR\n",
    "The conversion rates are: \n",
    "- 1 EUR = 1.18468 USD\n",
    "- 1 EUR = 0.925698 GBP \n",
    "- 1 EUR = 87.0200 INR\n",
    "- 1 EUR = 1.56086 CAD\n",
    "\n",
    "**When asking for inputs from the user, please stick to upper letters**\n",
    "Please consider here inputs as arguments to the function currency_converter2()"
   ]
  },
  {
   "cell_type": "code",
   "execution_count": 7,
   "metadata": {
    "deletable": false,
    "nbgrader": {
     "cell_type": "code",
     "checksum": "8df364b22dfad494a70f1c845b4ce45b",
     "grade": false,
     "grade_id": "cell-acd5cd5cae046cf1",
     "locked": false,
     "schema_version": 3,
     "solution": true,
     "task": false
    }
   },
   "outputs": [],
   "source": [
    "# Remember you can comment your code using #\n",
    "\n",
    "def currency_converter2(value,currency):\n",
    "    ''' Ask for the user input with a prompt and compute the currency conversion from EUR to YEN. Print the value\n",
    "    and return it from the function as well.'''\n",
    "\n",
    "    error_message = 'Error: your input should be a positive number'\n",
    "    error_message2 = 'Error: select one of the given currency (YEN / USD / CAD / GBP / INR)'\n",
    "\n",
    "    currencies = {\"YEN\": 8.09647, \"USD\": 1.18468, \"CAD\": 1.56086, \"GBP\": 0.925698, \"INR\": 87.0200}\n",
    "    \n",
    "    try:\n",
    "        value = float(value)\n",
    "    except:\n",
    "        print(error_message)\n",
    "        return None\n",
    "    \n",
    "    if value < 0:\n",
    "        print(error_message)\n",
    "        return None\n",
    "    if not currency in [c for c in currencies]:\n",
    "        print(error_message2)\n",
    "        return None\n",
    "\n",
    "    conversion = value * currencies[currency]\n",
    "    print(\"Your input is equal to {output} \".format(output=conversion)+currency)\n",
    "    return conversion\n"
   ]
  },
  {
   "cell_type": "code",
   "execution_count": 8,
   "metadata": {},
   "outputs": [
    {
     "name": "stdout",
     "output_type": "stream",
     "text": [
      "Your input is equal to 78.04299999999999 CAD\n"
     ]
    },
    {
     "data": {
      "text/plain": [
       "78.04299999999999"
      ]
     },
     "execution_count": 8,
     "metadata": {},
     "output_type": "execute_result"
    }
   ],
   "source": [
    "# run this to show it is working!\n",
    "# Give here content for the 2 variables value and currency\n",
    "value = 50\n",
    "currency = 'CAD'\n",
    "currency_converter2(value, currency)"
   ]
  },
  {
   "cell_type": "code",
   "execution_count": 9,
   "metadata": {
    "deletable": false,
    "editable": false,
    "nbgrader": {
     "cell_type": "code",
     "checksum": "6089a3f3478def278f603eeac8c4a4d9",
     "grade": true,
     "grade_id": "test1_currency_converter2",
     "locked": true,
     "points": 1,
     "schema_version": 3,
     "solution": false,
     "task": false
    }
   },
   "outputs": [
    {
     "name": "stdout",
     "output_type": "stream",
     "text": [
      "Your input is equal to 2.777094 GBP\n",
      "Your input is equal to 236.93599999999998 USD\n"
     ]
    }
   ],
   "source": [
    "# This is a test of your code. Don't change this.\n",
    "\n",
    "import mock\n",
    "from io import StringIO\n",
    "import sys\n",
    "\n",
    "assert currency_converter2(3,'GBP') == 2.777094\n",
    "assert currency_converter2(200,'USD') == 236.93599999999998"
   ]
  },
  {
   "cell_type": "code",
   "execution_count": 10,
   "metadata": {
    "deletable": false,
    "editable": false,
    "nbgrader": {
     "cell_type": "code",
     "checksum": "b54c8542f37ddb2da13a3e51aafc5656",
     "grade": true,
     "grade_id": "test2_currency_converter2",
     "locked": true,
     "points": 2,
     "schema_version": 3,
     "solution": false,
     "task": false
    }
   },
   "outputs": [
    {
     "name": "stdout",
     "output_type": "stream",
     "text": [
      "Error: your input should be a positive number\n",
      "Error: select one of the given currency (YEN / USD / CAD / GBP / INR)\n"
     ]
    }
   ],
   "source": [
    "# Some more tests\n",
    "assert currency_converter2('cat','GBP') == None\n",
    "assert currency_converter2(3,'Other') == None\n"
   ]
  },
  {
   "cell_type": "code",
   "execution_count": 11,
   "metadata": {
    "deletable": false,
    "editable": false,
    "nbgrader": {
     "cell_type": "code",
     "checksum": "b90ce28c8b3a035f09eb84144b808060",
     "grade": true,
     "grade_id": "test3_currency_converter2",
     "locked": true,
     "points": 1,
     "schema_version": 3,
     "solution": false,
     "task": false
    }
   },
   "outputs": [
    {
     "name": "stdout",
     "output_type": "stream",
     "text": [
      "Your input is equal to 0.0 GBP\n"
     ]
    }
   ],
   "source": [
    "assert currency_converter2(0,'GBP') == 0\n"
   ]
  },
  {
   "cell_type": "markdown",
   "metadata": {
    "deletable": false,
    "editable": false,
    "nbgrader": {
     "cell_type": "markdown",
     "checksum": "5c01a57df48c67d1abf7705b440f0862",
     "grade": false,
     "grade_id": "cell-c48d0d4f39e3ad9d",
     "locked": true,
     "schema_version": 3,
     "solution": false,
     "task": false
    }
   },
   "source": [
    "#### Third step####"
   ]
  },
  {
   "cell_type": "markdown",
   "metadata": {
    "deletable": false,
    "editable": false,
    "nbgrader": {
     "cell_type": "markdown",
     "checksum": "675f3845fccc1938431f5e381406a8c9",
     "grade": false,
     "grade_id": "cell-9def28297e91d436",
     "locked": true,
     "schema_version": 3,
     "solution": false,
     "task": false
    }
   },
   "source": [
    "During the last step, you will extend once again the program you've beeing programming. \n",
    "\n",
    "**Now consider not only one freezed input currency but multiple. \n",
    "This means the user need to specify in which currency the input is. \n",
    "He or she still has also to specify the output currency.** \n",
    "\n",
    "So here you need to: \n",
    "- Add one more input from the user specifying the input or initial currency.\n",
    "\n",
    "Once again store this input into a variable and use it for calculating the output value. \n",
    "\n",
    "**Take time before coding to consider all the options of conversion, from one currency to another one. And try a way to calculate each conversion even if it is not given here in the instructions.** \n",
    "\n",
    "Concerning the conversion rates, use the ones indicate in 2nd step. \n",
    "\n"
   ]
  },
  {
   "cell_type": "code",
   "execution_count": 12,
   "metadata": {
    "deletable": false,
    "nbgrader": {
     "cell_type": "code",
     "checksum": "12365ec053a75f10167626a0e376497f",
     "grade": false,
     "grade_id": "cell-e6ae9b5ba8031bea",
     "locked": false,
     "schema_version": 3,
     "solution": true,
     "task": false
    }
   },
   "outputs": [],
   "source": [
    "# Remember you can comment your code using #\n",
    "# You can see that here we switch from input asking to arguments giving directly to the function\n",
    "\n",
    "def currency_converter3(value, currency1, currency2):\n",
    "    ''' From a value given by the user the function computes the currency conversion from one currency to another one. Print the value\n",
    "    and return it from the function as well.'''\n",
    "    \n",
    "    error_message = 'Error: your input should be a positive number'\n",
    "    error_message2 = 'Error: select one of the given currency (EUR,YEN,USD,CAD,INR,GBP)'\n",
    "    \n",
    "    currencies = {\"EUR\": 1.0, \"YEN\": 8.09647, \"USD\": 1.18468, \"CAD\": 1.56086, \"GBP\": 0.925698, \"INR\": 87.0200}\n",
    "    \n",
    "    try:\n",
    "        value = float(value)\n",
    "    except:\n",
    "        print(error_message)\n",
    "        return None\n",
    "    \n",
    "    if value < 0:\n",
    "        print(error_message)\n",
    "        return None\n",
    "    if not (currency1 in [c for c in currencies] and currency2 in [c for c in currencies]):\n",
    "        print(error_message2)\n",
    "        return None\n",
    "\n",
    "    conversion = value * currencies[currency2] / currencies[currency1]\n",
    "\n",
    "    print(conversion)\n",
    "    return conversion\n"
   ]
  },
  {
   "cell_type": "code",
   "execution_count": 13,
   "metadata": {
    "deletable": false,
    "editable": false,
    "nbgrader": {
     "cell_type": "code",
     "checksum": "bb2485e478fa09dae19c8cdef377d5fa",
     "grade": true,
     "grade_id": "cell-c788fe9305e7f4f7",
     "locked": true,
     "points": 2,
     "schema_version": 3,
     "solution": false,
     "task": false
    }
   },
   "outputs": [
    {
     "name": "stdout",
     "output_type": "stream",
     "text": [
      "2.722776373247529\n",
      "17.792076163140834\n"
     ]
    }
   ],
   "source": [
    "# This is a test of your code. Don't change this.\n",
    "\n",
    "import mock\n",
    "from io import StringIO\n",
    "import sys\n",
    "\n",
    "assert currency_converter3(200,'INR','USD') == 2.722776373247529\n",
    "assert currency_converter3(30,'CAD','GBP') == 17.792076163140834\n"
   ]
  },
  {
   "cell_type": "code",
   "execution_count": 14,
   "metadata": {
    "deletable": false,
    "editable": false,
    "nbgrader": {
     "cell_type": "code",
     "checksum": "b26f82e00506342dd71f0222aa997c8d",
     "grade": true,
     "grade_id": "cell-16120a64ef493730",
     "locked": true,
     "points": 2,
     "schema_version": 3,
     "solution": false,
     "task": false
    }
   },
   "outputs": [
    {
     "name": "stdout",
     "output_type": "stream",
     "text": [
      "Error: select one of the given currency (EUR,YEN,USD,CAD,INR,GBP)\n",
      "Error: select one of the given currency (EUR,YEN,USD,CAD,INR,GBP)\n"
     ]
    }
   ],
   "source": [
    "# Some more tests\n",
    "assert currency_converter3(3,'cat','GBP') == None\n",
    "assert currency_converter3(3,'EUR','Other') == None\n"
   ]
  },
  {
   "cell_type": "markdown",
   "metadata": {
    "deletable": false,
    "editable": false,
    "nbgrader": {
     "cell_type": "markdown",
     "checksum": "ababf496f188709961c5787099a4e3ce",
     "grade": false,
     "grade_id": "cell-1dffd4346f1e9342",
     "locked": true,
     "schema_version": 3,
     "solution": false,
     "task": false
    }
   },
   "source": [
    "## You're Done!  Upload this file to your dropbox (double check your name is at the top, and the Notebook title hasn't been changed). "
   ]
  }
 ],
 "metadata": {
  "kernelspec": {
   "display_name": "Python 3",
   "language": "python",
   "name": "python3"
  },
  "language_info": {
   "codemirror_mode": {
    "name": "ipython",
    "version": 3
   },
   "file_extension": ".py",
   "mimetype": "text/x-python",
   "name": "python",
   "nbconvert_exporter": "python",
   "pygments_lexer": "ipython3",
   "version": "3.8.5"
  }
 },
 "nbformat": 4,
 "nbformat_minor": 2
}
