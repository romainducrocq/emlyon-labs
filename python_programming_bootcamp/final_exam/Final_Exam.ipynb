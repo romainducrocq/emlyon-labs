{
 "cells": [
  {
   "cell_type": "markdown",
   "metadata": {},
   "source": [
    "Before you turn this problem in, make sure everything runs as expected. First, restart the  kernel (in the menubar, select Kernel → Restart) and then run all cells (in the menubar, select Cell → Run All). Check your output to make sure it all looks as you expected.\n",
    "\n",
    "Make sure you fill in any place that says YOUR CODE HERE or \"YOUR ANSWER HERE\", as well as your name below:"
   ]
  },
  {
   "cell_type": "code",
   "execution_count": 1,
   "metadata": {},
   "outputs": [
    {
     "name": "stdout",
     "output_type": "stream",
     "text": [
      "DUCROCQ Romain\n"
     ]
    }
   ],
   "source": [
    "NAME = \"DUCROCQ Romain\"\n",
    "print(NAME)"
   ]
  },
  {
   "cell_type": "markdown",
   "metadata": {},
   "source": [
    "# Welcome to the final exam of the MK34P course !"
   ]
  },
  {
   "cell_type": "markdown",
   "metadata": {},
   "source": [
    "# Question -1:\n",
    "\n",
    "Write a function called fizz_buzz that takes a number.\n",
    "\n",
    "If the number is divisible by 5, it should return “Fzz”.\n",
    "\n",
    "If it is divisible by 7, it should return “Bzz”.\n",
    "\n",
    "If it is divisible by both 5 and 7, it should return “FzzBzz”.\n",
    "\n",
    "Otherwise, it should return the \"square\" the number."
   ]
  },
  {
   "cell_type": "code",
   "execution_count": 2,
   "metadata": {},
   "outputs": [],
   "source": [
    "def fizz_buzz(x):\n",
    "    if x % 5 == 0 and x % 7 == 0:\n",
    "        return \"FzzBzz\"\n",
    "    elif x % 7 == 0:\n",
    "        return \"Bzz\"\n",
    "    elif x % 5 == 0:\n",
    "        return \"Fzz\"\n",
    "    else:\n",
    "        return pow(x, 2)"
   ]
  },
  {
   "cell_type": "code",
   "execution_count": 3,
   "metadata": {},
   "outputs": [
    {
     "name": "stdout",
     "output_type": "stream",
     "text": [
      "FzzBzz Bzz Fzz 36\n"
     ]
    }
   ],
   "source": [
    "print(fizz_buzz(35), fizz_buzz(14), fizz_buzz(15), fizz_buzz(6))"
   ]
  },
  {
   "cell_type": "markdown",
   "metadata": {},
   "source": [
    "# Question -2:\n",
    "Write a program which will find all such numbers which are divisible by 7 but are not a multiple of 5, between 2100 and 3300 (both included).\n",
    "The numbers obtained should be printed in a semicolon (;) sequence on a single line."
   ]
  },
  {
   "cell_type": "code",
   "execution_count": 4,
   "metadata": {},
   "outputs": [
    {
     "name": "stdout",
     "output_type": "stream",
     "text": [
      "2107;2114;2121;2128;2142;2149;2156;2163;2177;2184;2191;2198;2212;2219;2226;2233;2247;2254;2261;2268;2282;2289;2296;2303;2317;2324;2331;2338;2352;2359;2366;2373;2387;2394;2401;2408;2422;2429;2436;2443;2457;2464;2471;2478;2492;2499;2506;2513;2527;2534;2541;2548;2562;2569;2576;2583;2597;2604;2611;2618;2632;2639;2646;2653;2667;2674;2681;2688;2702;2709;2716;2723;2737;2744;2751;2758;2772;2779;2786;2793;2807;2814;2821;2828;2842;2849;2856;2863;2877;2884;2891;2898;2912;2919;2926;2933;2947;2954;2961;2968;2982;2989;2996;3003;3017;3024;3031;3038;3052;3059;3066;3073;3087;3094;3101;3108;3122;3129;3136;3143;3157;3164;3171;3178;3192;3199;3206;3213;3227;3234;3241;3248;3262;3269;3276;3283;3297\n"
     ]
    }
   ],
   "source": [
    "print(\";\".join([str(x) for x in range(2100, 3300+1) if x % 7 == 0 and not x % 5 == 0]))"
   ]
  },
  {
   "cell_type": "markdown",
   "metadata": {},
   "source": [
    "# Question 3: \n",
    "\n",
    "How would you convert the following for-loop code (for val in mylist) into a single line list comprehension? (The print part can be a separate line after your list comprehension.)"
   ]
  },
  {
   "cell_type": "code",
   "execution_count": 5,
   "metadata": {},
   "outputs": [
    {
     "name": "stdout",
     "output_type": "stream",
     "text": [
      "[20, 40, 80, 100, 34.0, 40, 20]\n"
     ]
    }
   ],
   "source": [
    "mylist = [2,4,8,10,3.4,4,2]\n",
    "tens = []\n",
    "for val in mylist:\n",
    "    tens.append(val * 10)\n",
    "print(tens)"
   ]
  },
  {
   "cell_type": "code",
   "execution_count": 6,
   "metadata": {},
   "outputs": [
    {
     "name": "stdout",
     "output_type": "stream",
     "text": [
      "[20, 40, 80, 100, 34.0, 40, 20]\n"
     ]
    }
   ],
   "source": [
    "print([val * 10 for val in [2,4,8,10,3.4,4,2]])"
   ]
  },
  {
   "cell_type": "markdown",
   "metadata": {},
   "source": [
    "# Question 4:\n",
    "Take the following Python code that stores a string in variable mystring:\n",
    "\n",
    "mystring = 'X-AJAY-Confidence;0.8475'\n",
    "Write a function that uses \"find\" and \"string slicing\" to extract the portion of the string after the semicolon character (;)and then use the float function to convert the extracted string into a floating point number.\n",
    "Print and then return this number from the function. \n",
    "If no colon character is found, return AJAY."
   ]
  },
  {
   "cell_type": "code",
   "execution_count": 7,
   "metadata": {},
   "outputs": [
    {
     "name": "stdout",
     "output_type": "stream",
     "text": [
      "Help on method_descriptor:\n",
      "\n",
      "find(...)\n",
      "    S.find(sub[, start[, end]]) -> int\n",
      "    \n",
      "    Return the lowest index in S where substring sub is found,\n",
      "    such that sub is contained within S[start:end].  Optional\n",
      "    arguments start and end are interpreted as in slice notation.\n",
      "    \n",
      "    Return -1 on failure.\n",
      "\n"
     ]
    }
   ],
   "source": [
    "help(str.find)  # ask the Python interpreter for more info about the find method of str"
   ]
  },
  {
   "cell_type": "markdown",
   "metadata": {},
   "source": [
    "# Python String split(). \n",
    "The split() method breaks up a string at the specified separator and returns a list of strings"
   ]
  },
  {
   "cell_type": "code",
   "execution_count": 8,
   "metadata": {},
   "outputs": [],
   "source": [
    "def get_number(stringinput):\n",
    "    if stringinput.find(';') == -1:\n",
    "        output = \"AJAY\"\n",
    "    else:\n",
    "        try:\n",
    "            output = float(stringinput[stringinput.find(';')+1:])\n",
    "        except:\n",
    "            output = \"AJAY\"\n",
    "    \n",
    "    print(output)\n",
    "    return output"
   ]
  },
  {
   "cell_type": "code",
   "execution_count": 9,
   "metadata": {},
   "outputs": [
    {
     "name": "stdout",
     "output_type": "stream",
     "text": [
      "0.8475\n"
     ]
    },
    {
     "data": {
      "text/plain": [
       "0.8475"
      ]
     },
     "execution_count": 9,
     "metadata": {},
     "output_type": "execute_result"
    }
   ],
   "source": [
    "# Check your code does the right thing. It should print and also return the float.\n",
    "mystring = 'X-AJAY-Confidence;0.8475'\n",
    "get_number(mystring)"
   ]
  },
  {
   "cell_type": "code",
   "execution_count": 10,
   "metadata": {},
   "outputs": [
    {
     "name": "stdout",
     "output_type": "stream",
     "text": [
      "AJAY\n"
     ]
    },
    {
     "data": {
      "text/plain": [
       "'AJAY'"
      ]
     },
     "execution_count": 10,
     "metadata": {},
     "output_type": "execute_result"
    }
   ],
   "source": [
    "# Check your code does the right thing. It should print and also return the float.\n",
    "mystring = 'X-AJAY-Confidence:0.8475'\n",
    "get_number(mystring)"
   ]
  },
  {
   "cell_type": "markdown",
   "metadata": {},
   "source": [
    "# Congratulations! You made it !"
   ]
  }
 ],
 "metadata": {
  "kernelspec": {
   "display_name": "Python 3",
   "language": "python",
   "name": "python3"
  },
  "language_info": {
   "codemirror_mode": {
    "name": "ipython",
    "version": 3
   },
   "file_extension": ".py",
   "mimetype": "text/x-python",
   "name": "python",
   "nbconvert_exporter": "python",
   "pygments_lexer": "ipython3",
   "version": "3.8.5"
  }
 },
 "nbformat": 4,
 "nbformat_minor": 2
}
