{
 "cells": [
  {
   "cell_type": "markdown",
   "metadata": {},
   "source": [
    "Before you turn this problem in, make sure everything runs as expected. First, **restart the kernel** (in the menubar, select Kernel$\\rightarrow$Restart) and then **run all cells** (in the menubar, select Cell$\\rightarrow$Run All). Check your output to make sure it all looks as you expected.\n",
    "\n",
    "Make sure you fill in any place that says `YOUR CODE HERE` or \"YOUR ANSWER HERE\", as well as your name below:"
   ]
  },
  {
   "cell_type": "code",
   "execution_count": 197,
   "metadata": {},
   "outputs": [],
   "source": [
    "NAME = \"DUCROCQ Romain\""
   ]
  },
  {
   "cell_type": "markdown",
   "metadata": {},
   "source": [
    "---"
   ]
  },
  {
   "cell_type": "markdown",
   "metadata": {
    "deletable": false,
    "editable": false,
    "nbgrader": {
     "cell_type": "markdown",
     "checksum": "1ce04e88f14f260c3109b5064366339d",
     "grade": false,
     "grade_id": "cell-c3cddd3127e06ec8",
     "locked": true,
     "schema_version": 3,
     "solution": false,
     "task": false
    }
   },
   "source": [
    "You should have read all the readings and content from the lectures given on Brightspace.\n"
   ]
  },
  {
   "cell_type": "markdown",
   "metadata": {
    "deletable": false,
    "editable": false,
    "nbgrader": {
     "cell_type": "markdown",
     "checksum": "dd033bcf04ef2458e3723f311b998674",
     "grade": false,
     "grade_id": "cell-26826ce288d3cf36",
     "locked": true,
     "schema_version": 3,
     "solution": false,
     "task": false
    }
   },
   "source": [
    "In order to make it easy to grade your works, here are the notes you should read and follow carrefully.  We will take off points for not following them. We will grade based on assuming you have read and understood them.\n",
    "    \n",
    "1. **Using the Notebook to Show Your Work**: You must learn to write code in the notebook... It is a core tool for data science and will make it easier to develop and document your work if you become good at using it. Writing your code in another tool and pasting it into the notebook will probably not work well: Some of you forgot to include code elsewhere, or the spacing became messed up, or it didn't run as copied.  You must be sure your code cells execute because we will test them.  So learn how to run code in the notebook cells to double check your work.\n",
    "2. **Read Directions Carefully**:  The instructions for your code are very important. If you don't follow the requirements, your application won't do as requested. Making it work correctly is part of learning to program.  If we worded something unclearly, send an e-mail to your professor."
   ]
  },
  {
   "cell_type": "markdown",
   "metadata": {
    "deletable": false,
    "editable": false,
    "nbgrader": {
     "cell_type": "markdown",
     "checksum": "538a1965387895b458c61bae7656b426",
     "grade": false,
     "grade_id": "cell-c325f7e7adddf102",
     "locked": true,
     "schema_version": 3,
     "solution": false,
     "task": false
    }
   },
   "source": [
    "---"
   ]
  },
  {
   "cell_type": "markdown",
   "metadata": {
    "deletable": false,
    "editable": false,
    "nbgrader": {
     "cell_type": "markdown",
     "checksum": "cd633de6e8966fce5fe800eb37f3a81e",
     "grade": false,
     "grade_id": "cell-7645ad5d91d8a4a3",
     "locked": true,
     "schema_version": 3,
     "solution": false,
     "task": false
    }
   },
   "source": [
    "# Homework Questions:"
   ]
  },
  {
   "cell_type": "markdown",
   "metadata": {
    "deletable": false,
    "editable": false,
    "nbgrader": {
     "cell_type": "markdown",
     "checksum": "d368abdd381cf775ce45f53605e892eb",
     "grade": false,
     "grade_id": "cell-f00794b3c3b651bd",
     "locked": true,
     "schema_version": 3,
     "solution": false,
     "task": false
    }
   },
   "source": [
    "## Working on lists and dictionaries (and still loops, ...)"
   ]
  },
  {
   "cell_type": "markdown",
   "metadata": {
    "deletable": false,
    "editable": false,
    "nbgrader": {
     "cell_type": "markdown",
     "checksum": "75b69c8b919994683154a8e0c719a277",
     "grade": false,
     "grade_id": "cell-9a8f2d75dc66b7b6",
     "locked": true,
     "schema_version": 3,
     "solution": false,
     "task": false
    }
   },
   "source": [
    "**Question **:\n",
    "\n",
    "Create a function that takes a file name (and path if needed) as the argument.  In the function, open and read in the file **mountains.csv**. Use a try/except to be sure the file exists and is readable. If the file location is wrong or it can't be opened, print an error that begins with \"Error:\".  (You can test it with a junk path or filename that doesn't exist.)\n",
    "\n",
    "The pattern I suggest for this is:\n",
    "\n",
    "````\n",
    "try:\n",
    "    with open('mountains.csv', 'r') as handle:\n",
    "        for line in handle:\n",
    "        #....do stuff here (you can have other try/except in here if you want)\n",
    "except:\n",
    "    print(\"Error: Something wrong with your file location?\")\n",
    "    return\n",
    "````\n",
    "\n",
    "(This pattern is recommended as it doesn't need files to be closed after.)\n",
    "\n",
    "Mountains.csv is a comma-separated list of mountains, their height in meters, and the range they belong to. (Look at it in a text editor, but don't edit/modify the file!)  A CSV file is a common format for raw data.  Other types of raw data files are point-virgule (semi-colon) separated files or tab-separated files.  However the columns are separated, you must use that character in your \"split\" code.\n",
    "\n",
    "In this case, it's a comma. Split each line by the comma, and make a dictionary where the key is the mountain name (the first element) and the height is the value, the second element. Make sure to convert the height to a number.\n",
    "Then **print the keys and values of the dictionary using ``.items()``, in readable sentences** that say, for instance, \"The height of K2 is 8611 meters.\"  **Return the dictionary at the end of the function.**\n",
    "\n",
    "Reminder about print with {} in your string: use print(string.format(variable)) to fill in the {} with your variable. If there are 2 {}'s, use `.format(var1, var2)`.\n",
    "\n",
    "\n",
    "\n",
    "**Note:**\n",
    "You can use multiple functions if you want, but you have to have one main function that calls the others, if you do. This is because the test code relies on the main function to check your output.\n",
    "\n"
   ]
  },
  {
   "cell_type": "code",
   "execution_count": 198,
   "metadata": {
    "deletable": false,
    "nbgrader": {
     "cell_type": "code",
     "checksum": "3d334746ff9f6ffd77990ff64c4e5264",
     "grade": false,
     "grade_id": "cell-5daffbb7940c378e",
     "locked": false,
     "schema_version": 3,
     "solution": true,
     "task": false
    }
   },
   "outputs": [],
   "source": [
    "def mountain_height(filename):\n",
    "    \"\"\" Read in a csv file of mountain names and heights.  \n",
    "    Parse the lines and print the names and heights. \n",
    "    Return the data as a dictionary. \n",
    "    The key is the mountain and the height is the value.\n",
    "    \"\"\"\n",
    "\n",
    "    mountains = dict()\n",
    "    msg = \"The height of {} is {} meters.\"\n",
    "    err_msg = \"Error: File doesn't exist or is unreadable.\"\n",
    "    \n",
    "    try:\n",
    "        with open(filename, 'r') as handle:\n",
    "            for line in handle:\n",
    "                mountains[line.split(\",\")[0]] = int(line.split(\",\")[1])\n",
    "    except:\n",
    "        print(\"Error: Something wrong with your file location?\")\n",
    "        return None\n",
    "    \n",
    "    for key, value in mountains.items():\n",
    "        print(msg.format(key, value))\n",
    "        \n",
    "    return mountains"
   ]
  },
  {
   "cell_type": "code",
   "execution_count": 199,
   "metadata": {},
   "outputs": [],
   "source": [
    "# Define here the path of your file. So you can use the test after\n",
    "# Do not forgot to execute this cell before the test ones\n",
    "filename = 'mountains.csv'"
   ]
  },
  {
   "cell_type": "code",
   "execution_count": 200,
   "metadata": {
    "deletable": false,
    "editable": false,
    "nbgrader": {
     "cell_type": "code",
     "checksum": "52163f42f68e723fa23b9f8ac6cc49dc",
     "grade": true,
     "grade_id": "cell-e5ac908969664841",
     "locked": true,
     "points": 1,
     "schema_version": 3,
     "solution": false,
     "task": false
    }
   },
   "outputs": [
    {
     "name": "stdout",
     "output_type": "stream",
     "text": [
      "The height of Mount Everest is 8848 meters.\n",
      "The height of K2 is 8611 meters.\n",
      "The height of Kangchenjunga is 8586 meters.\n",
      "The height of Lhotse is 8516 meters.\n",
      "The height of Makalu is 8485 meters.\n",
      "The height of Cho Oyu is 8201 meters.\n",
      "The height of Dhaulagiri is 8167 meters.\n",
      "The height of Manaslu is 8163 meters.\n",
      "The height of Nanga Parbat is 8126 meters.\n",
      "The height of Annapurna is 8091 meters.\n",
      "The height of Gasherbrum I is 8080 meters.\n",
      "The height of Broad Peak is 8051 meters.\n",
      "The height of Gasherbrum II is 8035 meters.\n",
      "The height of Shishapangma is 8027 meters.\n"
     ]
    },
    {
     "data": {
      "text/plain": [
       "{'Mount Everest': 8848,\n",
       " 'K2': 8611,\n",
       " 'Kangchenjunga': 8586,\n",
       " 'Lhotse': 8516,\n",
       " 'Makalu': 8485,\n",
       " 'Cho Oyu': 8201,\n",
       " 'Dhaulagiri': 8167,\n",
       " 'Manaslu': 8163,\n",
       " 'Nanga Parbat': 8126,\n",
       " 'Annapurna': 8091,\n",
       " 'Gasherbrum I': 8080,\n",
       " 'Broad Peak': 8051,\n",
       " 'Gasherbrum II': 8035,\n",
       " 'Shishapangma': 8027}"
      ]
     },
     "execution_count": 200,
     "metadata": {},
     "output_type": "execute_result"
    }
   ],
   "source": [
    "# Use the definition of your file mountains.csv above.  \n",
    "# Show that it runs.\n",
    "\n",
    "mountain_height(filename)"
   ]
  },
  {
   "cell_type": "code",
   "execution_count": 201,
   "metadata": {
    "deletable": false,
    "editable": false,
    "nbgrader": {
     "cell_type": "code",
     "checksum": "075825ec0dd99c1b720307d03c43fcd6",
     "grade": true,
     "grade_id": "cell-bba8093a9425723c",
     "locked": true,
     "points": 1,
     "schema_version": 3,
     "solution": false,
     "task": false
    }
   },
   "outputs": [
    {
     "name": "stdout",
     "output_type": "stream",
     "text": [
      "The height of Mount Everest is 8848 meters.\n",
      "The height of K2 is 8611 meters.\n",
      "The height of Kangchenjunga is 8586 meters.\n",
      "The height of Lhotse is 8516 meters.\n",
      "The height of Makalu is 8485 meters.\n",
      "The height of Cho Oyu is 8201 meters.\n",
      "The height of Dhaulagiri is 8167 meters.\n",
      "The height of Manaslu is 8163 meters.\n",
      "The height of Nanga Parbat is 8126 meters.\n",
      "The height of Annapurna is 8091 meters.\n",
      "The height of Gasherbrum I is 8080 meters.\n",
      "The height of Broad Peak is 8051 meters.\n",
      "The height of Gasherbrum II is 8035 meters.\n",
      "The height of Shishapangma is 8027 meters.\n"
     ]
    }
   ],
   "source": [
    "# Test code for grading your function. You can ignore this.\n",
    "\n",
    "output = mountain_height(filename)\n",
    "assert len(output.keys()) == 14\n",
    "assert output['Annapurna'] == 8091"
   ]
  },
  {
   "cell_type": "code",
   "execution_count": 202,
   "metadata": {
    "deletable": false,
    "editable": false,
    "nbgrader": {
     "cell_type": "code",
     "checksum": "f385fade75b882435ff37608f7c8f2ad",
     "grade": true,
     "grade_id": "cell-65114a6266ef6303",
     "locked": true,
     "points": 1,
     "schema_version": 3,
     "solution": false,
     "task": false
    }
   },
   "outputs": [],
   "source": [
    "# Test code for your printing the data.\n",
    "\n",
    "from io import StringIO\n",
    "import mock\n",
    "import sys\n",
    "\n",
    "with mock.patch('sys.stdout', new_callable=StringIO):\n",
    "    mountain_height(filename)\n",
    "    assert \"8848\" in sys.stdout.getvalue()\n",
    "    assert \"Mount Everest\" in sys.stdout.getvalue()"
   ]
  },
  {
   "cell_type": "code",
   "execution_count": 203,
   "metadata": {
    "deletable": false,
    "editable": false,
    "nbgrader": {
     "cell_type": "code",
     "checksum": "f2280eecaaa7394821eda19bff736b22",
     "grade": true,
     "grade_id": "cell-66bbd99e1597252f",
     "locked": true,
     "points": 1,
     "schema_version": 3,
     "solution": false,
     "task": false
    }
   },
   "outputs": [],
   "source": [
    "# Test for your error condition with a bad filename/path.\n",
    "\n",
    "from io import StringIO\n",
    "import mock\n",
    "import sys\n",
    "\n",
    "filename = None\n",
    "with mock.patch('sys.stdout', new_callable=StringIO):\n",
    "    mountain_height(filename)\n",
    "    assert \"Error:\" in sys.stdout.getvalue()"
   ]
  },
  {
   "cell_type": "markdown",
   "metadata": {
    "deletable": false,
    "editable": false,
    "nbgrader": {
     "cell_type": "markdown",
     "checksum": "0e15cbd9e1b435a8b89753149dc197cd",
     "grade": false,
     "grade_id": "cell-8c7b6da5b706d7c7",
     "locked": true,
     "schema_version": 3,
     "solution": false,
     "task": false
    }
   },
   "source": [
    "---"
   ]
  },
  {
   "cell_type": "markdown",
   "metadata": {
    "deletable": false,
    "editable": false,
    "nbgrader": {
     "cell_type": "markdown",
     "checksum": "1401076b7ee191f4445148697eaa6efd",
     "grade": false,
     "grade_id": "cell-5c58274480c4126d",
     "locked": true,
     "schema_version": 3,
     "solution": false,
     "task": false
    }
   },
   "source": [
    "**Question 2**:\n",
    "\n",
    "Rewrite the function about exploring the mountains file we worked on during the practice. \n",
    "Use the collections module's Counter to count how many times each mountain range is mentioned. Each row contains a mountain, its height, and the range it is part of. The ranges are still in the 3rd column of the mountains.csv file!  You can use more than one function if you want.\n",
    "\n",
    "Also add a dictionary that records all the heights of the mountains in a particular range. You will use a list for the values of the heights. So this is a dictionary with a list value! The key will be the range name. Each time you see a new mountain in the range, add the height to the list for that key. For example, after reading all the data, ``mountains['Himalayas'] == [8848, 8586, 8516, 8485, 8201, 8167, 8163, 8126, 8091, 8027]``.  (The \"Himalayas\" are the range.)\n",
    "\n",
    "You may use a regular ``dict`` or a ``defaultdict``, but you must beware of ``KeyError`` with a regular dictionary if the key doesn't exist yet.\n",
    "\n",
    "Your output should be to print the top 2 ranges (according to their Counter value -- hint: look at the function ``most_common()``). And adding the mountain range name to the counter requires a little care (look at update).\n",
    "\n",
    "Then, print the average height of the mountains in each range. (They don't have to be in order. Hint: You may need to find out how to import a ``mean`` function, or else calculate it by hand.)\n",
    "\n",
    "Return the dictionary object with the ranges and their lists of mountain heights after all the printing.\n",
    "\n",
    "Show that this code works with the other file, \"highest_mountains.csv\" too.\n"
   ]
  },
  {
   "cell_type": "code",
   "execution_count": 204,
   "metadata": {
    "deletable": false,
    "nbgrader": {
     "cell_type": "code",
     "checksum": "893306c6cad9c6b25bf50c784c4eaa52",
     "grade": false,
     "grade_id": "cell-76d3bf68f9ead561",
     "locked": false,
     "schema_version": 3,
     "solution": true,
     "task": false
    }
   },
   "outputs": [],
   "source": [
    "# Using Counter()\n",
    "\n",
    "from collections import Counter\n",
    "from collections import defaultdict\n",
    "from statistics import mean   # this also exists in numpy if you prefer\n",
    "\n",
    "# define your dicts inside the function, so they can be re-used each time it is called.\n",
    "def mountain_ranges(filename):\n",
    "    ranges = []\n",
    "    heights = defaultdict(list)  # empty list is the default here, not an int!\n",
    "    \n",
    "    err_msg = 'Error: Check the file path or content'\n",
    "    \n",
    "    try:\n",
    "        with open(filename, 'r') as handle:\n",
    "            for line in handle:\n",
    "                heights[line.split(\",\")[2]].append(int(line.split(\",\")[1]))\n",
    "    except:\n",
    "        print(err_msg)\n",
    "        return None\n",
    "    \n",
    "    ranges = [c[0] for c in Counter(heights).most_common(2)]\n",
    "    for r in ranges:\n",
    "        print(mean(heights[r]))\n",
    "        print(len(heights[r]))\n",
    "        \n",
    "    return heights"
   ]
  },
  {
   "cell_type": "code",
   "execution_count": 205,
   "metadata": {},
   "outputs": [],
   "source": [
    "# Give here the path of your mountains file\n",
    "filename = 'mountains.csv'"
   ]
  },
  {
   "cell_type": "code",
   "execution_count": 206,
   "metadata": {
    "deletable": false,
    "editable": false,
    "nbgrader": {
     "cell_type": "code",
     "checksum": "0e9b524d0bee1ff47db4fc8066b7cbf7",
     "grade": true,
     "grade_id": "cell-ca2c4cd790a97d1d",
     "locked": true,
     "points": 2,
     "schema_version": 3,
     "solution": false,
     "task": false
    }
   },
   "outputs": [
    {
     "name": "stdout",
     "output_type": "stream",
     "text": [
      "8321\n",
      "10\n",
      "8194.25\n",
      "4\n"
     ]
    },
    {
     "data": {
      "text/plain": [
       "defaultdict(list,\n",
       "            {'Himalayas': [8848,\n",
       "              8586,\n",
       "              8516,\n",
       "              8485,\n",
       "              8201,\n",
       "              8167,\n",
       "              8163,\n",
       "              8126,\n",
       "              8091,\n",
       "              8027],\n",
       "             'Karakoram': [8611, 8080, 8051, 8035]})"
      ]
     },
     "execution_count": 206,
     "metadata": {},
     "output_type": "execute_result"
    }
   ],
   "source": [
    "mountain_ranges(filename)"
   ]
  },
  {
   "cell_type": "code",
   "execution_count": 207,
   "metadata": {
    "deletable": false,
    "editable": false,
    "nbgrader": {
     "cell_type": "code",
     "checksum": "dffc81b1a6f67c85b8b84086074b7d18",
     "grade": true,
     "grade_id": "cell-3118a3ef2dfacdfe",
     "locked": true,
     "points": 2,
     "schema_version": 3,
     "solution": false,
     "task": false
    }
   },
   "outputs": [],
   "source": [
    "## Testing the output contains values we expect from the counts and means.\n",
    "\n",
    "import mock\n",
    "from io import StringIO\n",
    "import sys\n",
    "\n",
    "with mock.patch('sys.stdout', new_callable=StringIO):\n",
    "    mountain_ranges(filename)\n",
    "    assert \"8321\" in sys.stdout.getvalue()\n",
    "    assert \"10\" in sys.stdout.getvalue()"
   ]
  },
  {
   "cell_type": "code",
   "execution_count": 208,
   "metadata": {
    "deletable": false,
    "editable": false,
    "nbgrader": {
     "cell_type": "code",
     "checksum": "dd14a527160e4e5f6b7899f027826b48",
     "grade": true,
     "grade_id": "cell-d9f0609a9a8eb06f",
     "locked": true,
     "points": 2,
     "schema_version": 3,
     "solution": false,
     "task": false
    }
   },
   "outputs": [
    {
     "name": "stdout",
     "output_type": "stream",
     "text": [
      "8321\n",
      "10\n",
      "8194.25\n",
      "4\n"
     ]
    }
   ],
   "source": [
    "# Testing your output for the grade. Ignore this.  Handgrading of the printed output.\n",
    "\n",
    "result = mountain_ranges(filename)\n",
    "assert result['Karakoram'] == [8611, 8080, 8051, 8035]"
   ]
  },
  {
   "cell_type": "code",
   "execution_count": 209,
   "metadata": {},
   "outputs": [],
   "source": [
    "#File path for the highest_mountains file\n",
    "filepath_highest=\"highest_mountains.csv\""
   ]
  },
  {
   "cell_type": "code",
   "execution_count": 210,
   "metadata": {
    "deletable": false,
    "editable": false,
    "nbgrader": {
     "cell_type": "code",
     "checksum": "17c1409914d7520307db1d460201118e",
     "grade": true,
     "grade_id": "cell-99cfd42bbf9941bb",
     "locked": true,
     "points": 1,
     "schema_version": 3,
     "solution": false,
     "task": false
    }
   },
   "outputs": [
    {
     "name": "stdout",
     "output_type": "stream",
     "text": [
      "7866.083333333333\n",
      "12\n",
      "7820\n",
      "10\n"
     ]
    },
    {
     "data": {
      "text/plain": [
       "defaultdict(list,\n",
       "            {'Mahalangur Himalaya\\n': [8848,\n",
       "              8516,\n",
       "              8485,\n",
       "              8188,\n",
       "              7952,\n",
       "              7864,\n",
       "              7804,\n",
       "              7543,\n",
       "              7350,\n",
       "              7321,\n",
       "              7309,\n",
       "              7213],\n",
       "             'Baltoro Karakoram\\n': [8611,\n",
       "              8080,\n",
       "              8051,\n",
       "              8034,\n",
       "              7946,\n",
       "              7932,\n",
       "              7545,\n",
       "              7410,\n",
       "              7315,\n",
       "              7276],\n",
       "             'Kangchenjunga Himalaya\\n': [8586, 7711, 7462, 7412, 7362, 7350],\n",
       "             'Dhaulagiri Himalaya\\n': [8167,\n",
       "              7751,\n",
       "              7661,\n",
       "              7618,\n",
       "              7385,\n",
       "              7268,\n",
       "              7246],\n",
       "             'Manaslu Himalaya\\n': [8163, 7893, 7871],\n",
       "             'Nanga Parbat Himalaya\\n': [8126],\n",
       "             'Annapurna Himalaya\\n': [8091, 7937, 7555, 7455, 7219],\n",
       "             'Jugal Himalaya\\n': [8027],\n",
       "             'Hispar Karakoram\\n': [7884,\n",
       "              7823,\n",
       "              7790,\n",
       "              7577,\n",
       "              7492,\n",
       "              7469,\n",
       "              7414,\n",
       "              7283,\n",
       "              7207],\n",
       "             'Masherbrum Karakoram\\n': [7821, 7665, 7312, 7282],\n",
       "             'Garhwal Himalaya\\n': [7816, 7756, 7355, 7272, 7242],\n",
       "             'Batura Karakoram\\n': [7795, 7611, 7476, 7388],\n",
       "             'Rakaposhi-Haramosh Karakoram\\n': [7788, 7458, 7266],\n",
       "             'Assam Himalaya\\n': [7782, 7294],\n",
       "             'Saltoro Karakoram\\n': [7742, 7428, 7401, 7380],\n",
       "             'Hindu Kush\\n': [7708, 7492, 7403, 7349],\n",
       "             'Langtang Himalaya\\n': [7703, 7292, 7227, 7205],\n",
       "             'Nalakankar Himalaya\\n': [7694],\n",
       "             'Saser Karakoram\\n': [7672, 7513, 7495],\n",
       "             'Kongur Shan Kunlun\\n': [7649, 7530],\n",
       "             'Kula Kangri Himalaya\\n': [7570, 7538, 7221],\n",
       "             'Daxue Shan\\n': [7556],\n",
       "             'Muztagata Kunlun\\n': [7546],\n",
       "             'Rimo Karakoram\\n': [7516, 7385, 7233],\n",
       "             'Pamir (Akademiya Nauk Range)\\n': [7495],\n",
       "             'Siachen Karakoram\\n': [7462, 7422, 7382, 7245, 7202],\n",
       "             'Tian Shan\\n': [7439],\n",
       "             'Ganesh Himalaya\\n': [7422],\n",
       "             'Rakaposhi Karakoram\\n': [7409],\n",
       "             'Labuche Himalaya\\n': [7367, 7250],\n",
       "             'Jomolhari Himalaya\\n': [7326],\n",
       "             'Yengisogat Karakoram\\n': [7295],\n",
       "             'Panmah Karakoram\\n': [7285],\n",
       "             'Baiku Himalaya\\n': [7281],\n",
       "             'Lunana Himalaya\\n': [7207, 7204],\n",
       "             'Nagarze Himalaya\\n': [7206],\n",
       "             'Hispar Karakoram': [7200]})"
      ]
     },
     "execution_count": 210,
     "metadata": {},
     "output_type": "execute_result"
    }
   ],
   "source": [
    "# Show your code works with the other file, highest_mountains too. \n",
    "mountain_ranges(filepath_highest)\n"
   ]
  },
  {
   "cell_type": "markdown",
   "metadata": {
    "deletable": false,
    "editable": false,
    "nbgrader": {
     "cell_type": "markdown",
     "checksum": "b1675929a96e0c4bd9e78518a662cd98",
     "grade": false,
     "grade_id": "cell-a545086e04aad6ce",
     "locked": true,
     "schema_version": 3,
     "solution": false,
     "task": false
    }
   },
   "source": [
    "---"
   ]
  },
  {
   "cell_type": "markdown",
   "metadata": {
    "deletable": false,
    "editable": false,
    "nbgrader": {
     "cell_type": "markdown",
     "checksum": "d3cf3b3dedfcdca2c4f4824f145d3448",
     "grade": false,
     "grade_id": "cell-3895c243290de0f7",
     "locked": true,
     "schema_version": 3,
     "solution": false,
     "task": false
    }
   },
   "source": [
    "Here is the last exercise of this assignment.\n",
    "\n",
    "This is a very specific function to be programmed, but it will allow you to train on using loops, lists and dictionary.\n",
    "\n",
    "We want to create a function that takes one argument which is a CSV file (here it only works with SpaceMission_data.csv file). \n",
    "\n",
    "The function explores the file and returns a dictionary in which it counts :\n",
    "- The number of mission for each company (company will be keys of the dictionary)\n",
    "- The number of successful missions \n",
    "- The number of failed missions\n",
    "\n",
    "Each value element of the dictionary will be a list of the 3 counts described above. \n",
    "It will look like this: \n",
    "{company : [total number of missions, number of successful missions, number of failed missions]}\n",
    "\n",
    "Explore the file first, and find a solution to identify the successful and failed missions identification. \n",
    "\n",
    "You will see that it is not only a question about a \",\" delimiter. \n",
    "So in order to handle easily the reading of the format, i strongly suggest you to use this method: \n",
    "Just after opening the file, \n",
    "use \"content = csv.reader(handle)\"\n",
    "\n",
    "And you will be able to loop into content.\n",
    "\n",
    "And of course return a dictionary! "
   ]
  },
  {
   "cell_type": "code",
   "execution_count": 211,
   "metadata": {
    "deletable": false,
    "nbgrader": {
     "cell_type": "code",
     "checksum": "b3b6c592505e3d1ba38e0f0aaea2018d",
     "grade": false,
     "grade_id": "cell-397287ff3ef99200",
     "locked": false,
     "schema_version": 3,
     "solution": true,
     "task": false
    }
   },
   "outputs": [],
   "source": [
    "import csv\n",
    "def space_statistics(filename):\n",
    "    '''This function takes one argument which should be a CSV file. \n",
    "    It specifically explores the space_corrected.csv file. \n",
    "    The function returns a dictionary in which it counts the number of mission for each company in charge\n",
    "    and also counts the number of successful and failed missions'''\n",
    "\n",
    "    space = dict()\n",
    "    err_Msg = 'Error: Check the file path or content' \n",
    "    \n",
    "    \n",
    "    try:\n",
    "        with open(filename, 'r', errors='ignore') as csvfile:\n",
    "            data = csv.reader(csvfile, delimiter=',')\n",
    "            next(data, None)\n",
    "            for row in data:\n",
    "                if not row[2] in space.keys():\n",
    "                    space[row[2]] = [0, 0, 0]\n",
    "\n",
    "                space[row[2]] = [space[row[2]][0] + 1, \n",
    "                                 space[row[2]][1] + (\"Success\" in row[-1]),\n",
    "                                 space[row[2]][2] + (\"Failure\" in row[-1])]        \n",
    "    except:\n",
    "        print(err_Msg)\n",
    "        return None\n",
    "\n",
    "    return space"
   ]
  },
  {
   "cell_type": "code",
   "execution_count": 212,
   "metadata": {},
   "outputs": [],
   "source": [
    "# Specify here the path of your SpaceMission_data file\n",
    "file = 'SpaceMission_data.csv'"
   ]
  },
  {
   "cell_type": "code",
   "execution_count": 213,
   "metadata": {
    "deletable": false,
    "editable": false,
    "nbgrader": {
     "cell_type": "code",
     "checksum": "180c890748bb3b18508deb8b57e28f9c",
     "grade": true,
     "grade_id": "cell-90aa6da2a50f1165",
     "locked": true,
     "points": 1,
     "schema_version": 3,
     "solution": false,
     "task": false
    }
   },
   "outputs": [
    {
     "data": {
      "text/plain": [
       "{'SpaceX': [100, 94, 6],\n",
       " 'CASC': [251, 231, 20],\n",
       " 'Roscosmos': [55, 51, 4],\n",
       " 'ULA': [140, 139, 1],\n",
       " 'JAXA': [7, 6, 1],\n",
       " 'Northrop': [83, 74, 9],\n",
       " 'ExPace': [10, 9, 1],\n",
       " 'IAI': [11, 9, 2],\n",
       " 'Rocket Lab': [13, 11, 2],\n",
       " 'Virgin Orbit': [1, 0, 1],\n",
       " 'VKS RF': [201, 188, 13],\n",
       " 'MHI': [84, 80, 4],\n",
       " 'IRGC': [1, 1, 0],\n",
       " 'Arianespace': [279, 269, 10],\n",
       " 'ISA': [13, 4, 9],\n",
       " 'Blue Origin': [12, 12, 0],\n",
       " 'ISRO': [76, 63, 13],\n",
       " 'Exos': [4, 0, 4],\n",
       " 'ILS': [46, 45, 1],\n",
       " 'i-Space': [1, 1, 0],\n",
       " 'OneSpace': [1, 0, 1],\n",
       " 'Landspace': [1, 0, 1],\n",
       " 'Eurockot': [13, 12, 1],\n",
       " 'Land Launch': [7, 6, 1],\n",
       " 'CASIC': [5, 3, 2],\n",
       " 'KCST': [5, 2, 3],\n",
       " 'Sandia': [1, 0, 1],\n",
       " 'Kosmotras': [22, 21, 1],\n",
       " 'Khrunichev': [1, 1, 0],\n",
       " 'Sea Launch': [36, 33, 3],\n",
       " 'KARI': [3, 1, 2],\n",
       " 'ESA': [13, 9, 4],\n",
       " 'NASA': [203, 186, 17],\n",
       " 'Boeing': [136, 131, 5],\n",
       " 'ISAS': [30, 26, 4],\n",
       " 'SRC': [3, 2, 1],\n",
       " 'MITT': [7, 6, 1],\n",
       " 'Lockheed': [79, 74, 5],\n",
       " 'AEB': [3, 0, 3],\n",
       " 'Starsem': [1, 1, 0],\n",
       " 'RVSN USSR': [1777, 1614, 163],\n",
       " 'EER': [1, 0, 1],\n",
       " 'General Dynamics': [251, 203, 48],\n",
       " 'Martin Marietta': [114, 100, 14],\n",
       " 'Yuzhmash': [2, 2, 0],\n",
       " 'Douglas': [1, 1, 0],\n",
       " 'ASI': [9, 9, 0],\n",
       " 'US Air Force': [161, 129, 32],\n",
       " 'CNES': [8, 6, 2],\n",
       " 'CECLES': [4, 1, 3],\n",
       " 'RAE': [2, 1, 1],\n",
       " 'UT': [5, 1, 4],\n",
       " 'OKB-586': [2, 2, 0],\n",
       " 'AMBA': [8, 4, 4],\n",
       " \"Arm??e de l'Air\": [4, 3, 1],\n",
       " 'US Navy': [17, 2, 15]}"
      ]
     },
     "execution_count": 213,
     "metadata": {},
     "output_type": "execute_result"
    }
   ],
   "source": [
    "space_statistics(file)"
   ]
  },
  {
   "cell_type": "code",
   "execution_count": 214,
   "metadata": {
    "deletable": false,
    "editable": false,
    "nbgrader": {
     "cell_type": "code",
     "checksum": "58d7703720962179f2843629d49f5905",
     "grade": true,
     "grade_id": "cell-e9183eaf2b98ff9f",
     "locked": true,
     "points": 2,
     "schema_version": 3,
     "solution": false,
     "task": false
    }
   },
   "outputs": [],
   "source": [
    "# Testing the output \n",
    "import mock\n",
    "from io import StringIO\n",
    "import sys\n",
    "\n",
    "space = {'SpaceX': [100, 94, 6], 'CASC': [251, 231, 20], 'Roscosmos': [55, 51, 4], 'ULA': [140, 139, 1], 'JAXA': [7, 6, 1], 'Northrop': [83, 74, 9], 'ExPace': [10, 9, 1], 'IAI': [11, 9, 2], 'Rocket Lab': [13, 11, 2], 'Virgin Orbit': [1, 0, 1], 'VKS RF': [201, 188, 13], 'MHI': [84, 80, 4], 'IRGC': [1, 1, 0], 'Arianespace': [279, 269, 10], 'ISA': [13, 4, 9], 'Blue Origin': [12, 12, 0], 'ISRO': [76, 63, 13], 'Exos': [4, 0, 4], 'ILS': [46, 45, 1], 'i-Space': [1, 1, 0], 'OneSpace': [1, 0, 1], 'Landspace': [1, 0, 1], 'Eurockot': [13, 12, 1], 'Land Launch': [7, 6, 1], 'CASIC': [5, 3, 2], 'KCST': [5, 2, 3], 'Sandia': [1, 0, 1], 'Kosmotras': [22, 21, 1], 'Khrunichev': [1, 1, 0], 'Sea Launch': [36, 33, 3], 'KARI': [3, 1, 2], 'ESA': [13, 9, 4], 'NASA': [203, 186, 17], 'Boeing': [136, 131, 5], 'ISAS': [30, 26, 4], 'SRC': [3, 2, 1], 'MITT': [7, 6, 1], 'Lockheed': [79, 74, 5], 'AEB': [3, 0, 3], 'Starsem': [1, 1, 0], 'RVSN USSR': [1777, 1614, 163], 'EER': [1, 0, 1], 'General Dynamics': [251, 203, 48], 'Martin Marietta': [114, 100, 14], 'Yuzhmash': [2, 2, 0], 'Douglas': [1, 1, 0], 'ASI': [9, 9, 0], 'US Air Force': [161, 129, 32], 'CNES': [8, 6, 2], 'CECLES': [4, 1, 3], 'RAE': [2, 1, 1], 'UT': [5, 1, 4], 'OKB-586': [2, 2, 0], 'AMBA': [8, 4, 4], \"Arm??e de l'Air\": [4, 3, 1], 'US Navy': [17, 2, 15]}\n",
    "\n",
    "with mock.patch('sys.stdout', new_callable=StringIO):\n",
    "    assert space_statistics(file) == space\n"
   ]
  },
  {
   "cell_type": "code",
   "execution_count": 215,
   "metadata": {
    "deletable": false,
    "editable": false,
    "nbgrader": {
     "cell_type": "code",
     "checksum": "c6a1efb3b7a58d4d353b318543310fdf",
     "grade": true,
     "grade_id": "cell-1db98f63d9d22b9f",
     "locked": true,
     "points": 2,
     "schema_version": 3,
     "solution": false,
     "task": false
    }
   },
   "outputs": [],
   "source": [
    "# Some test to verify if all lines have been counted\n",
    "import mock\n",
    "from io import StringIO\n",
    "import sys\n",
    "\n",
    "with mock.patch('sys.stdout', new_callable=StringIO):\n",
    "    assert sum([space_statistics(file)[keys][0] for keys in space]) == 4324\n"
   ]
  },
  {
   "cell_type": "code",
   "execution_count": 216,
   "metadata": {
    "deletable": false,
    "editable": false,
    "nbgrader": {
     "cell_type": "code",
     "checksum": "1c30859a6c0d62768f58a03a40d4f526",
     "grade": true,
     "grade_id": "cell-623ed947074d3029",
     "locked": true,
     "points": 1,
     "schema_version": 3,
     "solution": false,
     "task": false
    }
   },
   "outputs": [],
   "source": [
    "# Some test to verify one result from the output dictionary\n",
    "import mock\n",
    "from io import StringIO\n",
    "import sys\n",
    "\n",
    "with mock.patch('sys.stdout', new_callable=StringIO):\n",
    "    assert space_statistics(file)['SpaceX'] == [100,94,6]\n"
   ]
  },
  {
   "cell_type": "markdown",
   "metadata": {
    "deletable": false,
    "editable": false,
    "nbgrader": {
     "cell_type": "markdown",
     "checksum": "fbdbc67be972383c75365fe888c1bb9f",
     "grade": false,
     "grade_id": "cell-2cfa5897768d1826",
     "locked": true,
     "schema_version": 3,
     "solution": false,
     "task": false
    }
   },
   "source": [
    "## Congrats! You have done some datascience with Python !\n",
    "You can also have alook at PANDAS (https://pandas.pydata.org). \n",
    "This Python librairy is mostly used in data science to explore, and play with data (from files, servers, or else).\n",
    "\n",
    "For your information, The **MK course, Python data analysis** is made for that at emlyon. "
   ]
  },
  {
   "cell_type": "code",
   "execution_count": null,
   "metadata": {},
   "outputs": [],
   "source": []
  }
 ],
 "metadata": {
  "kernelspec": {
   "display_name": "Python 3",
   "language": "python",
   "name": "python3"
  },
  "language_info": {
   "codemirror_mode": {
    "name": "ipython",
    "version": 3
   },
   "file_extension": ".py",
   "mimetype": "text/x-python",
   "name": "python",
   "nbconvert_exporter": "python",
   "pygments_lexer": "ipython3",
   "version": "3.8.5"
  }
 },
 "nbformat": 4,
 "nbformat_minor": 4
}
