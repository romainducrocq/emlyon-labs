{
 "cells": [
  {
   "cell_type": "markdown",
   "metadata": {},
   "source": [
    "Before you turn this problem in, make sure everything runs as expected. First, **restart the kernel** (in the menubar, select Kernel$\\rightarrow$Restart) and then **run all cells** (in the menubar, select Cell$\\rightarrow$Run All). Check your output to make sure it all looks as you expected.\n",
    "\n",
    "Make sure you fill in any place that says `YOUR CODE HERE` or \"YOUR ANSWER HERE\", as well as your name below:"
   ]
  },
  {
   "cell_type": "code",
   "execution_count": 31,
   "metadata": {},
   "outputs": [],
   "source": [
    "NAME = \"DUCROCQ Romain\""
   ]
  },
  {
   "cell_type": "markdown",
   "metadata": {},
   "source": [
    "---"
   ]
  },
  {
   "cell_type": "markdown",
   "metadata": {
    "deletable": false,
    "editable": false,
    "nbgrader": {
     "cell_type": "markdown",
     "checksum": "119e4f786479990a9a84e7e6f2108ff9",
     "grade": false,
     "grade_id": "cell-526e2491f4218481",
     "locked": true,
     "schema_version": 3,
     "solution": false,
     "task": false
    }
   },
   "source": [
    "You should have read all the readings and content from the lectures given on Brightspace.\n"
   ]
  },
  {
   "cell_type": "markdown",
   "metadata": {
    "deletable": false,
    "editable": false,
    "nbgrader": {
     "cell_type": "markdown",
     "checksum": "c9dcc1e0fe3aedc318155f1735b843de",
     "grade": false,
     "grade_id": "cell-88fe3dd90369d8fb",
     "locked": true,
     "schema_version": 3,
     "solution": false,
     "task": false
    }
   },
   "source": [
    "In order to make it easy to grade your works, here are the notes you should read and follow carrefully.  We will take off points for not following them. We will grade based on assuming you have read and understood them.\n",
    "    \n",
    "1. **Using the Notebook to Show Your Work**: You must learn to write code in the notebook... It is a core tool for data science and will make it easier to develop and document your work if you become good at using it. Writing your code in another tool and pasting it into the notebook will probably not work well: Some of you forgot to include code elsewhere, or the spacing became messed up, or it didn't run as copied.  You must be sure your code cells execute because we will test them.  So learn how to run code in the notebook cells to double check your work.\n",
    "2. **Read Directions Carefully**:  The instructions for your code are very important. If you don't follow the requirements, your application won't do as requested. Making it work correctly is part of learning to program.  If we worded something unclearly, send an e-mail to your professor."
   ]
  },
  {
   "cell_type": "markdown",
   "metadata": {},
   "source": [
    "---"
   ]
  },
  {
   "cell_type": "markdown",
   "metadata": {
    "deletable": false,
    "editable": false,
    "nbgrader": {
     "cell_type": "markdown",
     "checksum": "cef2fe158bc15b54f0f4cc0cd9ca5b4e",
     "grade": false,
     "grade_id": "cell-8bc6d239780f3dc6",
     "locked": true,
     "schema_version": 3,
     "solution": false,
     "task": false
    }
   },
   "source": [
    "# Homework Questions:"
   ]
  },
  {
   "cell_type": "markdown",
   "metadata": {
    "deletable": false,
    "editable": false,
    "nbgrader": {
     "cell_type": "markdown",
     "checksum": "04ea35cf46fc85c3f86229a2d832dbd2",
     "grade": false,
     "grade_id": "cell-e6728755ea4b1de5",
     "locked": true,
     "schema_version": 3,
     "solution": false,
     "task": false
    }
   },
   "source": [
    "## Working on loops and file interactions"
   ]
  },
  {
   "cell_type": "markdown",
   "metadata": {
    "deletable": false,
    "editable": false,
    "nbgrader": {
     "cell_type": "markdown",
     "checksum": "b4d1bb211a0c7307b082d1fc2adad1e0",
     "grade": false,
     "grade_id": "cell-9f652ae0a123834c",
     "locked": true,
     "schema_version": 3,
     "solution": false,
     "task": false
    }
   },
   "source": [
    "We are seeking to develop a program that searches for one specific character in a given input, and counts how many times the character appears in this input. \n",
    "\n",
    "**Be careful here!\n",
    "The text input and the character we are looking for are given as arguments of this function. \n",
    "So do not define any input(prompt) element.\n",
    "Just give inputs as it is done in the test example below!**\n",
    "\n",
    "To count how many times the character appears, you will have to define a count variable and add 1 each time the character is found. \n",
    "\n",
    "Give 2 different outputs for the user: \n",
    "- One concerns when the character could not be found into the input given\n",
    "And you should use an output message like: \n",
    "        XX could not be found in 'gnrzbruo' \n",
    "\n",
    "- The other one gives the counting of the character\n",
    "and you should use an output message like: \n",
    "        XX Has been found {nb} times in {input}\n",
    "\n",
    "\n",
    "The program should only return the count. \n",
    "So 0 if you couldn't find the character in the input.\n",
    "\n",
    "Do not forgot to use tests to see if your program runs well.\n",
    "The print output does not count into the test processing system.\n"
   ]
  },
  {
   "cell_type": "code",
   "execution_count": 32,
   "metadata": {},
   "outputs": [
    {
     "data": {
      "text/plain": [
       "2"
      ]
     },
     "execution_count": 32,
     "metadata": {},
     "output_type": "execute_result"
    }
   ],
   "source": [
    "#Method find / index \n",
    "text = 'I am in class today'\n",
    "text.find('a')\n"
   ]
  },
  {
   "cell_type": "code",
   "execution_count": 33,
   "metadata": {
    "deletable": false,
    "nbgrader": {
     "cell_type": "code",
     "checksum": "c92799340be54321eba7f6a736f2c423",
     "grade": false,
     "grade_id": "search",
     "locked": false,
     "schema_version": 3,
     "solution": true,
     "task": false
    }
   },
   "outputs": [],
   "source": [
    "def search(text,character):\n",
    "    '''This function searches for one character, defined as 2nd argument, \n",
    "    in a given text / string of characters, defined as 1 st argument, \n",
    "    and counts how many times it appears'''\n",
    "    \n",
    "    # The 1st argument text here represents the input in which you are looking for \n",
    "    # The 2nd argument character represents the character you are looking for\n",
    "    count = 0\n",
    "    for c in text:\n",
    "        count += c.lower().find(str(character)) + 1\n",
    "    \n",
    "    if count:\n",
    "        print(f\"'{character}' has been found {count} times in '{text}'\")\n",
    "    else:\n",
    "        print(f\"'{character}' could not be found in '{text}'\")\n",
    "    \n",
    "    return count"
   ]
  },
  {
   "cell_type": "code",
   "execution_count": 34,
   "metadata": {
    "deletable": false,
    "editable": false,
    "nbgrader": {
     "cell_type": "code",
     "checksum": "fbe413ff9ba862095184c5cfc5763686",
     "grade": true,
     "grade_id": "cell-824190667948a132",
     "locked": true,
     "points": 2,
     "schema_version": 3,
     "solution": false,
     "task": false
    }
   },
   "outputs": [
    {
     "name": "stdout",
     "output_type": "stream",
     "text": [
      "'3' has been found 2 times in 'I've got 3 cats at home. And all 3 of them are lazy.'\n",
      "'a' has been found 6 times in 'I've got 3 cats at home. And all 3 of them are lazy.'\n"
     ]
    }
   ],
   "source": [
    "import mock\n",
    "from io import StringIO\n",
    "import sys\n",
    "\n",
    "text = \"I've got 3 cats at home. And all 3 of them are lazy.\"\n",
    "character = 3\n",
    "assert search(text,character) == 2\n",
    "assert search(text,'a') == 6\n"
   ]
  },
  {
   "cell_type": "code",
   "execution_count": 35,
   "metadata": {
    "deletable": false,
    "editable": false,
    "nbgrader": {
     "cell_type": "code",
     "checksum": "3579911b9018e50e6e2f6c4c7c703f7e",
     "grade": true,
     "grade_id": "cell-42b99048c03d782a",
     "locked": true,
     "points": 2,
     "schema_version": 3,
     "solution": false,
     "task": false
    }
   },
   "outputs": [
    {
     "name": "stdout",
     "output_type": "stream",
     "text": [
      "'2' could not be found in 'I've got 3 cats at home. And all 3 of them are lazy.'\n"
     ]
    }
   ],
   "source": [
    "import mock\n",
    "from io import StringIO\n",
    "import sys\n",
    "\n",
    "text = \"I've got 3 cats at home. And all 3 of them are lazy.\"\n",
    "character = 2\n",
    "assert search(text,character) == 0\n"
   ]
  },
  {
   "cell_type": "markdown",
   "metadata": {
    "deletable": false,
    "editable": false,
    "nbgrader": {
     "cell_type": "markdown",
     "checksum": "87775a06eae7fe33d3e62ac4df50990a",
     "grade": false,
     "grade_id": "cell-51b1dd00372d38ed",
     "locked": true,
     "schema_version": 3,
     "solution": false,
     "task": false
    }
   },
   "source": [
    "---"
   ]
  },
  {
   "cell_type": "markdown",
   "metadata": {
    "deletable": false,
    "editable": false,
    "nbgrader": {
     "cell_type": "markdown",
     "checksum": "98a0528a1b4b8ee0c5eda6cc8e110b24",
     "grade": false,
     "grade_id": "cell-b6e7ec9c00cef757",
     "locked": true,
     "schema_version": 3,
     "solution": false,
     "task": false
    }
   },
   "source": [
    "\n",
    "## Exercises with strings and loops\n",
    "\n",
    "Create a function here that takes 2 arguments (text & character).\n",
    "The 1st one represents a text input given by the user.\n",
    "The 2nd argument represents one character (only one letter here) to be found in the text.\n",
    "\n",
    "This function takes 2 arguments. The 1st argument is a text and the 2nd argument is a character we look for inside the text argument. The function calculates some statistics (counting the number of words, the average length of words used and counts how many times the argument character appears)\n",
    "    \n",
    "If the input is not a text,\n",
    "print a \"Warning\" message\n",
    "and transform the input as string of characters.\n",
    "This part is already coded here \n",
    "But use the flag after to change the output prints.\n",
    "\n",
    "If the input is a text, \n",
    "Print out \n",
    "- The number of words \n",
    "- The average length of the words \n",
    "- How many times the character input appears in text.\n",
    "\n",
    "**The function should return the 3 results from calculations.**\n",
    "\n",
    "If the text is empty, return None and print out an error message.\n"
   ]
  },
  {
   "cell_type": "markdown",
   "metadata": {
    "deletable": false,
    "editable": false,
    "nbgrader": {
     "cell_type": "markdown",
     "checksum": "8751ee7bd81497366f71a660a9270807",
     "grade": false,
     "grade_id": "cell-3c4de87e9323383e",
     "locked": true,
     "schema_version": 3,
     "solution": false,
     "task": false
    }
   },
   "source": [
    "You can use here the split() method applied to text. \n",
    "\n",
    "This method will split your text into multiple pieces. The delimiter should be defined as argument of the split() function. \n",
    "See an example below\n",
    "\n",
    "For more details: help(str.split)\n"
   ]
  },
  {
   "cell_type": "code",
   "execution_count": 36,
   "metadata": {},
   "outputs": [
    {
     "name": "stdout",
     "output_type": "stream",
     "text": [
      "Help on method_descriptor:\n",
      "\n",
      "split(self, /, sep=None, maxsplit=-1)\n",
      "    Return a list of the words in the string, using sep as the delimiter string.\n",
      "    \n",
      "    sep\n",
      "      The delimiter according which to split the string.\n",
      "      None (the default value) means split according to any whitespace,\n",
      "      and discard empty strings from the result.\n",
      "    maxsplit\n",
      "      Maximum number of splits to do.\n",
      "      -1 (the default value) means no limit.\n",
      "\n"
     ]
    }
   ],
   "source": [
    "help(str.split)"
   ]
  },
  {
   "cell_type": "code",
   "execution_count": 37,
   "metadata": {},
   "outputs": [
    {
     "data": {
      "text/plain": [
       "['This', 'is', 'a', 'text']"
      ]
     },
     "execution_count": 37,
     "metadata": {},
     "output_type": "execute_result"
    }
   ],
   "source": [
    "text = 'This is a text'\n",
    "text.split(\" \")\n"
   ]
  },
  {
   "cell_type": "code",
   "execution_count": 38,
   "metadata": {
    "deletable": false,
    "nbgrader": {
     "cell_type": "code",
     "checksum": "e1602adc6547250e7aefbb6d2bb90718",
     "grade": false,
     "grade_id": "statistics",
     "locked": false,
     "schema_version": 3,
     "solution": true,
     "task": false
    }
   },
   "outputs": [],
   "source": [
    "def statistics(text,character):\n",
    "    '''This function takes 2 arguments. The 1st argument is a text and the 2nd argument is a character \n",
    "    we look for inside the text argument. The function calculates some statistics \n",
    "    (counting the number of words, the average length of words used\n",
    "    and counts how many times the argument character appears)'''\n",
    "    \n",
    "    warning_msg = \"Warning: Your input is not a text. So we transformed it into one\"\n",
    "    \n",
    "    # Giving here the warning message if the arguments are \n",
    "    if type(text)!= str and type(character)!=str:\n",
    "        text = str(text)\n",
    "        character = str(character)\n",
    "        print(warning_msg)\n",
    "\n",
    "    # Here we split the input into multiple parts when separated by a space\n",
    "    text_list = text.split(\" \")\n",
    "    print(text_list)\n",
    "    \n",
    "    if text.isspace():\n",
    "        print(\"Error: The text is empty\")\n",
    "        return None\n",
    "    \n",
    "    nb_words = len(text_list)\n",
    "    avg_word_len = sum([len(word) for word in text_list]) / len(text_list)\n",
    "    character_count = sum([character.lower() == c for c in text])\n",
    "    \n",
    "    print(f\"Number of words: {nb_words}\\nAverage length of the words: {avg_word_len}\\nAppearances of '{character}': {character_count}\")\n",
    "    return nb_words, avg_word_len, character_count"
   ]
  },
  {
   "cell_type": "code",
   "execution_count": 39,
   "metadata": {
    "deletable": false,
    "editable": false,
    "nbgrader": {
     "cell_type": "code",
     "checksum": "b40117827fad1c8643ba63badf9f3c04",
     "grade": true,
     "grade_id": "cell-7a620da29566e996",
     "locked": true,
     "points": 2,
     "schema_version": 3,
     "solution": false,
     "task": false
    }
   },
   "outputs": [
    {
     "name": "stdout",
     "output_type": "stream",
     "text": [
      "['I', 'see', 'trees', 'of', 'green', 'Red', 'roses', 'too', 'I', 'see', 'them', 'bloom', 'For', 'me', 'and', 'you', 'And', 'I', 'think', 'to', 'myself', 'What', 'a', 'wonderful', 'world', 'I', 'see', 'skies', 'of', 'blue', 'And', 'clouds', 'of', 'white', 'The', 'bright', 'blessed', 'day', 'The', 'dark', 'sacred', 'night', 'And', 'I', 'think', 'to', 'myself', 'What', 'a', 'wonderful', 'world', 'The', 'colors', 'of', 'the', 'rainbow', 'So', 'pretty', 'in', 'the', 'sky', 'Are', 'also', 'on', 'the', 'faces', 'Of', 'people', 'going', 'by', 'I', 'see', 'friends', 'shaking', 'hands', 'Saying,', 'How', 'do', 'you', 'do?', 'They', 'are', 'really', 'saying', 'I', 'love', 'you', 'I', 'hear', 'babies', 'cry', 'I', 'watch', 'them', 'grow', 'They', 'will', 'learn', 'much', 'more', 'Than', 'I', 'will', 'never', 'know', 'And', 'I', 'think', 'to', 'myself', 'What', 'a', 'wonderful', 'world', 'Yes,', 'I', 'think', 'to', 'myself', 'What', 'a', 'wonderful', 'world', 'Oh', 'yeah']\n",
      "Number of words: 125\n",
      "Average length of the words: 3.792\n",
      "Appearances of 'is': 0\n"
     ]
    },
    {
     "data": {
      "text/plain": [
       "(125, 3.792, 0)"
      ]
     },
     "execution_count": 39,
     "metadata": {},
     "output_type": "execute_result"
    }
   ],
   "source": [
    "lyrics = \"I see trees of green Red roses too I see them bloom For me and you And I think to myself\\\n",
    " What a wonderful world I see skies of blue And clouds of white The bright blessed day\\\n",
    " The dark sacred night And I think to myself What a wonderful world The colors of the rainbow\\\n",
    " So pretty in the sky Are also on the faces Of people going by I see friends shaking hands\\\n",
    " Saying, How do you do? They are really saying I love you I hear babies cry\\\n",
    " I watch them grow They will learn much more Than I will never know And I think to myself\\\n",
    " What a wonderful world Yes, I think to myself What a wonderful world Oh yeah\"\n",
    "\n",
    "statistics(lyrics, 'is')\n"
   ]
  },
  {
   "cell_type": "code",
   "execution_count": 40,
   "metadata": {
    "deletable": false,
    "editable": false,
    "nbgrader": {
     "cell_type": "code",
     "checksum": "38ffef993ab522d9b69913745924b882",
     "grade": true,
     "grade_id": "cell-752bdae33ca2530a",
     "locked": true,
     "points": 2,
     "schema_version": 3,
     "solution": false,
     "task": false
    }
   },
   "outputs": [],
   "source": [
    "# Testing\n",
    "import mock\n",
    "from io import StringIO\n",
    "import sys\n",
    "\n",
    "with mock.patch('sys.stdout', new_callable=StringIO):\n",
    "    assert statistics(' ','i') is None\n"
   ]
  },
  {
   "cell_type": "code",
   "execution_count": 41,
   "metadata": {
    "deletable": false,
    "editable": false,
    "nbgrader": {
     "cell_type": "code",
     "checksum": "262602a43bc6e573ec5297a55be41ec7",
     "grade": true,
     "grade_id": "cell-a690ce56ba34b23a",
     "locked": true,
     "points": 2,
     "schema_version": 3,
     "solution": false,
     "task": false
    }
   },
   "outputs": [],
   "source": [
    "# Testing\n",
    "import mock\n",
    "from io import StringIO\n",
    "import sys\n",
    "\n",
    "lyrics = \"I see trees of green Red roses too I see them bloom For me and you And I think to myself\\\n",
    " What a wonderful world I see skies of blue And clouds of white The bright blessed day\\\n",
    " The dark sacred night And I think to myself What a wonderful world The colors of the rainbow\\\n",
    " So pretty in the sky Are also on the faces Of people going by I see friends shaking hands\\\n",
    " Saying, How do you do? They are really saying I love you I hear babies cry\\\n",
    " I watch them grow They will learn much more Than I will never know And I think to myself\\\n",
    " What a wonderful world Yes, I think to myself What a wonderful world Oh yeah\"\n",
    "\n",
    "with mock.patch('sys.stdout', new_callable=StringIO):\n",
    "    assert statistics(lyrics,'is') == (125,3.792,0)\n"
   ]
  },
  {
   "cell_type": "markdown",
   "metadata": {
    "deletable": false,
    "editable": false,
    "nbgrader": {
     "cell_type": "markdown",
     "checksum": "95bc8442257627ef66fc57e0d9e418ab",
     "grade": false,
     "grade_id": "cell-88dd60d4844665f1",
     "locked": true,
     "schema_version": 3,
     "solution": false,
     "task": false
    }
   },
   "source": [
    "---"
   ]
  },
  {
   "cell_type": "markdown",
   "metadata": {
    "deletable": false,
    "editable": false,
    "nbgrader": {
     "cell_type": "markdown",
     "checksum": "8d29b10da557ea0c0578c954d605e351",
     "grade": false,
     "grade_id": "cell-01986d3547cfd6b8",
     "locked": true,
     "schema_version": 3,
     "solution": false,
     "task": false
    }
   },
   "source": [
    "\n",
    "## Exercises with \"Files\"\n",
    "\n",
    "This is a big important chapter.  All data files have to be loaded and parsed into Python before you can do analysis on them.  And you can also write out your results in files after doing this chapter.\n",
    "\n",
    "\n",
    "**Question** Save the file mbox-short.txt from the chapter to your computer. Be sure you understand where it is located so you can read it in. If it is in the same directory as this notebook, you don't need to give a path to the file.  A path is the pwd info + filename from the Unix practice you did in class.  For instance:\n",
    "\n",
    "```\n",
    "myfile = \"/Users/loeillet/Documents/MK34P/mbox-short.txt\"\n",
    "```\n",
    "\n",
    "\n",
    "Create a function that reads in the file and looks for lines with \"http\" and \"@\" in them. (Hint: \"http\" can appear inside a longer string like \"https\".) Keep a count of how many URLs and how many email addresses appear. Print out the first URL in each line, but nothing else in that line. This means you need to isolate the URL from the rest of the line (you can use space as the delimiter.)\n",
    "\n",
    "At the end, return:\n",
    "- the total count of lines containing http, \n",
    "- the total count of lines containing @ in the file.\n",
    "\n",
    "(You can use \"return variable1, variable2\" to return 2 variables from a function. \n",
    "It could be done with more the number of variables you want of course.)\n",
    "\n",
    "** Note: the preferred way to do the file open and read is like this, not as shown in the book.  Please use this model in your code: **\n",
    "\n",
    "\n"
   ]
  },
  {
   "cell_type": "code",
   "execution_count": 42,
   "metadata": {
    "deletable": false,
    "editable": false,
    "nbgrader": {
     "cell_type": "code",
     "checksum": "33aad89ad0531a464708067db8ddae45",
     "grade": false,
     "grade_id": "cell-d06d273c3d9c8eea",
     "locked": true,
     "schema_version": 3,
     "solution": false,
     "task": false
    }
   },
   "outputs": [],
   "source": [
    "## Example of how to read in the file and do things with it:\n",
    "\n",
    "# you need to give the full path to the file you are opening in the string, or a path relative to where your notebook\n",
    "# A relative path means a folder + filename inside the current folder where the notebook is running.\n",
    "# Here mine is in a folder called text-files.\n",
    "\n",
    "with open('data-files/mbox-short.txt', 'r') as handle:\n",
    "    for line in handle:\n",
    "        # do stuff here with each line.  Try uncommenting the print and removing the 'continue.  \n",
    "        # Think about removing the \\n at the end of the line.\n",
    "        # print(line)\n",
    "        continue\n"
   ]
  },
  {
   "cell_type": "code",
   "execution_count": 43,
   "metadata": {
    "deletable": false,
    "nbgrader": {
     "cell_type": "code",
     "checksum": "36a42bd127c94d42d6163aba8bd2eea3",
     "grade": false,
     "grade_id": "count_urls_emails",
     "locked": false,
     "schema_version": 3,
     "solution": true,
     "task": false
    }
   },
   "outputs": [],
   "source": [
    "# Other version \n",
    "def count_urls_emails(filename):\n",
    "    \"\"\"\n",
    "    Pass in the full path to the file you are searching for URLs and Emails.\n",
    "    Return the total of lines with http and @ found.\n",
    "    \"\"\"\n",
    "\n",
    "    nb_url, nb_mail = 0, 0\n",
    "    with open('data-files/mbox-short.txt', 'r') as handle:\n",
    "        for line in handle:\n",
    "            for word in line.split(\" \"):\n",
    "                if \"http\" in word:\n",
    "                    nb_url += 1\n",
    "                if \"@\" in word:\n",
    "                    nb_mail += 1\n",
    "    \n",
    "    print(f\"Urls: {nb_url}, Emails: {nb_mail}\")\n",
    "    return nb_url, nb_mail"
   ]
  },
  {
   "cell_type": "code",
   "execution_count": 44,
   "metadata": {
    "deletable": false,
    "editable": false,
    "nbgrader": {
     "cell_type": "code",
     "checksum": "bea75b450d3d9ff9d32abd9b259eeb69",
     "grade": true,
     "grade_id": "cell-a5c2aabad070d2ef",
     "locked": true,
     "points": 2,
     "schema_version": 3,
     "solution": false,
     "task": false
    }
   },
   "outputs": [
    {
     "name": "stdout",
     "output_type": "stream",
     "text": [
      "Urls: 75, Emails: 336\n"
     ]
    },
    {
     "data": {
      "text/plain": [
       "(75, 336)"
      ]
     },
     "execution_count": 44,
     "metadata": {},
     "output_type": "execute_result"
    }
   ],
   "source": [
    "# test your code on your function -- put the path to the file in the argument.\n",
    "\n",
    "filepath = 'data-files/mbox-short.txt'\n",
    "count_urls_emails(filepath)\n"
   ]
  },
  {
   "cell_type": "code",
   "execution_count": 45,
   "metadata": {
    "deletable": false,
    "editable": false,
    "nbgrader": {
     "cell_type": "code",
     "checksum": "efcd465886c8439cf9d23f602cf6a226",
     "grade": true,
     "grade_id": "cell-dd92fffc8a5359d5",
     "locked": true,
     "points": 2,
     "schema_version": 3,
     "solution": false,
     "task": false
    }
   },
   "outputs": [
    {
     "name": "stdout",
     "output_type": "stream",
     "text": [
      "Urls: 75, Emails: 336\n"
     ]
    }
   ],
   "source": [
    "# Tests for your code. Manually grading the url printing.  Testing the output count is correct.\n",
    "\n",
    "assert count_urls_emails('data-files/mbox-short.txt') == (75,336)\n"
   ]
  },
  {
   "cell_type": "markdown",
   "metadata": {},
   "source": [
    "---"
   ]
  }
 ],
 "metadata": {
  "kernelspec": {
   "display_name": "Python 3",
   "language": "python",
   "name": "python3"
  },
  "language_info": {
   "codemirror_mode": {
    "name": "ipython",
    "version": 3
   },
   "file_extension": ".py",
   "mimetype": "text/x-python",
   "name": "python",
   "nbconvert_exporter": "python",
   "pygments_lexer": "ipython3",
   "version": "3.8.5"
  }
 },
 "nbformat": 4,
 "nbformat_minor": 4
}
