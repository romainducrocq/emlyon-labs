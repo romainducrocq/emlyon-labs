{
 "cells": [
  {
   "cell_type": "markdown",
   "metadata": {},
   "source": [
    "## <span style='color:red;'>DUCROCQ Romain</span>\n",
    "\n",
    "# **[MK34P Course] Assignment #1**\n",
    "- **<ins>Week 2: Basics of algorithmic logic</ins>**"
   ]
  },
  {
   "cell_type": "markdown",
   "metadata": {},
   "source": [
    "### <span style='color:blue'>Question 1:</span>\n",
    "\n",
    "![q1-organigram.png](q1-organigram.png)"
   ]
  },
  {
   "cell_type": "code",
   "execution_count": 1,
   "metadata": {},
   "outputs": [],
   "source": [
    "def ask_name_and_greet():\n",
    "    while True:\n",
    "        name = input(\"What is your name: \").rstrip().lstrip().title()\n",
    "        if not name == \"Bob\":\n",
    "            print(f\"Hi {name}! Good to see you!\\n\")\n",
    "        else:\n",
    "            print(\"Oh, not you, Bob!\")\n",
    "            break"
   ]
  },
  {
   "cell_type": "code",
   "execution_count": 2,
   "metadata": {},
   "outputs": [
    {
     "name": "stdout",
     "output_type": "stream",
     "text": [
      "What is your name:      romain ducrocq\n",
      "Hi Romain Ducrocq! Good to see you!\n",
      "\n",
      "What is your name: bob\n",
      "Oh, not you, Bob!\n"
     ]
    }
   ],
   "source": [
    "ask_name_and_greet()"
   ]
  },
  {
   "cell_type": "markdown",
   "metadata": {},
   "source": [
    "### <span style='color:blue'>Question 2:</span>"
   ]
  },
  {
   "cell_type": "code",
   "execution_count": 3,
   "metadata": {},
   "outputs": [],
   "source": [
    "def ask_name_and_greet_and_print_longest_shortest():\n",
    "    longest, shortest = None, None\n",
    "    while True:\n",
    "        name = input(\"What is your name: \").rstrip().lstrip().title()\n",
    "        if longest == None or len(name) > len(longest):\n",
    "            longest = name\n",
    "        if shortest == None or len(name) < len(shortest):\n",
    "            shortest = name\n",
    "        print(f\"Longest: {longest}\\nShortest: {shortest}\\n\")\n",
    "        if not name == \"Bob\":\n",
    "            print(f\"Hi {name}! Good to see you!\")\n",
    "        else:\n",
    "            print(\"Oh, not you, Bob!\")\n",
    "            break"
   ]
  },
  {
   "cell_type": "code",
   "execution_count": 4,
   "metadata": {},
   "outputs": [
    {
     "name": "stdout",
     "output_type": "stream",
     "text": [
      "What is your name: romain ducrocq\n",
      "Longest: Romain Ducrocq\n",
      "Shortest: Romain Ducrocq\n",
      "\n",
      "Hi Romain Ducrocq! Good to see you!\n",
      "What is your name: rd\n",
      "Longest: Romain Ducrocq\n",
      "Shortest: Rd\n",
      "\n",
      "Hi Rd! Good to see you!\n",
      "What is your name: bob\n",
      "Longest: Romain Ducrocq\n",
      "Shortest: Rd\n",
      "\n",
      "Oh, not you, Bob!\n"
     ]
    }
   ],
   "source": [
    "ask_name_and_greet_and_print_longest_shortest()"
   ]
  },
  {
   "cell_type": "markdown",
   "metadata": {},
   "source": [
    "### <span style='color:blue'>Question 3:</span>"
   ]
  },
  {
   "cell_type": "code",
   "execution_count": 5,
   "metadata": {},
   "outputs": [],
   "source": [
    "def count_vowels_and_to_upper(word):\n",
    "    count = 0;\n",
    "    for i in range(len(word)):\n",
    "        if word[i] == \" \":\n",
    "            print(\"Error: no white space allowed!\\n\")\n",
    "            return None, None\n",
    "        elif word[i].lower() in \"aeiouy\":\n",
    "            count += 1\n",
    "            word = word[:i] + word[i].upper() + word[i+1:]\n",
    "    print(f\"vowels: {count}\\nVowels to upper case: {word}\\n\")\n",
    "    return word, count"
   ]
  },
  {
   "cell_type": "code",
   "execution_count": 6,
   "metadata": {},
   "outputs": [
    {
     "name": "stdout",
     "output_type": "stream",
     "text": [
      "vowels: 5\n",
      "Vowels to upper case: rOmAIn_dUcrOcq\n",
      "\n",
      "Return: 5, rOmAIn_dUcrOcq\n",
      "\n"
     ]
    }
   ],
   "source": [
    "word, count = count_vowels_and_to_upper(\"romain_ducrocq\")\n",
    "print(f\"Return: {count}, {word}\\n\")"
   ]
  },
  {
   "cell_type": "code",
   "execution_count": 7,
   "metadata": {},
   "outputs": [
    {
     "name": "stdout",
     "output_type": "stream",
     "text": [
      "Error: no white space allowed!\n",
      "\n",
      "Return: None, None\n",
      "\n"
     ]
    }
   ],
   "source": [
    "word, count = count_vowels_and_to_upper(\"romain ducrocq\")\n",
    "print(f\"Return: {count}, {word}\\n\")"
   ]
  },
  {
   "cell_type": "code",
   "execution_count": 8,
   "metadata": {},
   "outputs": [
    {
     "name": "stdout",
     "output_type": "stream",
     "text": [
      "vowels: 2\n",
      "Vowels to upper case: tEstmE\n",
      "\n",
      "Return: 2, tEstmE\n",
      "\n"
     ]
    }
   ],
   "source": [
    "word, count = count_vowels_and_to_upper(\"testme\")\n",
    "print(f\"Return: {count}, {word}\\n\")"
   ]
  },
  {
   "cell_type": "code",
   "execution_count": null,
   "metadata": {},
   "outputs": [],
   "source": []
  }
 ],
 "metadata": {
  "kernelspec": {
   "display_name": "Python 3",
   "language": "python",
   "name": "python3"
  },
  "language_info": {
   "codemirror_mode": {
    "name": "ipython",
    "version": 3
   },
   "file_extension": ".py",
   "mimetype": "text/x-python",
   "name": "python",
   "nbconvert_exporter": "python",
   "pygments_lexer": "ipython3",
   "version": "3.8.3"
  }
 },
 "nbformat": 4,
 "nbformat_minor": 4
}
