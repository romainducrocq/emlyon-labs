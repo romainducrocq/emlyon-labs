{
 "cells": [
  {
   "cell_type": "markdown",
   "metadata": {},
   "source": [
    "# Writing and Reading Files in Python\n",
    "\n",
    "There are lots of ways to handle reading and writing files in Python, especially for CSV data. \n",
    "\n",
    "You already know the method using Python basic functions and you are going to find out two more, using two different libraries : CSV and Pandas. \n",
    "\n",
    "Lets create our toy data and explore reading and writing it using the 3 methods.\n",
    "\n",
    "The data we will create corresponds to students and their corresponding scores on 4 courses. So each data sample contains 4 numbers and the student's name."
   ]
  },
  {
   "cell_type": "code",
   "execution_count": 10,
   "metadata": {},
   "outputs": [],
   "source": [
    "csvdata = [[2,4,5,12,\"fred\"],[34,43,21,43,\"annie\"], [324,3,43,4,\"jean\"]]"
   ]
  },
  {
   "cell_type": "markdown",
   "metadata": {},
   "source": [
    "This creates a list of 3 lists"
   ]
  },
  {
   "cell_type": "code",
   "execution_count": 11,
   "metadata": {},
   "outputs": [
    {
     "data": {
      "text/plain": [
       "[[2, 4, 5, 12, 'fred'], [34, 43, 21, 43, 'annie'], [324, 3, 43, 4, 'jean']]"
      ]
     },
     "execution_count": 11,
     "metadata": {},
     "output_type": "execute_result"
    }
   ],
   "source": [
    "csvdata"
   ]
  },
  {
   "cell_type": "code",
   "execution_count": 12,
   "metadata": {},
   "outputs": [
    {
     "data": {
      "text/plain": [
       "[34, 43, 21, 43, 'annie']"
      ]
     },
     "execution_count": 12,
     "metadata": {},
     "output_type": "execute_result"
    }
   ],
   "source": [
    "csvdata[1]"
   ]
  },
  {
   "cell_type": "code",
   "execution_count": 13,
   "metadata": {},
   "outputs": [
    {
     "data": {
      "text/plain": [
       "21"
      ]
     },
     "execution_count": 13,
     "metadata": {},
     "output_type": "execute_result"
    }
   ],
   "source": [
    "csvdata[1][2]"
   ]
  },
  {
   "cell_type": "markdown",
   "metadata": {},
   "source": [
    "In order to write our data inside a file, we have to convert all the values in it into a string. for that we use the function `.join`"
   ]
  },
  {
   "cell_type": "markdown",
   "metadata": {},
   "source": [
    "Join concatenates strings into one string. For example: "
   ]
  },
  {
   "cell_type": "code",
   "execution_count": 14,
   "metadata": {},
   "outputs": [
    {
     "data": {
      "text/plain": [
       "'fred,annie,howard'"
      ]
     },
     "execution_count": 14,
     "metadata": {},
     "output_type": "execute_result"
    }
   ],
   "source": [
    "# Remember how join works:\n",
    "','.join([\"fred\", \"annie\", \"howard\"])  # creates a string separated by ,"
   ]
  },
  {
   "cell_type": "markdown",
   "metadata": {},
   "source": [
    "If we use it to join all the values inside the first data row for example:"
   ]
  },
  {
   "cell_type": "code",
   "execution_count": 15,
   "metadata": {},
   "outputs": [
    {
     "ename": "TypeError",
     "evalue": "sequence item 0: expected str instance, int found",
     "output_type": "error",
     "traceback": [
      "\u001b[0;31m---------------------------------------------------------------------------\u001b[0m",
      "\u001b[0;31mTypeError\u001b[0m                                 Traceback (most recent call last)",
      "\u001b[0;32m<ipython-input-15-43cb7f1257e8>\u001b[0m in \u001b[0;36m<module>\u001b[0;34m\u001b[0m\n\u001b[0;32m----> 1\u001b[0;31m \u001b[0;34m','\u001b[0m\u001b[0;34m.\u001b[0m\u001b[0mjoin\u001b[0m\u001b[0;34m(\u001b[0m\u001b[0mcsvdata\u001b[0m\u001b[0;34m[\u001b[0m\u001b[0;36m1\u001b[0m\u001b[0;34m]\u001b[0m\u001b[0;34m)\u001b[0m\u001b[0;34m\u001b[0m\u001b[0;34m\u001b[0m\u001b[0m\n\u001b[0m",
      "\u001b[0;31mTypeError\u001b[0m: sequence item 0: expected str instance, int found"
     ]
    }
   ],
   "source": [
    "','.join(csvdata[1])"
   ]
  },
  {
   "cell_type": "markdown",
   "metadata": {},
   "source": [
    "It won't work because of the numbers in it! to solve this, we have to change the type of numbers from integer (int) to string (str)"
   ]
  },
  {
   "cell_type": "code",
   "execution_count": 16,
   "metadata": {},
   "outputs": [
    {
     "data": {
      "text/plain": [
       "'34,43,21,43,annie'"
      ]
     },
     "execution_count": 16,
     "metadata": {},
     "output_type": "execute_result"
    }
   ],
   "source": [
    "# change the type of numbers from int to str \n",
    "row = csvdata[1]\n",
    "','.join([ str(row[0]), str(row[1]), str(row[2]), str(row[3]), str(row[4]) ])"
   ]
  },
  {
   "cell_type": "markdown",
   "metadata": {},
   "source": [
    "or you can make it all strings first:"
   ]
  },
  {
   "cell_type": "code",
   "execution_count": 17,
   "metadata": {},
   "outputs": [
    {
     "name": "stdout",
     "output_type": "stream",
     "text": [
      "['34', '43', '21', '43', 'annie']\n"
     ]
    },
    {
     "data": {
      "text/plain": [
       "'34,43,21,43,annie'"
      ]
     },
     "execution_count": 17,
     "metadata": {},
     "output_type": "execute_result"
    }
   ],
   "source": [
    "row = [str(item) for item in row]\n",
    "print(row)\n",
    "','.join(row)"
   ]
  },
  {
   "cell_type": "markdown",
   "metadata": {},
   "source": [
    "Now that you have learned how to convert the values in a data list to strings, lets start by exploring using basic functions of python to write and read files."
   ]
  },
  {
   "cell_type": "markdown",
   "metadata": {},
   "source": [
    "## Using basic functions of Python\n",
    "\n",
    "To write a string to a file, we use the Python build-in function .write().\n",
    "\n",
    "**When we open a file for writing, we need to say \"w\" for the write operation. Read is the default (but you can also say 'r' if you prefer when reading.)**\n",
    "\n",
    "*Note*: In Python3, if you have an error with characters it can't read, you can get around it by saying\n",
    "`errors=\"ignore\"` in your file() function.\n",
    "### Writing "
   ]
  },
  {
   "cell_type": "code",
   "execution_count": 18,
   "metadata": {},
   "outputs": [
    {
     "name": "stdout",
     "output_type": "stream",
     "text": [
      "['2', '4', '5', '12', 'fred']\n",
      "['34', '43', '21', '43', 'annie']\n",
      "['324', '3', '43', '4', 'jean']\n"
     ]
    }
   ],
   "source": [
    "with open(\"data/myfile.csv\", \"w\", errors=\"ignore\") as handle:\n",
    "    # up here, print your headers to the file:\n",
    "    handle.write(\"Score1,Score2,Score3,Score4,Name\\n\")\n",
    "    for row in csvdata:\n",
    "        # we loop through the data -- but we have to make it a string\n",
    "        # to write it with the plain file write command.\n",
    "        # each string has to end in a \\n -- new line.\n",
    "        #handle.write(\"Some string\")\n",
    "        row = [str(item) for item in row]\n",
    "        print(row)\n",
    "        handle.write(','.join(row) + \"\\n\")"
   ]
  },
  {
   "cell_type": "markdown",
   "metadata": {},
   "source": [
    "**the option \"w\" overwrites the file **"
   ]
  },
  {
   "cell_type": "markdown",
   "metadata": {},
   "source": [
    "#### Wrap It In a Function! "
   ]
  },
  {
   "cell_type": "markdown",
   "metadata": {},
   "source": [
    "Lets wrap the above in a function that takes as argument the filepath, the data and the headers which contains the names of the cilumns."
   ]
  },
  {
   "cell_type": "code",
   "execution_count": null,
   "metadata": {},
   "outputs": [],
   "source": [
    "def write_csv(filepath, data, headers):\n",
    "    \"\"\" Takes the path of thefile to write to, data in list, and header string.\"\"\"\n",
    "    with open(filepath, \"w\", errors=\"ignore\") as handle:\n",
    "        # up here, print your headers to the file:\n",
    "        handle.write(headers)\n",
    "        for row in data:\n",
    "            # we loop through the data -- but we have to make it a string\n",
    "            # to write it with the plain file write command.\n",
    "            # each string has to end in a \\n -- new line.\n",
    "            #handle.write(\"Some string\")\n",
    "            row = [str(item) for item in row]\n",
    "            handle.write(','.join(row) + \"\\n\")\n",
    "        print(\"wrote file %s\" % filepath)"
   ]
  },
  {
   "cell_type": "code",
   "execution_count": null,
   "metadata": {},
   "outputs": [],
   "source": [
    "header = \"Score1,Score2,Score3,Score4,Name\\n\"\n",
    "\n",
    "# call the function with the arguments:\n",
    "write_csv(\"data/myfile1.csv\", csvdata, header)"
   ]
  },
  {
   "cell_type": "markdown",
   "metadata": {},
   "source": [
    "### Reading\n",
    "To read we use the .read() function. This function returns a string, which is not convenient to manage data"
   ]
  },
  {
   "cell_type": "code",
   "execution_count": null,
   "metadata": {},
   "outputs": [],
   "source": [
    "with open(\"data/myfile.csv\",\"r\") as handle:\n",
    "    data = handle.read()\n",
    "    print(data)"
   ]
  },
  {
   "cell_type": "markdown",
   "metadata": {},
   "source": [
    "## Using the CSV Module\n",
    "\n",
    "docs: https://docs.python.org/3.6/library/csv.html\n",
    "\n",
    "### Writing"
   ]
  },
  {
   "cell_type": "code",
   "execution_count": 23,
   "metadata": {},
   "outputs": [],
   "source": [
    "# Writing with it:\n",
    "import csv\n",
    "\n",
    "with open('data/myfile3.csv', 'w', newline='\\n') as csvfile:\n",
    "    spamwriter = csv.writer(csvfile, delimiter=',')#initialize a writer with delimiter \",\"\n",
    "    for row in csvdata:\n",
    "        spamwriter.writerow(row)"
   ]
  },
  {
   "cell_type": "code",
   "execution_count": 24,
   "metadata": {},
   "outputs": [
    {
     "name": "stdout",
     "output_type": "stream",
     "text": [
      "2,4,5,12,fred\r",
      "\r\n",
      "34,43,21,43,annie\r",
      "\r\n",
      "324,3,43,4,jean\r",
      "\r\n"
     ]
    }
   ],
   "source": [
    "# unix, probably won't work on windows - you can go find the file and look at it.\n",
    "!cat data/myfile3.csv"
   ]
  },
  {
   "cell_type": "markdown",
   "metadata": {},
   "source": [
    "### Reading\n",
    "Reading is done using the function csv.reader()"
   ]
  },
  {
   "cell_type": "code",
   "execution_count": 22,
   "metadata": {},
   "outputs": [
    {
     "name": "stdout",
     "output_type": "stream",
     "text": [
      "raw row looks like this: ['Score1', 'Score2', 'Score3', 'Score4', 'Name']\n",
      "Prettier Score1, Score2, Score3, Score4, Name\n",
      "raw row looks like this: ['2', '4', '5', '12', 'fred']\n",
      "Prettier 2, 4, 5, 12, fred\n",
      "raw row looks like this: ['34', '43', '21', '43', 'annie']\n",
      "Prettier 34, 43, 21, 43, annie\n",
      "raw row looks like this: ['324', '3', '43', '4', 'jean']\n",
      "Prettier 324, 3, 43, 4, jean\n"
     ]
    }
   ],
   "source": [
    "# reading a csv file using csv -- notice, no 'w', so 'r' is assumed:\n",
    "\n",
    "with open('data/myfile.csv', 'r', errors='ignore') as csvfile:\n",
    "    data2 = csv.reader(csvfile, delimiter=',')\n",
    "    for row in data2:\n",
    "        print(\"raw row looks like this:\", row)\n",
    "        # make it prettier with:\n",
    "        print(\"Prettier\", ', '.join(row))"
   ]
  },
  {
   "cell_type": "markdown",
   "metadata": {},
   "source": [
    "### CSV Dict files\n",
    "#### DictReader\n",
    "If you want to read the data as a dictionary. The CSV module has a function called `DictReader()`\n",
    "Each row of your data will be a dictionary.\n",
    "\n",
    "If your first row has labels in it, you can return a dictionary using the CSV DictReader."
   ]
  },
  {
   "cell_type": "code",
   "execution_count": 17,
   "metadata": {
    "scrolled": true
   },
   "outputs": [
    {
     "ename": "FileNotFoundError",
     "evalue": "[Errno 2] No such file or directory: 'data/myfile.csv'",
     "output_type": "error",
     "traceback": [
      "\u001b[0;31m---------------------------------------------------------------------------\u001b[0m",
      "\u001b[0;31mFileNotFoundError\u001b[0m                         Traceback (most recent call last)",
      "\u001b[0;32m<ipython-input-17-837d9a325687>\u001b[0m in \u001b[0;36m<module>\u001b[0;34m\u001b[0m\n\u001b[1;32m      2\u001b[0m \u001b[0;34m\u001b[0m\u001b[0m\n\u001b[1;32m      3\u001b[0m \u001b[0mmydata\u001b[0m \u001b[0;34m=\u001b[0m \u001b[0;34m[\u001b[0m\u001b[0;34m]\u001b[0m\u001b[0;34m\u001b[0m\u001b[0;34m\u001b[0m\u001b[0m\n\u001b[0;32m----> 4\u001b[0;31m \u001b[0;32mwith\u001b[0m \u001b[0mopen\u001b[0m\u001b[0;34m(\u001b[0m\u001b[0;34m'data/myfile.csv'\u001b[0m\u001b[0;34m,\u001b[0m \u001b[0merrors\u001b[0m\u001b[0;34m=\u001b[0m\u001b[0;34m'ignore'\u001b[0m\u001b[0;34m)\u001b[0m \u001b[0;32mas\u001b[0m \u001b[0mcsvfile\u001b[0m\u001b[0;34m:\u001b[0m\u001b[0;34m\u001b[0m\u001b[0;34m\u001b[0m\u001b[0m\n\u001b[0m\u001b[1;32m      5\u001b[0m     \u001b[0mreader\u001b[0m \u001b[0;34m=\u001b[0m \u001b[0mcsv\u001b[0m\u001b[0;34m.\u001b[0m\u001b[0mDictReader\u001b[0m\u001b[0;34m(\u001b[0m\u001b[0mcsvfile\u001b[0m\u001b[0;34m)\u001b[0m\u001b[0;34m\u001b[0m\u001b[0;34m\u001b[0m\u001b[0m\n\u001b[1;32m      6\u001b[0m     \u001b[0;32mfor\u001b[0m \u001b[0mrow\u001b[0m \u001b[0;32min\u001b[0m \u001b[0mreader\u001b[0m\u001b[0;34m:\u001b[0m\u001b[0;34m\u001b[0m\u001b[0;34m\u001b[0m\u001b[0m\n",
      "\u001b[0;31mFileNotFoundError\u001b[0m: [Errno 2] No such file or directory: 'data/myfile.csv'"
     ]
    }
   ],
   "source": [
    "import csv\n",
    "\n",
    "mydata = []\n",
    "with open('data/myfile.csv', errors='ignore') as csvfile:\n",
    "    reader = csv.DictReader(csvfile)\n",
    "    for row in reader:\n",
    "        print(\"the raw dictionary\", row)\n",
    "        # accessing certain columns:\n",
    "        print(row['Score1'], row['Score2'], row['Name'])\n",
    "        mydata.append(row)"
   ]
  },
  {
   "cell_type": "markdown",
   "metadata": {},
   "source": [
    "Likewise, you can write dictionary data out as a csv using the DictWriter.  Up above, we collected the rows into a list called mydata."
   ]
  },
  {
   "cell_type": "code",
   "execution_count": null,
   "metadata": {},
   "outputs": [],
   "source": [
    "mydata"
   ]
  },
  {
   "cell_type": "code",
   "execution_count": null,
   "metadata": {},
   "outputs": [],
   "source": [
    "mydata.keys() # does not work because rows are dictionaries and not the mydata"
   ]
  },
  {
   "cell_type": "code",
   "execution_count": null,
   "metadata": {},
   "outputs": [],
   "source": [
    "# These are the column headers for the data file.  Remember there is no order here.\n",
    "mydata[0].keys()"
   ]
  },
  {
   "cell_type": "markdown",
   "metadata": {},
   "source": [
    "#### DictWriter\n",
    "The function DictWriter is used to write data to a csv file starting from a dictionary. \n",
    "In our example, we have read the csv data as a set of dictionaries and put the results in mydata.\n",
    "In the following example, we open a new file called \"myfile3.csv\" then using `DictWriter`, `writeheader()` and `writerow` functions, we write the data into the file.\n",
    "\n",
    "In `DictWriter`, We can set the delimiter between fields to whatever we want, including tab - \\t.\n",
    "\n",
    "Notice you have kind of random order on the fields. That's because we just got the keys from the first item, and didn't specify the order. if you say the order, it's controlled."
   ]
  },
  {
   "cell_type": "code",
   "execution_count": null,
   "metadata": {},
   "outputs": [],
   "source": [
    "with open('data/myfile3.csv', 'w', errors='ignore') as csvfile:\n",
    "    writer = csv.DictWriter(csvfile, delimiter='\\t', fieldnames=list(mydata[0].keys()))\n",
    "    writer.writeheader()\n",
    "    for row in mydata:\n",
    "        # accessing certain columns:\n",
    "        writer.writerow(row)"
   ]
  },
  {
   "cell_type": "markdown",
   "metadata": {},
   "source": [
    "Notice what fieldnames gives :"
   ]
  },
  {
   "cell_type": "code",
   "execution_count": null,
   "metadata": {},
   "outputs": [],
   "source": [
    "list(mydata[0].keys())"
   ]
  },
  {
   "cell_type": "markdown",
   "metadata": {},
   "source": [
    "cat is a linux command that permits to concatenate and view the contents of files. To use it here to show the content of myfile3.csv:"
   ]
  },
  {
   "cell_type": "code",
   "execution_count": null,
   "metadata": {},
   "outputs": [],
   "source": [
    "!cat data/myfile3.csv"
   ]
  },
  {
   "cell_type": "markdown",
   "metadata": {},
   "source": [
    "Here we specify the field order and it controls how it gets written out."
   ]
  },
  {
   "cell_type": "code",
   "execution_count": null,
   "metadata": {},
   "outputs": [],
   "source": [
    "with open('data/myfile4.csv', 'w', errors='ignore') as csvfile:\n",
    "    writer = csv.DictWriter(csvfile, delimiter='\\t', fieldnames=['Name', 'Score1', 'Score2', 'Score3', 'Score4'])\n",
    "    writer.writeheader()\n",
    "    for row in mydata:\n",
    "        # accessing certain columns:\n",
    "        writer.writerow(row)"
   ]
  },
  {
   "cell_type": "code",
   "execution_count": null,
   "metadata": {},
   "outputs": [],
   "source": [
    "!cat data/myfile4.csv"
   ]
  },
  {
   "cell_type": "markdown",
   "metadata": {
    "collapsed": true
   },
   "source": [
    "##  Using the pandas library \n",
    "### Reading\n",
    "\n",
    "http://pandas.pydata.org/pandas-docs/stable/generated/pandas.read_csv.html"
   ]
  },
  {
   "cell_type": "code",
   "execution_count": 1,
   "metadata": {},
   "outputs": [],
   "source": [
    "#import the library pandas\n",
    "import pandas as pd "
   ]
  },
  {
   "cell_type": "markdown",
   "metadata": {},
   "source": [
    "header = 0 indicates the first row is headers, it's the default value\n",
    "\n",
    "if no headers, put header = None \n",
    "\n",
    "to look at the different args you can pass in this function, read the doc"
   ]
  },
  {
   "cell_type": "code",
   "execution_count": 2,
   "metadata": {},
   "outputs": [],
   "source": [
    "# Chargement CSV\n",
    "data_path = \"./data/goog.csv\"\n",
    "data = pd.read_csv(data_path, delimiter=',',header = 0)"
   ]
  },
  {
   "cell_type": "markdown",
   "metadata": {},
   "source": [
    "data is a pandas DataFrame.\n",
    "\n",
    ".head() prints only the five first rows of the DataFrame"
   ]
  },
  {
   "cell_type": "code",
   "execution_count": 3,
   "metadata": {},
   "outputs": [
    {
     "data": {
      "text/html": [
       "<div>\n",
       "<style scoped>\n",
       "    .dataframe tbody tr th:only-of-type {\n",
       "        vertical-align: middle;\n",
       "    }\n",
       "\n",
       "    .dataframe tbody tr th {\n",
       "        vertical-align: top;\n",
       "    }\n",
       "\n",
       "    .dataframe thead th {\n",
       "        text-align: right;\n",
       "    }\n",
       "</style>\n",
       "<table border=\"1\" class=\"dataframe\">\n",
       "  <thead>\n",
       "    <tr style=\"text-align: right;\">\n",
       "      <th></th>\n",
       "      <th>Date</th>\n",
       "      <th>Open</th>\n",
       "      <th>High</th>\n",
       "      <th>Low</th>\n",
       "      <th>Close</th>\n",
       "      <th>Volume</th>\n",
       "    </tr>\n",
       "  </thead>\n",
       "  <tbody>\n",
       "    <tr>\n",
       "      <th>0</th>\n",
       "      <td>2010-01-04</td>\n",
       "      <td>313.16</td>\n",
       "      <td>314.44</td>\n",
       "      <td>311.81</td>\n",
       "      <td>313.06</td>\n",
       "      <td>NaN</td>\n",
       "    </tr>\n",
       "    <tr>\n",
       "      <th>1</th>\n",
       "      <td>2010-01-05</td>\n",
       "      <td>313.28</td>\n",
       "      <td>313.61</td>\n",
       "      <td>310.46</td>\n",
       "      <td>311.68</td>\n",
       "      <td>NaN</td>\n",
       "    </tr>\n",
       "    <tr>\n",
       "      <th>2</th>\n",
       "      <td>2010-01-06</td>\n",
       "      <td>312.62</td>\n",
       "      <td>312.62</td>\n",
       "      <td>302.88</td>\n",
       "      <td>303.83</td>\n",
       "      <td>NaN</td>\n",
       "    </tr>\n",
       "    <tr>\n",
       "      <th>3</th>\n",
       "      <td>2010-01-07</td>\n",
       "      <td>304.40</td>\n",
       "      <td>304.70</td>\n",
       "      <td>296.03</td>\n",
       "      <td>296.75</td>\n",
       "      <td>NaN</td>\n",
       "    </tr>\n",
       "    <tr>\n",
       "      <th>4</th>\n",
       "      <td>2010-01-08</td>\n",
       "      <td>295.70</td>\n",
       "      <td>301.32</td>\n",
       "      <td>294.26</td>\n",
       "      <td>300.71</td>\n",
       "      <td>NaN</td>\n",
       "    </tr>\n",
       "  </tbody>\n",
       "</table>\n",
       "</div>"
      ],
      "text/plain": [
       "         Date    Open    High     Low   Close  Volume\n",
       "0  2010-01-04  313.16  314.44  311.81  313.06     NaN\n",
       "1  2010-01-05  313.28  313.61  310.46  311.68     NaN\n",
       "2  2010-01-06  312.62  312.62  302.88  303.83     NaN\n",
       "3  2010-01-07  304.40  304.70  296.03  296.75     NaN\n",
       "4  2010-01-08  295.70  301.32  294.26  300.71     NaN"
      ]
     },
     "execution_count": 3,
     "metadata": {},
     "output_type": "execute_result"
    }
   ],
   "source": [
    "data.head()"
   ]
  },
  {
   "cell_type": "markdown",
   "metadata": {},
   "source": [
    "To access certain values in a dataframe, we use iloc"
   ]
  },
  {
   "cell_type": "code",
   "execution_count": null,
   "metadata": {},
   "outputs": [],
   "source": [
    "print(data.columns)\n",
    "print('\\n')\n",
    "print(data.iloc[1,1])\n",
    "print(\"\\n\")\n",
    "print(data.iloc[0,:])\n",
    "print(\"\\n\")\n",
    "print(data.iloc[1:5,3])\n",
    "print(\"\\n\")\n",
    "data['Date'].head()"
   ]
  },
  {
   "cell_type": "markdown",
   "metadata": {},
   "source": [
    "**The week 2 is about pandas DataFrames and how to use them**\n",
    "\n",
    "### Writing \n",
    "\n",
    "To write data into a csv file: `to_csv(filename,sep = ' ')`\n",
    "http://pandas.pydata.org/pandas-docs/stable/generated/pandas.DataFrame.to_csv.html\n",
    "\n",
    "sep and delimiter are equivalent, see the doc for other arguments\n"
   ]
  },
  {
   "cell_type": "code",
   "execution_count": null,
   "metadata": {},
   "outputs": [],
   "source": [
    "data.to_csv('./data/myfile5.csv', sep = ',')\n"
   ]
  },
  {
   "cell_type": "markdown",
   "metadata": {},
   "source": [
    "** The function overwrites the file**"
   ]
  },
  {
   "cell_type": "code",
   "execution_count": null,
   "metadata": {},
   "outputs": [],
   "source": [
    "cat ./data/myfile5.csv"
   ]
  }
 ],
 "metadata": {
  "anaconda-cloud": {},
  "kernelspec": {
   "display_name": "Python 3",
   "language": "python",
   "name": "python3"
  },
  "language_info": {
   "codemirror_mode": {
    "name": "ipython",
    "version": 3
   },
   "file_extension": ".py",
   "mimetype": "text/x-python",
   "name": "python",
   "nbconvert_exporter": "python",
   "pygments_lexer": "ipython3",
   "version": "3.8.3"
  },
  "toc": {
   "base_numbering": 1,
   "nav_menu": {},
   "number_sections": true,
   "sideBar": true,
   "skip_h1_title": true,
   "title_cell": "Table of Contents",
   "title_sidebar": "Contents",
   "toc_cell": false,
   "toc_position": {
    "height": "calc(100% - 180px)",
    "left": "10px",
    "top": "150px",
    "width": "288px"
   },
   "toc_section_display": true,
   "toc_window_display": true
  }
 },
 "nbformat": 4,
 "nbformat_minor": 1
}
