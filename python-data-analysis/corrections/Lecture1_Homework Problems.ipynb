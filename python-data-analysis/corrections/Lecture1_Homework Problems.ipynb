{
 "cells": [
  {
   "cell_type": "markdown",
   "metadata": {},
   "source": [
    "# Week 1: Homework Problems\n",
    "\n",
    "** Create your own functions and use the ones we made during the class to answer to the questions** "
   ]
  },
  {
   "cell_type": "code",
   "execution_count": null,
   "metadata": {},
   "outputs": [],
   "source": [
    "NAME : \"DUCROCQ Romain\""
   ]
  },
  {
   "cell_type": "markdown",
   "metadata": {
    "collapsed": true
   },
   "source": [
    "## Question 1:\n",
    "\n",
    "\n",
    "Write the function called \"get_lowest\", and make it similar to get_highest. It should take the same arguments, the data set and the column number. Show it working with the column index for Low.\n",
    "\n",
    "Hint: set the initial value of your variable to float(\"inf\"), which is infinity.\n",
    "\n",
    "Your answer to q1: 216.6\n",
    "    "
   ]
  },
  {
   "cell_type": "code",
   "execution_count": 1,
   "metadata": {},
   "outputs": [],
   "source": [
    "def get_lowest(data, column):\n",
    "    lowest = float(\"inf\")\n",
    "    for row in data:\n",
    "        # we have to split it up by the comma, to use the column index:\n",
    "        vals = row.split(\",\")\n",
    "        # print(vals)\n",
    "        if float(vals[column]) < float(lowest):\n",
    "            lowest = float(vals[column])\n",
    "    return lowest"
   ]
  },
  {
   "cell_type": "markdown",
   "metadata": {},
   "source": [
    "## Question 2:\n",
    "\n",
    "\n",
    "Now write a function that calculates the difference between the day's open and close stock price, and return it. Name your function \"get_difference\". It should take as argument a row of the dataset.  Hint: A row means mydata[3] (or any other index), for instance!"
   ]
  },
  {
   "cell_type": "code",
   "execution_count": 8,
   "metadata": {},
   "outputs": [],
   "source": [
    "def get_difference(row):\n",
    "    vals = row.split(\",\")\n",
    "    return float(vals[4]) - float(vals[1])"
   ]
  },
  {
   "cell_type": "markdown",
   "metadata": {},
   "source": [
    "## Question 3\n",
    "\n",
    "You need to use tuples for this one.\n",
    "\n",
    "Rewrite your get_lowest function to return a tuple with the date of the lowest, as well as the closing value on that date. Name your function \"get_lowest_with_date\". It should take 2 arguments, the dataset and the column number for the lowest.\n",
    "\n",
    "\n",
    "Your answer to q3:('216.6', '2010-07-01', '219.53')"
   ]
  },
  {
   "cell_type": "code",
   "execution_count": 9,
   "metadata": {},
   "outputs": [],
   "source": [
    "def get_lowest_with_date(data, column):\n",
    "    lowest = [(float(\"inf\")) for i in range(len(data[0].split(\",\")))]\n",
    "    for row in data:\n",
    "        # we have to split it up by the comma, to use the column index:\n",
    "        vals = row.split(\",\")\n",
    "        # print(vals)\n",
    "        if float(vals[column]) < float(lowest[column]):\n",
    "            lowest = vals\n",
    "    return (lowest[column], lowest[0], lowest[4])"
   ]
  },
  {
   "cell_type": "markdown",
   "metadata": {},
   "source": [
    "## Question 4\n",
    "\n",
    "Write a function called \"get_volume_data\" that takes the data dictionary and returns a new dictionary of just the dates and closing volume values, if it's there.\n",
    "\n",
    "\n",
    "Your answer to q4: ('2014-03-27', 3826676.0)\n",
    "    "
   ]
  },
  {
   "cell_type": "code",
   "execution_count": 10,
   "metadata": {},
   "outputs": [],
   "source": [
    "def get_volume_data(dictionary):\n",
    "    newdict = {}\n",
    "    for date, values in dictionary.items():\n",
    "        if len(values) == 5:\n",
    "            newdict.update({ date: values[-1] })\n",
    "    return newdict"
   ]
  },
  {
   "cell_type": "code",
   "execution_count": 11,
   "metadata": {},
   "outputs": [
    {
     "ename": "NameError",
     "evalue": "name 'dictdata' is not defined",
     "output_type": "error",
     "traceback": [
      "\u001b[0;31m---------------------------------------------------------------------------\u001b[0m",
      "\u001b[0;31mNameError\u001b[0m                                 Traceback (most recent call last)",
      "\u001b[0;32m<ipython-input-11-5b338ed548b6>\u001b[0m in \u001b[0;36m<module>\u001b[0;34m\u001b[0m\n\u001b[1;32m      1\u001b[0m \u001b[0;31m#show it running -- this should execute without an error:\u001b[0m\u001b[0;34m\u001b[0m\u001b[0;34m\u001b[0m\u001b[0;34m\u001b[0m\u001b[0m\n\u001b[0;32m----> 2\u001b[0;31m \u001b[0mvolumedict\u001b[0m \u001b[0;34m=\u001b[0m \u001b[0mget_volume_data\u001b[0m\u001b[0;34m(\u001b[0m\u001b[0mdictdata\u001b[0m\u001b[0;34m)\u001b[0m\u001b[0;34m\u001b[0m\u001b[0;34m\u001b[0m\u001b[0m\n\u001b[0m",
      "\u001b[0;31mNameError\u001b[0m: name 'dictdata' is not defined"
     ]
    }
   ],
   "source": [
    "#show it running -- this should execute without an error:\n",
    "volumedict = get_volume_data(dictdata)\n"
   ]
  },
  {
   "cell_type": "code",
   "execution_count": null,
   "metadata": {},
   "outputs": [],
   "source": [
    "# this should also execute without error and show an item from the dict:\n",
    "list(volumedict.items())[0]"
   ]
  }
 ],
 "metadata": {
  "kernelspec": {
   "display_name": "Python 3",
   "language": "python",
   "name": "python3"
  },
  "language_info": {
   "codemirror_mode": {
    "name": "ipython",
    "version": 3
   },
   "file_extension": ".py",
   "mimetype": "text/x-python",
   "name": "python",
   "nbconvert_exporter": "python",
   "pygments_lexer": "ipython3",
   "version": "3.8.3"
  },
  "toc": {
   "base_numbering": 1,
   "nav_menu": {},
   "number_sections": true,
   "sideBar": true,
   "skip_h1_title": false,
   "title_cell": "Table of Contents",
   "title_sidebar": "Contents",
   "toc_cell": false,
   "toc_position": {},
   "toc_section_display": true,
   "toc_window_display": true
  }
 },
 "nbformat": 4,
 "nbformat_minor": 1
}
