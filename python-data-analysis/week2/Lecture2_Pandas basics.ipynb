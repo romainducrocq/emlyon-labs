{
 "cells": [
  {
   "cell_type": "markdown",
   "metadata": {
    "deletable": false,
    "editable": false,
    "nbgrader": {
     "checksum": "0647d50b2d1f2ce7bc75837388e1e902",
     "grade": false,
     "grade_id": "cell-c4d4d1f82e04f121",
     "locked": true,
     "schema_version": 1,
     "solution": false
    }
   },
   "source": [
    "# Lecture 2: Pandas Introduction, DataFrame from CSV\n",
    "Pandas is a popular Python package for data science, and with good reason: it offers powerful, expressive and flexible data structures that make data manipulation and analysis easy, among many other things. The DataFrame is one of these structures.\n",
    "\n",
    "Pandas DataFrames make manipulating your data easy, from selecting or replacing columns and indices to reshaping your data. You won't have to write functions yourself to read and write data as we did in the first lecture.\n",
    "\n",
    "The best intro guide, but it's big, is 10 Minutes to Pandas: http://pandas.pydata.org/pandas-docs/stable/10min.html\n",
    "Check the website on the library here : https://pandas.pydata.org. You can also find documentation in this website.\n",
    "\n",
    "This is also a good <a href=\"https://www.datacamp.com/community/tutorials/pandas-tutorial-dataframe-python?utm_source=adwords_ppc&utm_campaignid=898687156&utm_adgroupid=48947256715&utm_device=c&utm_keyword=&utm_matchtype=b&utm_network=g&utm_adpostion=1t1&utm_creative=229765585183&utm_targetid=dsa-473406573835&utm_loc_interest_ms=&utm_loc_physical_ms=9056017&gclid=Cj0KCQjwh8jrBRDQARIsAH7BsXcYZ9E60iAAQ9t8VhRS_TyfOtaM571VNV8EGKby9wgj9An4b1SZepgaAioSEALw_wcB\"> tutorial on Pandas </a>\n",
    "    \n",
    "\n",
    "Let's start to work with pandas, to make analysis of this data easier.  Our convention is to import as \"pd\":"
   ]
  },
  {
   "cell_type": "code",
   "execution_count": null,
   "metadata": {
    "deletable": false,
    "editable": false,
    "nbgrader": {
     "checksum": "87c30e6b5bab913b3c98c5589a7f1954",
     "grade": false,
     "grade_id": "cell-f5effdbf2e611c88",
     "locked": true,
     "schema_version": 1,
     "solution": false
    }
   },
   "outputs": [],
   "source": [
    "import pandas as pd\n",
    "\n",
    "# numpy is a library very useful in Python for numerical stuff\n",
    "import numpy as np\n",
    "\n",
    "# two librairies for plotting\n",
    "import matplotlib.pyplot as plt\n",
    "import seaborn \n",
    "%matplotlib inline"
   ]
  },
  {
   "cell_type": "markdown",
   "metadata": {
    "deletable": false,
    "editable": false,
    "nbgrader": {
     "checksum": "9670ed9fd6b582fbfb31122c9307f13a",
     "grade": false,
     "grade_id": "cell-ab43c36c5e154aee",
     "locked": true,
     "schema_version": 1,
     "solution": false
    }
   },
   "source": [
    "## Reading/Writing files<a name=\"1. Reading/Writing files\"></a>\n",
    "### Reading<a name=\"1.1 Reading\"></a>"
   ]
  },
  {
   "cell_type": "markdown",
   "metadata": {
    "deletable": false,
    "editable": false,
    "nbgrader": {
     "checksum": "b1dd501e70c50c4eb70eaaea91ae5a67",
     "grade": false,
     "grade_id": "cell-5197614425d00fff",
     "locked": true,
     "schema_version": 1,
     "solution": false
    }
   },
   "source": [
    "In this notebook we are going to use two different datasets : one with more 'qualitative' information and one with 'quantitative' info. "
   ]
  },
  {
   "cell_type": "code",
   "execution_count": null,
   "metadata": {
    "deletable": false,
    "editable": false,
    "nbgrader": {
     "checksum": "fee152e8a84359706de2107b2b0bb8af",
     "grade": false,
     "grade_id": "cell-a1f24a729b7a5134",
     "locked": true,
     "schema_version": 1,
     "solution": false
    }
   },
   "outputs": [],
   "source": [
    "# Pandas has built-in tools to read files, including csv and excel.\n",
    "complaints = pd.read_csv('data/311-service-requests.csv')\n",
    "bikes = pd.read_csv('data/bikes.csv', sep=';', encoding='latin1', parse_dates=['Date'], dayfirst=True, low_memory=False)"
   ]
  },
  {
   "cell_type": "markdown",
   "metadata": {
    "deletable": false,
    "editable": false,
    "nbgrader": {
     "checksum": "9e1b8976ab22312e97375b4b6a868897",
     "grade": false,
     "grade_id": "cell-a7c6c69a8def5f42",
     "locked": true,
     "schema_version": 1,
     "solution": false
    }
   },
   "source": [
    "Depending on your pandas version, you might see an error like \"DtypeWarning: Columns (8) have mixed types\". This means that it's encountered a problem reading in our data. In this case it almost certainly means that it has columns where some of the entries are strings and some are NaN which are recognized as float by the funciton. \n",
    "\n",
    "For now we're going to ignore it and hope we don't run into a problem, but in the long run we'd need to investigate this warning.\n",
    "\n"
   ]
  },
  {
   "cell_type": "code",
   "execution_count": null,
   "metadata": {
    "deletable": false,
    "editable": false,
    "nbgrader": {
     "checksum": "bae00563ad615e941a23c5b25e2d6604",
     "grade": false,
     "grade_id": "cell-7d9616d9d884122e",
     "locked": true,
     "schema_version": 1,
     "solution": false
    }
   },
   "outputs": [],
   "source": [
    "complaints\n",
    "#bikes"
   ]
  },
  {
   "cell_type": "markdown",
   "metadata": {
    "deletable": false,
    "editable": false,
    "nbgrader": {
     "checksum": "ceab232ddcd641f593b11ab03e6dff95",
     "grade": false,
     "grade_id": "cell-b8c72246b2110dd3",
     "locked": true,
     "schema_version": 1,
     "solution": false
    }
   },
   "source": [
    "Check the type of the data and see for yourself"
   ]
  },
  {
   "cell_type": "code",
   "execution_count": null,
   "metadata": {
    "deletable": false,
    "editable": false,
    "nbgrader": {
     "checksum": "b7a3cf77bc462d04acbd0c20be8e0269",
     "grade": false,
     "grade_id": "cell-aa9e7809c2169eea",
     "locked": true,
     "schema_version": 1,
     "solution": false
    }
   },
   "outputs": [],
   "source": [
    "# type of the results\n",
    "type(complaints)"
   ]
  },
  {
   "cell_type": "markdown",
   "metadata": {
    "deletable": false,
    "editable": false,
    "nbgrader": {
     "checksum": "422add8349aaa35405a42b4601a5b750",
     "grade": false,
     "grade_id": "cell-beaafd0eef44ad58",
     "locked": true,
     "schema_version": 1,
     "solution": false
    }
   },
   "source": [
    "** The function returns a DataFrame which is an object with a lot of things defined on it **\n",
    "\n",
    "### Writing<a name=\"1.2 Writing\"></a>\n",
    "\n",
    "*We can also save out a csv file from pandas in a simple way*\n"
   ]
  },
  {
   "cell_type": "code",
   "execution_count": null,
   "metadata": {
    "deletable": false,
    "editable": false,
    "nbgrader": {
     "checksum": "43ae427bb5b426778e027b3ab7c5af04",
     "grade": false,
     "grade_id": "cell-191dde5f89f76f2e",
     "locked": true,
     "schema_version": 1,
     "solution": false
    }
   },
   "outputs": [],
   "source": [
    "complaints.to_csv(\"data/saved_complaints.csv\")"
   ]
  },
  {
   "cell_type": "markdown",
   "metadata": {
    "deletable": false,
    "editable": false,
    "nbgrader": {
     "checksum": "3a09c29814a3617b204753fe787a6ff7",
     "grade": false,
     "grade_id": "cell-e9774311dcf976e1",
     "locked": true,
     "schema_version": 1,
     "solution": false
    }
   },
   "source": [
    "*What if we only wanted some of the columns? We can pick which ones to write out*\n"
   ]
  },
  {
   "cell_type": "code",
   "execution_count": null,
   "metadata": {
    "deletable": false,
    "editable": false,
    "nbgrader": {
     "checksum": "3318c6bd422f079456bd72f0f8614fad",
     "grade": false,
     "grade_id": "cell-9dcdb851fa9ec93b",
     "locked": true,
     "schema_version": 1,
     "solution": false
    }
   },
   "outputs": [],
   "source": [
    "complaints.to_csv(\"data/saved_complaints2.csv\", columns=[\"Created Date\", \"Closed Date\"])"
   ]
  },
  {
   "cell_type": "markdown",
   "metadata": {
    "deletable": false,
    "editable": false,
    "nbgrader": {
     "checksum": "1987cb4fe4b8c247f03a30d8d4361144",
     "grade": false,
     "grade_id": "cell-5b021a421e990a9a",
     "locked": true,
     "schema_version": 1,
     "solution": false
    }
   },
   "source": [
    "*If you don't want the extra index row with the rownumber and no header, you can prevent that from being saved by saying \"index=None\" and \"header = None)*\n"
   ]
  },
  {
   "cell_type": "code",
   "execution_count": null,
   "metadata": {
    "deletable": false,
    "editable": false,
    "nbgrader": {
     "checksum": "137c9ccd62e90a722a5408479da7d457",
     "grade": false,
     "grade_id": "cell-b58f43a5b0085ef2",
     "locked": true,
     "schema_version": 1,
     "solution": false
    }
   },
   "outputs": [],
   "source": [
    "complaints.to_csv(\"data/saved_complaints3.csv\", columns=[\"Created Date\", \"Closed Date\"], index=None, header=None)"
   ]
  },
  {
   "cell_type": "markdown",
   "metadata": {
    "deletable": false,
    "editable": false,
    "nbgrader": {
     "checksum": "08c029bed921a12df9c05f68cc8a54c5",
     "grade": false,
     "grade_id": "cell-112fc951265662cb",
     "locked": true,
     "schema_version": 1,
     "solution": false
    }
   },
   "source": [
    "## Viewing Data<a name=\"2. Viewing Data\"></a>\n",
    "### See the top & bottom rows of the frame<a name=\"2.1. See the top & bottom rows of the frame\"></a>\n",
    "\n",
    "This command shows us the result of the operation, with the top 5 rows of the table. You can specify the number of rows you want to show inside the brackets."
   ]
  },
  {
   "cell_type": "code",
   "execution_count": null,
   "metadata": {
    "deletable": false,
    "editable": false,
    "nbgrader": {
     "checksum": "bf23cf3ce51436d2dacfe67e1885045b",
     "grade": false,
     "grade_id": "cell-537258a1e6ff5b58",
     "locked": true,
     "schema_version": 1,
     "solution": false
    }
   },
   "outputs": [],
   "source": [
    "complaints.head(3)  \n",
    "#bikes.head()"
   ]
  },
  {
   "cell_type": "markdown",
   "metadata": {
    "deletable": false,
    "editable": false,
    "nbgrader": {
     "checksum": "ca737ccb0414de5474d6adee05714acb",
     "grade": false,
     "grade_id": "cell-abded95dfa0f5f0a",
     "locked": true,
     "schema_version": 1,
     "solution": false
    }
   },
   "source": [
    "To show the bottomm rows: "
   ]
  },
  {
   "cell_type": "code",
   "execution_count": null,
   "metadata": {
    "deletable": false,
    "editable": false,
    "nbgrader": {
     "checksum": "44116f05f56ebf0f12d51658411b39eb",
     "grade": false,
     "grade_id": "cell-1f8944c2aa7010a2",
     "locked": true,
     "schema_version": 1,
     "solution": false
    }
   },
   "outputs": [],
   "source": [
    "complaints.tail(3)\n",
    "#bikes.tail()"
   ]
  },
  {
   "cell_type": "markdown",
   "metadata": {
    "deletable": false,
    "editable": false,
    "nbgrader": {
     "checksum": "91923ea38c50d917ba5367e954a3408c",
     "grade": false,
     "grade_id": "cell-3f99a24fbedeff13",
     "locked": true,
     "schema_version": 1,
     "solution": false
    }
   },
   "source": [
    "### Plotting data\n",
    "Since complaints contain many qualitative data, lets first experiment with the bikes data to experiment with plotting and visualizing."
   ]
  },
  {
   "cell_type": "code",
   "execution_count": null,
   "metadata": {
    "deletable": false,
    "editable": false,
    "nbgrader": {
     "checksum": "592e622edccfb17ec09d1d4451032e39",
     "grade": false,
     "grade_id": "cell-8e6fc06607d7669c",
     "locked": true,
     "schema_version": 1,
     "solution": false
    }
   },
   "outputs": [],
   "source": [
    "bikes.head()"
   ]
  },
  {
   "cell_type": "markdown",
   "metadata": {
    "deletable": false,
    "editable": false,
    "nbgrader": {
     "checksum": "deb54d0a2bc90ca891f42fbad4e86482",
     "grade": false,
     "grade_id": "cell-69c825a910212788",
     "locked": true,
     "schema_version": 1,
     "solution": false
    }
   },
   "source": [
    "To make a plot from pandas, we use the dataframe object we created, then tell the plot function\n",
    "what to use as the X column and what to use as the Y column."
   ]
  },
  {
   "cell_type": "code",
   "execution_count": null,
   "metadata": {
    "deletable": false,
    "editable": false,
    "nbgrader": {
     "checksum": "ff6493ee0044291a151d2f75e33d98ea",
     "grade": false,
     "grade_id": "cell-eedf5cad08ab4fe9",
     "locked": true,
     "schema_version": 1,
     "solution": false
    }
   },
   "outputs": [],
   "source": [
    "bikes.plot( 'Date',\"Maisonneuve 1\",figsize=(10,5))"
   ]
  },
  {
   "cell_type": "markdown",
   "metadata": {
    "deletable": false,
    "editable": false,
    "nbgrader": {
     "checksum": "90f97e7c0c415add7f0cc63a2d2f5147",
     "grade": false,
     "grade_id": "cell-3af55ab51b7839c9",
     "locked": true,
     "schema_version": 1,
     "solution": false
    }
   },
   "source": [
    "## Selection\n",
    "Lets now experiment with data selection.\n",
    "\n",
    "*Let's use complaints data again*\n"
   ]
  },
  {
   "cell_type": "code",
   "execution_count": null,
   "metadata": {
    "deletable": false,
    "editable": false,
    "nbgrader": {
     "checksum": "a18c2040d1d2457b33bf644f4139e471",
     "grade": false,
     "grade_id": "cell-ecf146e76ef0cd68",
     "locked": true,
     "schema_version": 1,
     "solution": false
    }
   },
   "outputs": [],
   "source": [
    "complaints.head(3)"
   ]
  },
  {
   "cell_type": "markdown",
   "metadata": {
    "deletable": false,
    "editable": false,
    "nbgrader": {
     "checksum": "b07803e7cc18154f55f320568f75e080",
     "grade": false,
     "grade_id": "cell-61574d4b51cfece8",
     "locked": true,
     "schema_version": 1,
     "solution": false
    }
   },
   "source": [
    "### Get a slice from a DataFrame\n",
    "#### Get a specific column"
   ]
  },
  {
   "cell_type": "markdown",
   "metadata": {
    "deletable": false,
    "editable": false,
    "nbgrader": {
     "checksum": "46a4e12a2310108a4f473c2f664cb109",
     "grade": false,
     "grade_id": "cell-831a656f0e8a785e",
     "locked": true,
     "schema_version": 1,
     "solution": false
    }
   },
   "source": [
    "**Selection by colomn name**"
   ]
  },
  {
   "cell_type": "code",
   "execution_count": null,
   "metadata": {
    "deletable": false,
    "editable": false,
    "nbgrader": {
     "checksum": "70498f457e149a7c9cbc2cea1fa5d289",
     "grade": false,
     "grade_id": "cell-eaf4bd982b9dc6d8",
     "locked": true,
     "schema_version": 1,
     "solution": false
    }
   },
   "outputs": [],
   "source": [
    "complaints[\"Agency\"]"
   ]
  },
  {
   "cell_type": "code",
   "execution_count": null,
   "metadata": {
    "deletable": false,
    "editable": false,
    "nbgrader": {
     "checksum": "5897eeabc44f683f4d19ef6a7e9e17aa",
     "grade": false,
     "grade_id": "cell-cde3d09d7c60bd91",
     "locked": true,
     "schema_version": 1,
     "solution": false
    }
   },
   "outputs": [],
   "source": [
    "complaints.Agency"
   ]
  },
  {
   "cell_type": "markdown",
   "metadata": {
    "deletable": false,
    "editable": false,
    "nbgrader": {
     "checksum": "672b92f4548c82967f98eb6aee7887a8",
     "grade": false,
     "grade_id": "cell-54e77936fbc6867c",
     "locked": true,
     "schema_version": 1,
     "solution": false
    }
   },
   "source": [
    "**If you want to select certain rows**"
   ]
  },
  {
   "cell_type": "markdown",
   "metadata": {
    "deletable": false,
    "editable": false,
    "nbgrader": {
     "checksum": "77ec36543ae692ce7bbb25a4b1c55fd9",
     "grade": false,
     "grade_id": "cell-cb86c941c5d66754",
     "locked": true,
     "schema_version": 1,
     "solution": false
    }
   },
   "source": [
    "All rows"
   ]
  },
  {
   "cell_type": "code",
   "execution_count": null,
   "metadata": {
    "deletable": false,
    "editable": false,
    "nbgrader": {
     "checksum": "339433b32bd7ee1bec2334235899e068",
     "grade": false,
     "grade_id": "cell-47e7f761c998a707",
     "locked": true,
     "schema_version": 1,
     "solution": false
    }
   },
   "outputs": [],
   "source": [
    "complaints.loc[:,'Agency']"
   ]
  },
  {
   "cell_type": "markdown",
   "metadata": {
    "deletable": false,
    "editable": false,
    "nbgrader": {
     "checksum": "735fcfb09b1382990650653039823a90",
     "grade": false,
     "grade_id": "cell-24c2d10fef045eac",
     "locked": true,
     "schema_version": 1,
     "solution": false
    }
   },
   "source": [
    "Some rows"
   ]
  },
  {
   "cell_type": "code",
   "execution_count": null,
   "metadata": {
    "deletable": false,
    "editable": false,
    "nbgrader": {
     "checksum": "ef5f230eca2f97c13849ff9dd62380c6",
     "grade": false,
     "grade_id": "cell-da7a67fa31e9c0da",
     "locked": true,
     "schema_version": 1,
     "solution": false
    }
   },
   "outputs": [],
   "source": [
    "complaints.loc[1:3,'Agency']"
   ]
  },
  {
   "cell_type": "markdown",
   "metadata": {
    "deletable": false,
    "editable": false,
    "nbgrader": {
     "checksum": "8083267346e71612eabc603b5f9177bb",
     "grade": false,
     "grade_id": "cell-9f007200473aa44a",
     "locked": true,
     "schema_version": 1,
     "solution": false
    }
   },
   "source": [
    "**Selection by position**"
   ]
  },
  {
   "cell_type": "code",
   "execution_count": null,
   "metadata": {
    "deletable": false,
    "editable": false,
    "nbgrader": {
     "checksum": "2376eea10cfe280509acc4711017e53d",
     "grade": false,
     "grade_id": "cell-5d40042a8ada1660",
     "locked": true,
     "schema_version": 1,
     "solution": false
    }
   },
   "outputs": [],
   "source": [
    "# comment/uncomment lines\n",
    "complaints.iloc[:,3]"
   ]
  },
  {
   "cell_type": "markdown",
   "metadata": {
    "deletable": false,
    "editable": false,
    "nbgrader": {
     "checksum": "e201ea6f1056d92615ef4711e3fac9e4",
     "grade": false,
     "grade_id": "cell-526deb3febdb7c19",
     "locked": true,
     "schema_version": 1,
     "solution": false
    }
   },
   "source": [
    "#### Get a line"
   ]
  },
  {
   "cell_type": "code",
   "execution_count": null,
   "metadata": {
    "deletable": false,
    "editable": false,
    "nbgrader": {
     "checksum": "fb652f0ba25c7fb9df7b358d7d083004",
     "grade": false,
     "grade_id": "cell-5f8e0e2231ab6681",
     "locked": true,
     "schema_version": 1,
     "solution": false
    }
   },
   "outputs": [],
   "source": [
    "complaints.head(1)"
   ]
  },
  {
   "cell_type": "code",
   "execution_count": null,
   "metadata": {
    "deletable": false,
    "editable": false,
    "nbgrader": {
     "checksum": "bbd1f5e8db1cb14d31bcca4d42640804",
     "grade": false,
     "grade_id": "cell-bb979b0bb7c2fbe4",
     "locked": true,
     "schema_version": 1,
     "solution": false
    }
   },
   "outputs": [],
   "source": [
    "# comment/uncomment lines\n",
    "complaints.iloc[1,:]\n",
    "#complaints.loc[1,:] #Selection by Label"
   ]
  },
  {
   "cell_type": "markdown",
   "metadata": {
    "deletable": false,
    "editable": false,
    "nbgrader": {
     "checksum": "76380eca2de3585c42f3d9fa525b1937",
     "grade": false,
     "grade_id": "cell-92f74b7ba65cec77",
     "locked": true,
     "schema_version": 1,
     "solution": false
    }
   },
   "source": [
    "Type of columns or rows"
   ]
  },
  {
   "cell_type": "code",
   "execution_count": null,
   "metadata": {
    "deletable": false,
    "editable": false,
    "nbgrader": {
     "checksum": "b006d3e40f332d17e9b011856170b024",
     "grade": false,
     "grade_id": "cell-9d25ccbda0187c7b",
     "locked": true,
     "schema_version": 1,
     "solution": false
    }
   },
   "outputs": [],
   "source": [
    "print(type(complaints[\"Agency\"]))\n",
    "print(type(complaints.iloc[1,:]))"
   ]
  },
  {
   "cell_type": "markdown",
   "metadata": {
    "deletable": false,
    "editable": false,
    "nbgrader": {
     "checksum": "9c68777bf09c655628cc4428c51509f3",
     "grade": false,
     "grade_id": "cell-d31c996df7258504",
     "locked": true,
     "schema_version": 1,
     "solution": false
    }
   },
   "source": [
    "** A Slice of shape (1,) or (,1) is not a DataFrame but a Serie. The associated functions are not exactly the same **"
   ]
  },
  {
   "cell_type": "code",
   "execution_count": null,
   "metadata": {
    "deletable": false,
    "editable": false,
    "nbgrader": {
     "checksum": "9fc1c4da48ad1091989924e39ad112ce",
     "grade": false,
     "grade_id": "cell-9598ed8370f3712b",
     "locked": true,
     "schema_version": 1,
     "solution": false
    }
   },
   "outputs": [],
   "source": [
    "# Possible to build a DataFrame from a serie\n",
    "pd.DataFrame(complaints[\"Agency\"]).head()"
   ]
  },
  {
   "cell_type": "markdown",
   "metadata": {
    "deletable": false,
    "editable": false,
    "nbgrader": {
     "checksum": "e98d756025369e89ad5d3c7fbd256eb6",
     "grade": false,
     "grade_id": "cell-0665731b7ed27a3f",
     "locked": true,
     "schema_version": 1,
     "solution": false
    }
   },
   "source": [
    "#### Select multiple rows and columns"
   ]
  },
  {
   "cell_type": "markdown",
   "metadata": {
    "deletable": false,
    "editable": false,
    "nbgrader": {
     "checksum": "fd61725d3c1b893a784fdef8d0ae1e5e",
     "grade": false,
     "grade_id": "cell-6563b2618537f43f",
     "locked": true,
     "schema_version": 1,
     "solution": false
    }
   },
   "source": [
    "Sometimes you want to combine your selection to rows and columns.  You can do that with `.loc[]` and `.iloc[]`.\n",
    "\n",
    "`iloc[rows,colums]` is for use with **number selectors** for row and column, and `loc[rows,columns]` is for **label selectors** for row and column (if they exist).\n",
    "\n",
    "The documentation for this is [here](http://pandas.pydata.org/pandas-docs/stable/indexing.html).\n",
    "\n",
    "If you use these, you must put a row selector first, then a column selector:"
   ]
  },
  {
   "cell_type": "code",
   "execution_count": null,
   "metadata": {
    "deletable": false,
    "editable": false,
    "nbgrader": {
     "checksum": "cc2eeed7eb042b04acadd1b9c90e416e",
     "grade": false,
     "grade_id": "cell-35ecb3a1433e492e",
     "locked": true,
     "schema_version": 1,
     "solution": false
    }
   },
   "outputs": [],
   "source": [
    "#Selecting by integer is done with iloc:\n",
    "# this selects the first 10 rows and the first 3 columns.\n",
    "complaints.iloc[0:10, 0:3]"
   ]
  },
  {
   "cell_type": "markdown",
   "metadata": {
    "deletable": false,
    "editable": false,
    "nbgrader": {
     "checksum": "7ad2071f9be8b2db37718852cd1ef0aa",
     "grade": false,
     "grade_id": "cell-4f6bc02e6e04f9d6",
     "locked": true,
     "schema_version": 1,
     "solution": false
    }
   },
   "source": [
    "select rows 0:5, but the columns between the named columns here:\n",
    "Note, this works with row numbers because there is no label for the rows aside from numbers.\n",
    "Notice this command loc is \"inclusive\" of the end points on the range.  Meaning it includes them."
   ]
  },
  {
   "cell_type": "code",
   "execution_count": null,
   "metadata": {
    "deletable": false,
    "editable": false,
    "nbgrader": {
     "checksum": "f94c000e29f2587ace5b387fd7583469",
     "grade": false,
     "grade_id": "cell-69430cd49c907342",
     "locked": true,
     "schema_version": 1,
     "solution": false
    }
   },
   "outputs": [],
   "source": [
    "complaints.loc[0:5, 'Closed Date':'Complaint Type']"
   ]
  },
  {
   "cell_type": "markdown",
   "metadata": {
    "deletable": false,
    "editable": false,
    "nbgrader": {
     "checksum": "a9022a727a425b37fdd4ad3d5c2dae99",
     "grade": false,
     "grade_id": "cell-1482a1080ec5e4a3",
     "locked": true,
     "schema_version": 1,
     "solution": false
    }
   },
   "source": [
    "What if we just want to know the complaint type and the borough, but not the rest of the information? Pandas makes it really easy to select a subset of the columns: just index with list of columns you want, using double square brackets (Or using the `loc[]` method above):"
   ]
  },
  {
   "cell_type": "code",
   "execution_count": null,
   "metadata": {
    "deletable": false,
    "editable": false,
    "nbgrader": {
     "checksum": "0716df4ecfa32d5863cfeb8f7bea9daf",
     "grade": false,
     "grade_id": "cell-ceef19fd8f36ee30",
     "locked": true,
     "schema_version": 1,
     "solution": false
    }
   },
   "outputs": [],
   "source": [
    "#complaints[['Complaint Type', 'Borough']]\n",
    "complaints.loc[:,['Complaint Type', 'Borough']]"
   ]
  },
  {
   "cell_type": "markdown",
   "metadata": {
    "deletable": false,
    "editable": false,
    "nbgrader": {
     "checksum": "8a7e8ae22c08f9f3684b733dd6789508",
     "grade": false,
     "grade_id": "cell-a63eb41fa062235b",
     "locked": true,
     "schema_version": 1,
     "solution": false
    }
   },
   "source": [
    "### Boolean Indexing\n",
    "Boolean indexing is useful when we need to select data based on a certain criteria. For example, if we only want to select data where the value of the Unique Key colomn is greater than 26595140:\n",
    "\n",
    "Check which data satisties the condition:"
   ]
  },
  {
   "cell_type": "code",
   "execution_count": null,
   "metadata": {
    "deletable": false,
    "editable": false,
    "nbgrader": {
     "checksum": "cc4eef063bebafd8537e58039e281b46",
     "grade": false,
     "grade_id": "cell-ffbe04c772c3ae5e",
     "locked": true,
     "schema_version": 1,
     "solution": false
    }
   },
   "outputs": [],
   "source": [
    "complaints['Unique Key'] > 26595140"
   ]
  },
  {
   "cell_type": "code",
   "execution_count": null,
   "metadata": {
    "deletable": false,
    "editable": false,
    "nbgrader": {
     "checksum": "6b38135472285fd776fdfc44064c48a8",
     "grade": false,
     "grade_id": "cell-2ad77eb86bf6fca5",
     "locked": true,
     "schema_version": 1,
     "solution": false
    }
   },
   "outputs": [],
   "source": [
    "complaints[complaints['Unique Key'] > 26595140].head()"
   ]
  },
  {
   "cell_type": "markdown",
   "metadata": {
    "deletable": false,
    "editable": false,
    "nbgrader": {
     "checksum": "98ceef58853f810bd810677b3874eea5",
     "grade": false,
     "grade_id": "cell-f861579cd3e71706",
     "locked": true,
     "schema_version": 1,
     "solution": false
    }
   },
   "source": [
    "Use Function isin() to select the data rows that contain specific values in a specific column.\n",
    "For example this command selects all rows that have Complaint Type is equal to the values \"Noise - Vehicle\" and \"Noise - Street/Sidewalk\""
   ]
  },
  {
   "cell_type": "code",
   "execution_count": null,
   "metadata": {
    "deletable": false,
    "editable": false,
    "nbgrader": {
     "checksum": "9ef489bf5e7e87f8b5b1c7ee82863d6d",
     "grade": false,
     "grade_id": "cell-5dff194ea02b3e27",
     "locked": true,
     "schema_version": 1,
     "solution": false
    }
   },
   "outputs": [],
   "source": [
    "complaints[complaints['Complaint Type'].isin(['Noise - Vehicle','Noise - Street/Sidewalk'])]"
   ]
  },
  {
   "cell_type": "markdown",
   "metadata": {
    "deletable": false,
    "editable": false,
    "nbgrader": {
     "checksum": "0ca3a0fce39c0d55aac416439e42df8c",
     "grade": false,
     "grade_id": "cell-bc21dd1ef412d8f5",
     "locked": true,
     "schema_version": 1,
     "solution": false
    }
   },
   "source": [
    "**Using list of Booleans**\n",
    "\n",
    "Check when values in a specific column is equal to a specific value."
   ]
  },
  {
   "cell_type": "code",
   "execution_count": null,
   "metadata": {
    "deletable": false,
    "editable": false,
    "nbgrader": {
     "checksum": "fdc4625676b2f46356495faae64ebc24",
     "grade": false,
     "grade_id": "cell-b6bc711f7243c2ec",
     "locked": true,
     "schema_version": 1,
     "solution": false
    }
   },
   "outputs": [],
   "source": [
    "complaints['Complaint Type'] == 'Noise - Street/Sidewalk'"
   ]
  },
  {
   "cell_type": "markdown",
   "metadata": {
    "deletable": false,
    "editable": false,
    "nbgrader": {
     "checksum": "a027c2c2b417779c91d685a31490415a",
     "grade": false,
     "grade_id": "cell-f399c6385cc1aabb",
     "locked": true,
     "schema_version": 1,
     "solution": false
    }
   },
   "source": [
    "This is a big array of `True`s and `False`s, one for each row in our dataframe. When we index our dataframe with this array, we get just the rows where our boolean array evaluated to `True`.  It's important to note that for row filtering by a boolean array the length of our dataframe's index must be the same length as the boolean array used for filtering."
   ]
  },
  {
   "cell_type": "code",
   "execution_count": null,
   "metadata": {
    "deletable": false,
    "editable": false,
    "nbgrader": {
     "checksum": "9ff49e11dbf41ab64036c372565f15aa",
     "grade": false,
     "grade_id": "cell-ff47ca6136526300",
     "locked": true,
     "schema_version": 1,
     "solution": false
    }
   },
   "outputs": [],
   "source": [
    "complaints[complaints['Complaint Type'] == 'Noise - Street/Sidewalk' ]"
   ]
  },
  {
   "cell_type": "markdown",
   "metadata": {
    "deletable": false,
    "editable": false,
    "nbgrader": {
     "checksum": "8be3b340461b694bb0da22505db57a2a",
     "grade": false,
     "grade_id": "cell-d8aa6ee24f25ab41",
     "locked": true,
     "schema_version": 1,
     "solution": false
    }
   },
   "source": [
    "You can also combine more than one condition with the `&` operator like this:"
   ]
  },
  {
   "cell_type": "code",
   "execution_count": null,
   "metadata": {
    "deletable": false,
    "editable": false,
    "nbgrader": {
     "checksum": "5060c92cf7d7074698787d1b3c3ed431",
     "grade": false,
     "grade_id": "cell-866df70cf322b29e",
     "locked": true,
     "schema_version": 1,
     "solution": false
    }
   },
   "outputs": [],
   "source": [
    "is_noise = complaints['Complaint Type'] == \"Noise - Street/Sidewalk\"\n",
    "in_brooklyn = complaints['Borough'] == \"BROOKLYN\"\n",
    "# now, both must be true since we use & here:\n",
    "complaints[~(is_noise & in_brooklyn)].iloc[:10,:]"
   ]
  },
  {
   "cell_type": "markdown",
   "metadata": {
    "deletable": false,
    "editable": false,
    "nbgrader": {
     "checksum": "5193416b56733e117830cc6dfbef0bf6",
     "grade": false,
     "grade_id": "cell-b75fcb5751468079",
     "locked": true,
     "schema_version": 1,
     "solution": false
    }
   },
   "source": [
    "Or, to limit the columns we return -- \n"
   ]
  },
  {
   "cell_type": "code",
   "execution_count": null,
   "metadata": {
    "deletable": false,
    "editable": false,
    "nbgrader": {
     "checksum": "4de8c3e102d73be93ffc9e15a74e44ad",
     "grade": false,
     "grade_id": "cell-a7c6b2b04825756e",
     "locked": true,
     "schema_version": 1,
     "solution": false
    }
   },
   "outputs": [],
   "source": [
    "complaints[is_noise & in_brooklyn][['Complaint Type', 'Borough', 'Created Date', 'Descriptor']]\n"
   ]
  },
  {
   "cell_type": "markdown",
   "metadata": {
    "deletable": false,
    "editable": false,
    "nbgrader": {
     "checksum": "99b78f2a9c4b5eb6ed30a5ecd69d2976",
     "grade": false,
     "grade_id": "cell-80a74b736a2602df",
     "locked": true,
     "schema_version": 1,
     "solution": false
    }
   },
   "source": [
    "## Get information about data\n",
    "### Display the index, columns, and the underlying numpy data"
   ]
  },
  {
   "cell_type": "code",
   "execution_count": null,
   "metadata": {
    "deletable": false,
    "editable": false,
    "nbgrader": {
     "checksum": "4e1de8d31e9f611c1150144fd4720168",
     "grade": false,
     "grade_id": "cell-926b313d66aa133f",
     "locked": true,
     "schema_version": 1,
     "solution": false
    }
   },
   "outputs": [],
   "source": [
    "complaints.head(1)"
   ]
  },
  {
   "cell_type": "code",
   "execution_count": null,
   "metadata": {
    "deletable": false,
    "editable": false,
    "nbgrader": {
     "checksum": "0ee7ce855bf8d974448c96fcf32d00ca",
     "grade": false,
     "grade_id": "cell-74f3f4a35bd218d4",
     "locked": true,
     "schema_version": 1,
     "solution": false
    }
   },
   "outputs": [],
   "source": [
    "complaints.index"
   ]
  },
  {
   "cell_type": "markdown",
   "metadata": {
    "deletable": false,
    "editable": false,
    "nbgrader": {
     "checksum": "5e1c210ffddf917ce903e3ef3af2e337",
     "grade": false,
     "grade_id": "cell-c2c8d803e82d7301",
     "locked": true,
     "schema_version": 1,
     "solution": false
    }
   },
   "source": [
    "To get the index of the rows that satisfy a certain condition use .index"
   ]
  },
  {
   "cell_type": "code",
   "execution_count": null,
   "metadata": {
    "deletable": false,
    "editable": false,
    "nbgrader": {
     "checksum": "101180a6e3d4c02ca54d76761074d4ae",
     "grade": false,
     "grade_id": "cell-1fa85421733020fa",
     "locked": true,
     "schema_version": 1,
     "solution": false
    }
   },
   "outputs": [],
   "source": [
    "complaints[is_noise & in_brooklyn][['Complaint Type', 'Borough', 'Created Date', 'Descriptor']].index"
   ]
  },
  {
   "cell_type": "code",
   "execution_count": null,
   "metadata": {
    "deletable": false,
    "editable": false,
    "nbgrader": {
     "checksum": "440f74a6f060dace52682d10a1179636",
     "grade": false,
     "grade_id": "cell-aae2fdc33e6f9356",
     "locked": true,
     "schema_version": 1,
     "solution": false
    }
   },
   "outputs": [],
   "source": [
    "complaints.columns"
   ]
  },
  {
   "cell_type": "code",
   "execution_count": null,
   "metadata": {
    "deletable": false,
    "editable": false,
    "nbgrader": {
     "checksum": "b8b4f642250090edae18c04806c55620",
     "grade": false,
     "grade_id": "cell-b2bd52d15df6886d",
     "locked": true,
     "schema_version": 1,
     "solution": false
    }
   },
   "outputs": [],
   "source": [
    "complaints.values"
   ]
  },
  {
   "cell_type": "markdown",
   "metadata": {
    "deletable": false,
    "editable": false,
    "nbgrader": {
     "checksum": "b13319735f9989beb45af396348247a4",
     "grade": false,
     "grade_id": "cell-0311ca8fc8fb3bf4",
     "locked": true,
     "schema_version": 1,
     "solution": false
    }
   },
   "source": [
    "To get the types of the data columns in the dataframe"
   ]
  },
  {
   "cell_type": "code",
   "execution_count": null,
   "metadata": {
    "deletable": false,
    "editable": false,
    "nbgrader": {
     "checksum": "71a9af66cbff51b9a6e16d2284186ce6",
     "grade": false,
     "grade_id": "cell-4bc6b4030715be07",
     "locked": true,
     "schema_version": 1,
     "solution": false
    }
   },
   "outputs": [],
   "source": [
    "complaints.dtypes"
   ]
  },
  {
   "cell_type": "markdown",
   "metadata": {
    "deletable": false,
    "editable": false,
    "nbgrader": {
     "checksum": "0e653923c32959862d370cb240dbeeee",
     "grade": false,
     "grade_id": "cell-b7be686c6baf4c03",
     "locked": true,
     "schema_version": 1,
     "solution": false
    }
   },
   "source": [
    "### Describe data\n",
    "The describe function summarizes statistics of the numerical data present in the DataFrame.\n",
    "\n",
    " - mean : average\n",
    " - std : standard deviation\n",
    " - Maximum\n",
    " - Minimum\n",
    " - Quantile 25 50 75 \n",
    " "
   ]
  },
  {
   "cell_type": "code",
   "execution_count": null,
   "metadata": {
    "deletable": false,
    "editable": false,
    "nbgrader": {
     "checksum": "ef2ad56ec7cc8cac89ecc97c355c3557",
     "grade": false,
     "grade_id": "cell-7d245f33c9e0c775",
     "locked": true,
     "schema_version": 1,
     "solution": false
    }
   },
   "outputs": [],
   "source": [
    "bikes.describe()\n",
    "# Only the numeric columns"
   ]
  },
  {
   "cell_type": "markdown",
   "metadata": {
    "deletable": false,
    "editable": false,
    "nbgrader": {
     "checksum": "bd2c01c36b6a0a73b98d6a732404d742",
     "grade": false,
     "grade_id": "cell-77c391597c7075ec",
     "locked": true,
     "schema_version": 1,
     "solution": false
    }
   },
   "source": [
    "*Now we can see the min and max, and check if we were right!*"
   ]
  },
  {
   "cell_type": "code",
   "execution_count": null,
   "metadata": {
    "deletable": false,
    "editable": false,
    "nbgrader": {
     "checksum": "98b6856006f2a4caffab2bd6f1695466",
     "grade": false,
     "grade_id": "cell-bfce4fd853b99c1d",
     "locked": true,
     "schema_version": 1,
     "solution": false
    }
   },
   "outputs": [],
   "source": [
    "# We define a new function get_highest for DataFrame\n",
    "def get_highest(data, name_column):\n",
    "    highest = 0\n",
    "    for value in data.loc[:,name_column]:\n",
    "        if float(value) > highest:\n",
    "            highest = float(value)\n",
    "    return highest"
   ]
  },
  {
   "cell_type": "code",
   "execution_count": null,
   "metadata": {
    "deletable": false,
    "editable": false,
    "nbgrader": {
     "checksum": "bd9581f441539909c79fa53a9233da91",
     "grade": false,
     "grade_id": "cell-ab6a1643a569c4b9",
     "locked": true,
     "schema_version": 1,
     "solution": false
    }
   },
   "outputs": [],
   "source": [
    "get_highest(bikes, 'Maisonneuve 1')"
   ]
  },
  {
   "cell_type": "markdown",
   "metadata": {
    "deletable": false,
    "editable": false,
    "nbgrader": {
     "checksum": "40027bd7203c098325bcca77f18bedd3",
     "grade": false,
     "grade_id": "cell-2ee262f766e7a748",
     "locked": true,
     "schema_version": 1,
     "solution": false
    }
   },
   "source": [
    "#### Plotting histograms"
   ]
  },
  {
   "cell_type": "code",
   "execution_count": null,
   "metadata": {
    "deletable": false,
    "editable": false,
    "nbgrader": {
     "checksum": "46a8fb8e4a6a7b2cad01b95423a26085",
     "grade": false,
     "grade_id": "cell-baf2c00800b69046",
     "locked": true,
     "schema_version": 1,
     "solution": false
    }
   },
   "outputs": [],
   "source": [
    "bikes.hist(figsize = (20,10))"
   ]
  },
  {
   "cell_type": "code",
   "execution_count": null,
   "metadata": {
    "deletable": false,
    "editable": false,
    "nbgrader": {
     "checksum": "3d814580555f36cc9b630b8bee639e85",
     "grade": false,
     "grade_id": "cell-3d3b8739e64624ab",
     "locked": true,
     "schema_version": 1,
     "solution": false
    }
   },
   "outputs": [],
   "source": [
    "# histogram of a specific column\n",
    "bikes['Maisonneuve 1'].hist()"
   ]
  },
  {
   "cell_type": "markdown",
   "metadata": {
    "deletable": false,
    "editable": false,
    "nbgrader": {
     "checksum": "88aa431ad22bb58f799c31b813235801",
     "grade": false,
     "grade_id": "cell-22b3905e7d021582",
     "locked": true,
     "schema_version": 1,
     "solution": false
    }
   },
   "source": [
    "### Simple stats on Numerical columns"
   ]
  },
  {
   "cell_type": "code",
   "execution_count": null,
   "metadata": {
    "deletable": false,
    "editable": false,
    "nbgrader": {
     "checksum": "bd5b29230fd4f987c4e7828c9855d9b7",
     "grade": false,
     "grade_id": "cell-5cf4bbc4a776807e",
     "locked": true,
     "schema_version": 1,
     "solution": false
    }
   },
   "outputs": [],
   "source": [
    "bikes['Côte-Sainte-Catherine'].sum()"
   ]
  },
  {
   "cell_type": "code",
   "execution_count": null,
   "metadata": {
    "deletable": false,
    "editable": false,
    "nbgrader": {
     "checksum": "c714bd7f6fc1c98012031f1f9fed088e",
     "grade": false,
     "grade_id": "cell-e5aa6d60e813eaba",
     "locked": true,
     "schema_version": 1,
     "solution": false
    }
   },
   "outputs": [],
   "source": [
    "bikes['Côte-Sainte-Catherine'].mean()"
   ]
  },
  {
   "cell_type": "code",
   "execution_count": null,
   "metadata": {
    "deletable": false,
    "editable": false,
    "nbgrader": {
     "checksum": "8f8c4f4d69784d7035f559ec0206436b",
     "grade": false,
     "grade_id": "cell-172586519ba18403",
     "locked": true,
     "schema_version": 1,
     "solution": false
    }
   },
   "outputs": [],
   "source": [
    "bikes['Côte-Sainte-Catherine'].max()"
   ]
  },
  {
   "cell_type": "code",
   "execution_count": null,
   "metadata": {
    "deletable": false,
    "editable": false,
    "nbgrader": {
     "checksum": "e55e2ba85971d7255a3196e13ce811ea",
     "grade": false,
     "grade_id": "cell-67d6edf982caee8c",
     "locked": true,
     "schema_version": 1,
     "solution": false
    }
   },
   "outputs": [],
   "source": [
    "bikes['Côte-Sainte-Catherine'].min()"
   ]
  },
  {
   "cell_type": "code",
   "execution_count": null,
   "metadata": {
    "deletable": false,
    "editable": false,
    "nbgrader": {
     "checksum": "dbf6291d3bc4ff747764da4947124942",
     "grade": false,
     "grade_id": "cell-a901b09c4376dbfb",
     "locked": true,
     "schema_version": 1,
     "solution": false
    }
   },
   "outputs": [],
   "source": [
    "bikes['Côte-Sainte-Catherine'].median()"
   ]
  },
  {
   "cell_type": "markdown",
   "metadata": {
    "deletable": false,
    "editable": false,
    "nbgrader": {
     "checksum": "e2a9e2af87897660fd338e45efd8b152",
     "grade": false,
     "grade_id": "cell-8882315b560c94eb",
     "locked": true,
     "schema_version": 1,
     "solution": false
    }
   },
   "source": [
    "## Reorganizing data\n",
    "### Transposing data "
   ]
  },
  {
   "cell_type": "code",
   "execution_count": null,
   "metadata": {
    "deletable": false,
    "editable": false,
    "nbgrader": {
     "checksum": "e78772909edf355d225b486dec0c7d20",
     "grade": false,
     "grade_id": "cell-05604e6b84ac6a7e",
     "locked": true,
     "schema_version": 1,
     "solution": false
    }
   },
   "outputs": [],
   "source": [
    "bikes.T"
   ]
  },
  {
   "cell_type": "markdown",
   "metadata": {
    "deletable": false,
    "editable": false,
    "nbgrader": {
     "checksum": "e8586399f1af04efb5524cfef9ec2614",
     "grade": false,
     "grade_id": "cell-c9622b1633901097",
     "locked": true,
     "schema_version": 1,
     "solution": false
    }
   },
   "source": [
    "### Sorting data"
   ]
  },
  {
   "cell_type": "code",
   "execution_count": null,
   "metadata": {
    "deletable": false,
    "editable": false,
    "nbgrader": {
     "checksum": "65082603da36e4640e95fd2f4f64212b",
     "grade": false,
     "grade_id": "cell-cbf6e3a97b0e7b8a",
     "locked": true,
     "schema_version": 1,
     "solution": false
    }
   },
   "outputs": [],
   "source": [
    "bikes.sort_values(by = 'Berri 1', ascending=False).head()\n",
    "# add arg inplace = True to perform operation in-place"
   ]
  },
  {
   "cell_type": "code",
   "execution_count": null,
   "metadata": {
    "deletable": false,
    "editable": false,
    "nbgrader": {
     "checksum": "9ec5605d94753a9cb875ad0f9d8c9544",
     "grade": false,
     "grade_id": "cell-c02647d329a17e95",
     "locked": true,
     "schema_version": 1,
     "solution": false
    }
   },
   "outputs": [],
   "source": [
    "# it's possible to sort a column with the same function\n",
    "bikes['du Parc'].sort_values().head()"
   ]
  },
  {
   "cell_type": "markdown",
   "metadata": {
    "deletable": false,
    "editable": false,
    "nbgrader": {
     "checksum": "dcce0c9302d90265afa3d6c3992bd25a",
     "grade": false,
     "grade_id": "cell-46f741ab9f0d53d4",
     "locked": true,
     "schema_version": 1,
     "solution": false
    }
   },
   "source": [
    "## Transforming data\n",
    "### Transforming existing data\n",
    "*To avoid transforming df, we first make a copy*\n"
   ]
  },
  {
   "cell_type": "code",
   "execution_count": null,
   "metadata": {
    "deletable": false,
    "editable": false,
    "nbgrader": {
     "checksum": "0c21e12b571f73d6ee1d4435b98ad93d",
     "grade": false,
     "grade_id": "cell-047f84bc4c0dbed0",
     "locked": true,
     "schema_version": 1,
     "solution": false
    }
   },
   "outputs": [],
   "source": [
    "complaints_copy = complaints.copy()\n",
    "# df_copy = df only creates a alias, not a new object !\n",
    "bikes_copy = bikes.copy()"
   ]
  },
  {
   "cell_type": "markdown",
   "metadata": {
    "deletable": false,
    "editable": false,
    "nbgrader": {
     "checksum": "43eb3358eedf42a02d49f93992c99655",
     "grade": false,
     "grade_id": "cell-fe2d77d69c48304b",
     "locked": true,
     "schema_version": 1,
     "solution": false
    }
   },
   "source": [
    "*You just have to assign new values to a selection*\n",
    "\n",
    "Lets assign the values 1 to 3 to the first \"Unique Key\" rows\n"
   ]
  },
  {
   "cell_type": "code",
   "execution_count": null,
   "metadata": {
    "deletable": false,
    "editable": false,
    "nbgrader": {
     "checksum": "618c5618eecb51dae23f24c30b6df80e",
     "grade": false,
     "grade_id": "cell-bb5ccfcd4a1d54d1",
     "locked": true,
     "schema_version": 1,
     "solution": false
    }
   },
   "outputs": [],
   "source": [
    "complaints_copy.loc[0:2,'Unique Key'] = np.array([1,2,3])\n",
    "complaints_copy.head()"
   ]
  },
  {
   "cell_type": "markdown",
   "metadata": {
    "deletable": false,
    "editable": false,
    "nbgrader": {
     "checksum": "3a06ac0568a9351f5d54e0fba82a54cf",
     "grade": false,
     "grade_id": "cell-e145e6b5d18b5792",
     "locked": true,
     "schema_version": 1,
     "solution": false
    }
   },
   "source": [
    "### Adding new data\n",
    "\n",
    "Lets add the column Daily Total to our data and assign each value as the sum of the others "
   ]
  },
  {
   "cell_type": "code",
   "execution_count": null,
   "metadata": {
    "deletable": false,
    "editable": false,
    "nbgrader": {
     "checksum": "717ff6a7b52159e9ff71d3df006aac28",
     "grade": false,
     "grade_id": "cell-48ebf7b30c3c310c",
     "locked": true,
     "schema_version": 1,
     "solution": false
    }
   },
   "outputs": [],
   "source": [
    "# Adding a column\n",
    "bikes_copy['Daily Total'] = bikes['Berri 1'] + bikes['Côte-Sainte-Catherine'] + bikes['Maisonneuve 1'] + bikes['Maisonneuve 2']+ bikes['du Parc']+ bikes['Pierre-Dupuy']+ bikes['Rachel1']\n",
    "bikes_copy.head()"
   ]
  },
  {
   "cell_type": "markdown",
   "metadata": {
    "deletable": false,
    "editable": false,
    "nbgrader": {
     "checksum": "1b74ce8facec3bcf76aeca8ce4bff02c",
     "grade": false,
     "grade_id": "cell-b185250c220a7d1e",
     "locked": true,
     "schema_version": 1,
     "solution": false
    }
   },
   "source": [
    "### Dropping data\n",
    "- To delete a row or a column use the function drop(). \n",
    "- To drop a column set axis = 1 \n",
    "- To delete the column without having to reassign like this: bikes_copy = bikes_copy.drop()\n",
    "--> you can set the parameter inplace = True\n"
   ]
  },
  {
   "cell_type": "code",
   "execution_count": null,
   "metadata": {
    "deletable": false,
    "editable": false,
    "nbgrader": {
     "checksum": "2e91fd4246434cd50411c167d3f38376",
     "grade": false,
     "grade_id": "cell-c4be4f8c87c3c88e",
     "locked": true,
     "schema_version": 1,
     "solution": false
    }
   },
   "outputs": [],
   "source": [
    "bikes_copy.drop('Brébeuf (données non disponibles)', axis = 1, inplace = True)\n",
    "bikes_copy.head()"
   ]
  },
  {
   "cell_type": "markdown",
   "metadata": {
    "deletable": false,
    "editable": false,
    "nbgrader": {
     "checksum": "faabde59381459e98d95afff809c2cba",
     "grade": false,
     "grade_id": "cell-5033a56f4832661e",
     "locked": true,
     "schema_version": 1,
     "solution": false
    }
   },
   "source": [
    "Finally, to drop by column number instead of by column label, try this to delete the 2nd and 3rd columns"
   ]
  },
  {
   "cell_type": "code",
   "execution_count": null,
   "metadata": {
    "deletable": false,
    "editable": false,
    "nbgrader": {
     "checksum": "98c0f30545849c7b22d6d26394f999d7",
     "grade": false,
     "grade_id": "cell-dcc5b5dbc185f962",
     "locked": true,
     "schema_version": 1,
     "solution": false
    }
   },
   "outputs": [],
   "source": [
    "bikes_copy.drop(bikes_copy.columns[[2, 3]], axis=1,inplace = True)  # df.columns is zero-based pd.Index \n",
    "bikes_copy.head()"
   ]
  },
  {
   "cell_type": "markdown",
   "metadata": {
    "deletable": false,
    "editable": false,
    "nbgrader": {
     "checksum": "f9497a152edf24131f377b67a856a056",
     "grade": false,
     "grade_id": "cell-85a2d4b22b089666",
     "locked": true,
     "schema_version": 1,
     "solution": false
    }
   },
   "source": [
    "### Sorting values"
   ]
  },
  {
   "cell_type": "markdown",
   "metadata": {
    "deletable": false,
    "editable": false,
    "nbgrader": {
     "checksum": "a92e45e876746bc16b135f1dc914a48d",
     "grade": false,
     "grade_id": "cell-fcd61f12cc5d176a",
     "locked": true,
     "schema_version": 1,
     "solution": false
    }
   },
   "source": [
    "To sort the values of the columns with respect to a certain column: sort_values(by = '', ascending= )"
   ]
  },
  {
   "cell_type": "code",
   "execution_count": null,
   "metadata": {
    "deletable": false,
    "editable": false,
    "nbgrader": {
     "checksum": "e7d23d933ca415cb517fd5e702a799a8",
     "grade": false,
     "grade_id": "cell-a69a6d21c1972e15",
     "locked": true,
     "schema_version": 1,
     "solution": false
    }
   },
   "outputs": [],
   "source": [
    "bikes_copy = bikes_copy.sort_values(by = 'Daily Total',ascending=False)\n",
    "bikes_copy.head()"
   ]
  },
  {
   "cell_type": "markdown",
   "metadata": {
    "deletable": false,
    "editable": false,
    "nbgrader": {
     "checksum": "98bdae1e65dc7eb5f6fc7347a61dbb88",
     "grade": false,
     "grade_id": "cell-bb2d62bfb84a3864",
     "locked": true,
     "schema_version": 1,
     "solution": false
    }
   },
   "source": [
    "After sorting To reset the values, the indices of the rows will be sorted as well. To deal with this we used the reset_index() function. drop = True means not to keep the old index"
   ]
  },
  {
   "cell_type": "code",
   "execution_count": null,
   "metadata": {
    "deletable": false,
    "editable": false,
    "nbgrader": {
     "checksum": "54357d0a98e63f646a1dd0d7a2dc63f9",
     "grade": false,
     "grade_id": "cell-ab467a3b9f8d11c0",
     "locked": true,
     "schema_version": 1,
     "solution": false
    }
   },
   "outputs": [],
   "source": [
    "bikes_copy.reset_index(inplace=True, drop = True)\n",
    "bikes_copy.head()\n"
   ]
  },
  {
   "cell_type": "markdown",
   "metadata": {
    "deletable": false,
    "editable": false,
    "nbgrader": {
     "checksum": "42fda15540ba5eb5bd5e06d6131c0b38",
     "grade": false,
     "grade_id": "cell-2894a0f13c8862ab",
     "locked": true,
     "schema_version": 1,
     "solution": false
    }
   },
   "source": [
    "### Applying a Function to Each Column"
   ]
  },
  {
   "cell_type": "markdown",
   "metadata": {
    "deletable": false,
    "editable": false,
    "nbgrader": {
     "checksum": "2d64493a0a0198d5a0c08462a1935827",
     "grade": false,
     "grade_id": "cell-b279e53a9d5b9b0e",
     "locked": true,
     "schema_version": 1,
     "solution": false
    }
   },
   "source": [
    "Sometimes it is necessary to apply the same function to certain columns of the data. To do this we use apply().\n",
    "Lets for example try to apply a function that divides each value starting from the 3rd column by the values of the column Daily Total and put it in a DataFrame named proportions. Notice that we did not put inplace=True and so \n",
    "we had to define a new DataFrame called proportions and put the values in it. "
   ]
  },
  {
   "cell_type": "code",
   "execution_count": null,
   "metadata": {
    "deletable": false,
    "editable": false,
    "nbgrader": {
     "checksum": "bc134606e23247476dd094a41393d398",
     "grade": false,
     "grade_id": "cell-e15b5327547b7450",
     "locked": true,
     "schema_version": 1,
     "solution": false
    }
   },
   "outputs": [],
   "source": [
    "proportions = bikes_copy.iloc[:,2:].apply(lambda x: x/x['Daily Total'], axis=1)\n",
    "proportions.head()"
   ]
  },
  {
   "cell_type": "markdown",
   "metadata": {
    "deletable": false,
    "editable": false,
    "nbgrader": {
     "checksum": "b296b091e04abc3daa4878e376e57655",
     "grade": false,
     "grade_id": "cell-102915db9466243d",
     "locked": true,
     "schema_version": 1,
     "solution": false
    }
   },
   "source": [
    "### Dealing with NA"
   ]
  },
  {
   "cell_type": "markdown",
   "metadata": {
    "deletable": false,
    "editable": false,
    "nbgrader": {
     "checksum": "32d35c70da92eebcde3832a9e2d4ff25",
     "grade": false,
     "grade_id": "cell-9af0229d32b75eee",
     "locked": true,
     "schema_version": 1,
     "solution": false
    }
   },
   "source": [
    "Missing values is a common problem in data analysis. Missing values are usually automatically replaced by NaN values. To clean our data we can either delete the rows containing NaN or replacing NaNs by specific values.  "
   ]
  },
  {
   "cell_type": "markdown",
   "metadata": {
    "deletable": false,
    "editable": false,
    "nbgrader": {
     "checksum": "ff441fa131f026257ae2e3e8ab019329",
     "grade": false,
     "grade_id": "cell-8f527a838d408573",
     "locked": true,
     "schema_version": 1,
     "solution": false
    }
   },
   "source": [
    "Lets check if we have NaN values in the bikes data. For that we use isnull() function. The result is True is the value is Nan and False if it is not."
   ]
  },
  {
   "cell_type": "code",
   "execution_count": null,
   "metadata": {
    "deletable": false,
    "editable": false,
    "nbgrader": {
     "checksum": "605818126ce0a0692a14e2309aff780b",
     "grade": false,
     "grade_id": "cell-4c2583b0201ec267",
     "locked": true,
     "schema_version": 1,
     "solution": false
    }
   },
   "outputs": [],
   "source": [
    "# To get the boolean mask where values are NaN \n",
    "bikes_copy.isnull().head()"
   ]
  },
  {
   "cell_type": "markdown",
   "metadata": {
    "deletable": false,
    "editable": false,
    "nbgrader": {
     "checksum": "08965885e84853bf724bfbbfe2af5e26",
     "grade": false,
     "grade_id": "cell-95b68610d1d259f0",
     "locked": true,
     "schema_version": 1,
     "solution": false
    }
   },
   "source": [
    "use fillna() function to replace the NaN values by whatever value you choose.\n",
    "value can be a string, a number or even a function"
   ]
  },
  {
   "cell_type": "code",
   "execution_count": null,
   "metadata": {
    "deletable": false,
    "editable": false,
    "nbgrader": {
     "checksum": "2cad60f18f28c9a7ee3316b702948aab",
     "grade": false,
     "grade_id": "cell-8100f341260a7a2e",
     "locked": true,
     "schema_version": 1,
     "solution": false
    }
   },
   "outputs": [],
   "source": [
    "# Filling missing data\n",
    "bikes_copy.fillna(value = 0, inplace=False).head()"
   ]
  },
  {
   "cell_type": "code",
   "execution_count": null,
   "metadata": {
    "deletable": false,
    "editable": false,
    "nbgrader": {
     "checksum": "e3fe142f0fed772074e4fc9016557086",
     "grade": false,
     "grade_id": "cell-8a2760ae8b0a2bc1",
     "locked": true,
     "schema_version": 1,
     "solution": false
    }
   },
   "outputs": [],
   "source": [
    "bikes_copy.head()"
   ]
  },
  {
   "cell_type": "markdown",
   "metadata": {
    "deletable": false,
    "editable": false,
    "nbgrader": {
     "checksum": "b333021414cc2c69ee521370245f3757",
     "grade": false,
     "grade_id": "cell-53033023510fe8a5",
     "locked": true,
     "schema_version": 1,
     "solution": false
    }
   },
   "source": [
    "Lets replace the NaN values in the Closed Date column in complaints by the string \"Unknown\""
   ]
  },
  {
   "cell_type": "code",
   "execution_count": null,
   "metadata": {
    "deletable": false,
    "editable": false,
    "nbgrader": {
     "checksum": "dfcd6a6c8674b6fcf9cc8bb440822da0",
     "grade": false,
     "grade_id": "cell-7cbccd9d345996d1",
     "locked": true,
     "schema_version": 1,
     "solution": false
    }
   },
   "outputs": [],
   "source": [
    "complaints.head(3)"
   ]
  },
  {
   "cell_type": "code",
   "execution_count": null,
   "metadata": {
    "deletable": false,
    "editable": false,
    "nbgrader": {
     "checksum": "bd4f40aedac50c7130d36352b8c1a1ee",
     "grade": false,
     "grade_id": "cell-c45626e014936dfe",
     "locked": true,
     "schema_version": 1,
     "solution": false
    }
   },
   "outputs": [],
   "source": [
    "complaints_copy['Closed Date'].fillna(value='Unknown', inplace= True)\n",
    "complaints_copy.head(3)"
   ]
  },
  {
   "cell_type": "markdown",
   "metadata": {
    "deletable": false,
    "editable": false,
    "nbgrader": {
     "checksum": "6647ab93127790eff7163d83adfc5278",
     "grade": false,
     "grade_id": "cell-0406ae6fe1f05886",
     "locked": true,
     "schema_version": 1,
     "solution": false
    }
   },
   "source": [
    "To delete all the rows containg NaN, use the dropna() function\n",
    "- axis where missing values are dropped, 0 <=> row and 1 <=> column\n",
    "- how : if 'any' NaN are present, drop that label \n",
    "- if 'all' labels are NA, drop that label"
   ]
  },
  {
   "cell_type": "code",
   "execution_count": null,
   "metadata": {
    "deletable": false,
    "editable": false,
    "nbgrader": {
     "checksum": "0256b1295461fb72abb4704d53e2dfc4",
     "grade": false,
     "grade_id": "cell-b40eff30bfe17952",
     "locked": true,
     "schema_version": 1,
     "solution": false
    }
   },
   "outputs": [],
   "source": [
    "complaints.dropna(axis = 0, how = 'all', inplace = False).head()"
   ]
  },
  {
   "cell_type": "markdown",
   "metadata": {
    "deletable": false,
    "editable": false,
    "nbgrader": {
     "checksum": "1b7414c6837a159e0d4a84e19e5eedc1",
     "grade": false,
     "grade_id": "cell-4f34f20d235ece83",
     "locked": true,
     "schema_version": 1,
     "solution": false
    }
   },
   "source": [
    "## Counting Values And Filtering<a name=\"_counting values and filtering\"></a>\n",
    "\n",
    "To count the occurence of specific values for specific columns. We use the `.value_counts()` function.\n",
    "What's the most common complaint type? This is a really easy question to answer! "
   ]
  },
  {
   "cell_type": "code",
   "execution_count": null,
   "metadata": {
    "deletable": false,
    "editable": false,
    "nbgrader": {
     "checksum": "97f2f8807222592255d96744bf50bfb7",
     "grade": false,
     "grade_id": "cell-99e8ae21997c1d14",
     "locked": true,
     "schema_version": 1,
     "solution": false
    }
   },
   "outputs": [],
   "source": [
    "complaints['Complaint Type'].value_counts()"
   ]
  },
  {
   "cell_type": "markdown",
   "metadata": {
    "deletable": false,
    "editable": false,
    "nbgrader": {
     "checksum": "cd01755b1397948aa33fd95879ec7008",
     "grade": false,
     "grade_id": "cell-e6d3d6da47582442",
     "locked": true,
     "schema_version": 1,
     "solution": false
    }
   },
   "source": [
    "If we just wanted the top 10 most common complaints, we can do this:"
   ]
  },
  {
   "cell_type": "code",
   "execution_count": null,
   "metadata": {
    "deletable": false,
    "editable": false,
    "nbgrader": {
     "checksum": "4eaf07e5060165ce0e0dc616950175d4",
     "grade": false,
     "grade_id": "cell-a38237909eb4a45a",
     "locked": true,
     "schema_version": 1,
     "solution": false
    }
   },
   "outputs": [],
   "source": [
    "complaint_counts = complaints['Complaint Type'].value_counts()\n",
    "complaint_counts[:10]"
   ]
  },
  {
   "cell_type": "markdown",
   "metadata": {
    "deletable": false,
    "editable": false,
    "nbgrader": {
     "checksum": "cca54cf73f195b5b0ebed84917dfc866",
     "grade": false,
     "grade_id": "cell-84cfaebc279868fc",
     "locked": true,
     "schema_version": 1,
     "solution": false
    }
   },
   "source": [
    "Transform the result to a dictionary."
   ]
  },
  {
   "cell_type": "code",
   "execution_count": null,
   "metadata": {
    "deletable": false,
    "editable": false,
    "nbgrader": {
     "checksum": "79689597a427e45335e54adb245197ba",
     "grade": false,
     "grade_id": "cell-ab8782d3be7651a6",
     "locked": true,
     "schema_version": 1,
     "solution": false
    }
   },
   "outputs": [],
   "source": [
    "dict(complaint_counts)"
   ]
  },
  {
   "cell_type": "markdown",
   "metadata": {
    "deletable": false,
    "editable": false,
    "nbgrader": {
     "checksum": "46a29b371503c1bc3cbfcd7da16ef7a6",
     "grade": false,
     "grade_id": "cell-7bf83c7b94810a4a",
     "locked": true,
     "schema_version": 1,
     "solution": false
    }
   },
   "source": [
    "But it gets better! We can plot them!"
   ]
  },
  {
   "cell_type": "code",
   "execution_count": null,
   "metadata": {
    "deletable": false,
    "editable": false,
    "nbgrader": {
     "checksum": "2bcddc46fb67d94e1c55a1c6f0c6f0dd",
     "grade": false,
     "grade_id": "cell-40671c45c8d7a9ae",
     "locked": true,
     "schema_version": 1,
     "solution": false
    }
   },
   "outputs": [],
   "source": [
    "complaint_counts[:10].plot(kind='bar')"
   ]
  },
  {
   "cell_type": "markdown",
   "metadata": {
    "deletable": false,
    "editable": false,
    "nbgrader": {
     "checksum": "89a7cc88fc4cd709497c01aa4a0262b9",
     "grade": false,
     "grade_id": "cell-2092b73f1034873e",
     "locked": true,
     "schema_version": 1,
     "solution": false
    }
   },
   "source": [
    "We can also see how many unique types of complaints there are in the column, using `.unique` and len (for length):"
   ]
  },
  {
   "cell_type": "code",
   "execution_count": null,
   "metadata": {
    "deletable": false,
    "editable": false,
    "nbgrader": {
     "checksum": "0ca0e814682dba639fee751b0a178f84",
     "grade": false,
     "grade_id": "cell-3c942d1cebb644b4",
     "locked": true,
     "schema_version": 1,
     "solution": false
    }
   },
   "outputs": [],
   "source": [
    "complaints['Agency'].unique()"
   ]
  },
  {
   "cell_type": "code",
   "execution_count": null,
   "metadata": {
    "deletable": false,
    "editable": false,
    "nbgrader": {
     "checksum": "4322b4e8d0b8c8476d523cfdb977aeec",
     "grade": false,
     "grade_id": "cell-de0340d6639171f0",
     "locked": true,
     "schema_version": 1,
     "solution": false
    }
   },
   "outputs": [],
   "source": [
    "# get the number of unique values for a feature\n",
    "len(complaints['Agency'].unique())"
   ]
  },
  {
   "cell_type": "markdown",
   "metadata": {
    "deletable": false,
    "editable": false,
    "nbgrader": {
     "checksum": "59bb17eac3367dfdbe693ee2891525f4",
     "grade": false,
     "grade_id": "cell-76929b449dd74412",
     "locked": true,
     "schema_version": 1,
     "solution": false
    }
   },
   "source": [
    "## Application : Which Borough has the Most Noise Complaints?<a name=\"_ 8. application : which borough has the most noise complaints?\"></a>"
   ]
  },
  {
   "cell_type": "markdown",
   "metadata": {
    "deletable": false,
    "editable": false,
    "nbgrader": {
     "checksum": "50f1bbf39445f357b9ee10fa8d434381",
     "grade": false,
     "grade_id": "cell-1bee013abf76f2b4",
     "locked": true,
     "schema_version": 1,
     "solution": false
    }
   },
   "source": [
    "To get the noise complaints, we first need to find the rows where the \"Complaint Type\" column is \"Noise - Street/Sidewalk\". We use boolean indexing (3.2.)"
   ]
  },
  {
   "cell_type": "code",
   "execution_count": null,
   "metadata": {
    "deletable": false,
    "editable": false,
    "nbgrader": {
     "checksum": "f5fb3c625dee8d5e07123135d4be3c9e",
     "grade": false,
     "grade_id": "cell-1075d181036319f2",
     "locked": true,
     "schema_version": 1,
     "solution": false
    }
   },
   "outputs": [],
   "source": [
    "noise_complaints = complaints[  complaints['Complaint Type'] == \"Noise - Street/Sidewalk\"  ] \n",
    "noise_complaints[0:10]\n",
    "noise_complaints['Borough']"
   ]
  },
  {
   "cell_type": "code",
   "execution_count": null,
   "metadata": {
    "deletable": false,
    "editable": false,
    "nbgrader": {
     "checksum": "9cd0c7ec4270bce8b18fcc5327ea9141",
     "grade": false,
     "grade_id": "cell-e051f50f3d3a7460",
     "locked": true,
     "schema_version": 1,
     "solution": false
    }
   },
   "outputs": [],
   "source": [
    "noise_complaints['Borough'].value_counts().plot(kind = 'bar')"
   ]
  },
  {
   "cell_type": "markdown",
   "metadata": {
    "deletable": false,
    "editable": false,
    "nbgrader": {
     "checksum": "93a13cc5e2e8d56b67c9ae788cf9f3a7",
     "grade": false,
     "grade_id": "cell-496a15866a0aabb7",
     "locked": true,
     "schema_version": 1,
     "solution": false
    }
   },
   "source": [
    "It's Manhattan! But what if we wanted to divide by the total number of complaints, to make it make a bit more sense? That would be easy too:"
   ]
  },
  {
   "cell_type": "code",
   "execution_count": null,
   "metadata": {
    "deletable": false,
    "editable": false,
    "nbgrader": {
     "checksum": "210504cc21f0fd9698077f0febe292a0",
     "grade": false,
     "grade_id": "cell-c6f506004297585f",
     "locked": true,
     "schema_version": 1,
     "solution": false
    }
   },
   "outputs": [],
   "source": [
    "complaints['Borough'].value_counts()"
   ]
  },
  {
   "cell_type": "code",
   "execution_count": null,
   "metadata": {
    "deletable": false,
    "editable": false,
    "nbgrader": {
     "checksum": "53df314e82184afc28e9e41606d1e91b",
     "grade": false,
     "grade_id": "cell-7b72467696ec6952",
     "locked": true,
     "schema_version": 1,
     "solution": false
    }
   },
   "outputs": [],
   "source": [
    "results = noise_complaints['Borough'].value_counts() / complaints['Borough'].value_counts()\n",
    "results"
   ]
  },
  {
   "cell_type": "markdown",
   "metadata": {
    "deletable": false,
    "editable": false,
    "nbgrader": {
     "checksum": "13ce844d533036478e9dd1961dd25fd8",
     "grade": false,
     "grade_id": "cell-fac52869d1a8334c",
     "locked": true,
     "schema_version": 1,
     "solution": false
    }
   },
   "source": [
    "What if we want to graph this?\n",
    "The default is a line graph, which is not the right type for this kind of data.  This data is not timeseries (where the X axis is dates/times).  This data is count data by categories that are not ordered -- \"boroughs.\"  The proper type of chart for this is a bar graph."
   ]
  },
  {
   "cell_type": "code",
   "execution_count": null,
   "metadata": {
    "deletable": false,
    "editable": false,
    "nbgrader": {
     "checksum": "d7c065cb6cd41cbccdf93662f509b401",
     "grade": false,
     "grade_id": "cell-afea63703f06ac8b",
     "locked": true,
     "schema_version": 1,
     "solution": false
    }
   },
   "outputs": [],
   "source": [
    "results.plot()"
   ]
  },
  {
   "cell_type": "code",
   "execution_count": null,
   "metadata": {
    "deletable": false,
    "editable": false,
    "nbgrader": {
     "checksum": "221e07c1b5bf468a3340983e363c11e2",
     "grade": false,
     "grade_id": "cell-a8ca4aaefe8968ac",
     "locked": true,
     "schema_version": 1,
     "solution": false
    }
   },
   "outputs": [],
   "source": [
    "# we can use the keyword argument kind for this:\n",
    "results.sort_values(ascending=False).plot(kind = 'bar')"
   ]
  },
  {
   "cell_type": "markdown",
   "metadata": {
    "deletable": false,
    "editable": false,
    "nbgrader": {
     "checksum": "3f953532bb196ef8b33140aff5c5d9c9",
     "grade": false,
     "grade_id": "cell-ca929764d1a17a93",
     "locked": true,
     "schema_version": 1,
     "solution": false
    }
   },
   "source": [
    "# In-Class Exercises\n",
    "## Part 1: Filtering and Counting Things\n"
   ]
  },
  {
   "cell_type": "code",
   "execution_count": null,
   "metadata": {
    "deletable": false,
    "editable": false,
    "nbgrader": {
     "checksum": "8e033cbe25c622ea9a7bd4421a873739",
     "grade": false,
     "grade_id": "cell-39bde91645aa7582",
     "locked": true,
     "schema_version": 1,
     "solution": false
    }
   },
   "outputs": [],
   "source": [
    "df = pd.read_csv('data/chicago_crimes.csv', parse_dates=['Date-Time'], dayfirst=False,)"
   ]
  },
  {
   "cell_type": "code",
   "execution_count": null,
   "metadata": {
    "deletable": false,
    "editable": false,
    "nbgrader": {
     "checksum": "4b25a4a9b46e69bf7ca4a185ee143dab",
     "grade": false,
     "grade_id": "cell-a310d370d2235c51",
     "locked": true,
     "schema_version": 1,
     "solution": false
    }
   },
   "outputs": [],
   "source": [
    "df.describe()"
   ]
  },
  {
   "cell_type": "markdown",
   "metadata": {
    "deletable": false,
    "editable": false,
    "nbgrader": {
     "checksum": "221841c9a450cc68c4a8aebd6d716073",
     "grade": false,
     "grade_id": "cell-5f1cf32629cef97b",
     "locked": true,
     "schema_version": 1,
     "solution": false
    }
   },
   "source": [
    "The problem above is that some of those columns have numbers, but not measures you can do math on. The Beat, District, Ward, Community Area, and id are codes, so you can't take their mean, avg, max etc...  We should change them to string types, of \"object\" in pandas type notation."
   ]
  },
  {
   "cell_type": "code",
   "execution_count": null,
   "metadata": {
    "deletable": false,
    "editable": false,
    "nbgrader": {
     "checksum": "57fa91fe3a103c9b813058e7b9c004de",
     "grade": false,
     "grade_id": "cell-2a7568fcac48746c",
     "locked": true,
     "schema_version": 1,
     "solution": false
    }
   },
   "outputs": [],
   "source": [
    "df = df.astype({\"Ward\":\"object\",\"Beat\":\"object\", \"District\":\"object\", \"identification\":\"object\", \"Community Area\": \"object\"}, copy=True)"
   ]
  },
  {
   "cell_type": "code",
   "execution_count": null,
   "metadata": {
    "deletable": false,
    "editable": false,
    "nbgrader": {
     "checksum": "81f1a90d1258146b4b3f920254190d37",
     "grade": false,
     "grade_id": "cell-e94161ce1c19e360",
     "locked": true,
     "schema_version": 1,
     "solution": false
    }
   },
   "outputs": [],
   "source": [
    "df.describe()"
   ]
  },
  {
   "cell_type": "code",
   "execution_count": null,
   "metadata": {
    "deletable": false,
    "editable": false,
    "nbgrader": {
     "checksum": "41f687eee60ea07b161133118f0fef76",
     "grade": false,
     "grade_id": "cell-f328ea1089025221",
     "locked": true,
     "schema_version": 1,
     "solution": false
    }
   },
   "outputs": [],
   "source": [
    "df.head()"
   ]
  },
  {
   "cell_type": "markdown",
   "metadata": {
    "deletable": false,
    "editable": false,
    "nbgrader": {
     "checksum": "7a36f4fa66b7c01de54bb2d7b4d3a56e",
     "grade": false,
     "grade_id": "cell-1ab50aff5f769650",
     "locked": true,
     "schema_version": 1,
     "solution": false
    }
   },
   "source": [
    "### What are the columns in this data set?\n"
   ]
  },
  {
   "cell_type": "code",
   "execution_count": null,
   "metadata": {
    "deletable": false,
    "nbgrader": {
     "checksum": "e134067a7e977c721296bd473bdb6616",
     "grade": false,
     "grade_id": "cell-d5992f9bca034595",
     "locked": false,
     "schema_version": 1,
     "solution": true
    }
   },
   "outputs": [],
   "source": [
    "# YOUR CODE HERE\n",
    "raise NotImplementedError()"
   ]
  },
  {
   "cell_type": "markdown",
   "metadata": {
    "deletable": false,
    "editable": false,
    "nbgrader": {
     "checksum": "ee10e7d75db30c124ee59608c26496b6",
     "grade": false,
     "grade_id": "cell-33e1706ebe45d7db",
     "locked": true,
     "schema_version": 1,
     "solution": false
    }
   },
   "source": [
    "### What are all the Primary Types?  \n",
    "Hint: use unique()\n"
   ]
  },
  {
   "cell_type": "code",
   "execution_count": null,
   "metadata": {
    "deletable": false,
    "nbgrader": {
     "checksum": "501653ac548a89c5e9b590740ca185fb",
     "grade": false,
     "grade_id": "cell-f30700ae1554fd4d",
     "locked": false,
     "schema_version": 1,
     "solution": true
    }
   },
   "outputs": [],
   "source": [
    "# YOUR CODE HERE\n",
    "raise NotImplementedError()"
   ]
  },
  {
   "cell_type": "markdown",
   "metadata": {
    "deletable": false,
    "editable": false,
    "nbgrader": {
     "checksum": "ddd6e312502db0ba5f70d01f6a29afaa",
     "grade": false,
     "grade_id": "cell-96e4d16ef8c8de48",
     "locked": true,
     "schema_version": 1,
     "solution": false
    }
   },
   "source": [
    "### Find out how many of each type occur."
   ]
  },
  {
   "cell_type": "code",
   "execution_count": null,
   "metadata": {
    "deletable": false,
    "nbgrader": {
     "checksum": "67a63ffab44be1e0afc6bc3a6a28c371",
     "grade": false,
     "grade_id": "cell-d0f98ce8ec0ee85a",
     "locked": false,
     "schema_version": 1,
     "solution": true
    }
   },
   "outputs": [],
   "source": [
    "# YOUR CODE HERE\n",
    "raise NotImplementedError()"
   ]
  },
  {
   "cell_type": "markdown",
   "metadata": {
    "deletable": false,
    "editable": false,
    "nbgrader": {
     "checksum": "de62b0249b6cd482f342a1befbcea1ed",
     "grade": false,
     "grade_id": "cell-0477370af1a5d0cc",
     "locked": true,
     "schema_version": 1,
     "solution": false
    }
   },
   "source": [
    "### Make a bar chart of the top 10"
   ]
  },
  {
   "cell_type": "code",
   "execution_count": null,
   "metadata": {
    "deletable": false,
    "nbgrader": {
     "checksum": "6c7fed1053288078cacf1e98c79b11b2",
     "grade": false,
     "grade_id": "cell-e5c423f4803dd6ba",
     "locked": false,
     "schema_version": 1,
     "solution": true
    }
   },
   "outputs": [],
   "source": [
    "# YOUR CODE HERE\n",
    "raise NotImplementedError()"
   ]
  },
  {
   "cell_type": "markdown",
   "metadata": {
    "deletable": false,
    "editable": false,
    "nbgrader": {
     "checksum": "398d3bea0322ab986b968ba1260ef6a0",
     "grade": false,
     "grade_id": "cell-6833934793df93c6",
     "locked": true,
     "schema_version": 1,
     "solution": false
    }
   },
   "source": [
    "### Make a new dataframe of just the theft types.\n"
   ]
  },
  {
   "cell_type": "code",
   "execution_count": null,
   "metadata": {
    "deletable": false,
    "nbgrader": {
     "checksum": "0df243f5982a77ab1a564b3d84ea2a6e",
     "grade": false,
     "grade_id": "cell-e9e14ccfeb13f9cc",
     "locked": false,
     "schema_version": 1,
     "solution": true
    }
   },
   "outputs": [],
   "source": [
    "# YOUR CODE HERE\n",
    "raise NotImplementedError()"
   ]
  },
  {
   "cell_type": "markdown",
   "metadata": {
    "deletable": false,
    "editable": false,
    "nbgrader": {
     "checksum": "961cca265fe98233337bf92ece47f562",
     "grade": false,
     "grade_id": "cell-eb99da6355f23fcf",
     "locked": true,
     "schema_version": 1,
     "solution": false
    }
   },
   "source": [
    "### Get the counts of each Description type inside the Thefts dataframe.\n"
   ]
  },
  {
   "cell_type": "code",
   "execution_count": null,
   "metadata": {
    "deletable": false,
    "nbgrader": {
     "checksum": "946bb24f208807b079acf054cb10222a",
     "grade": false,
     "grade_id": "cell-62dda829e6915c6d",
     "locked": false,
     "schema_version": 1,
     "solution": true
    }
   },
   "outputs": [],
   "source": [
    "# YOUR CODE HERE\n",
    "raise NotImplementedError()"
   ]
  },
  {
   "cell_type": "markdown",
   "metadata": {
    "deletable": false,
    "editable": false,
    "nbgrader": {
     "checksum": "eff02b97e9675bd75de5be5a32c2aebe",
     "grade": false,
     "grade_id": "cell-10db12ce41da6bbd",
     "locked": true,
     "schema_version": 1,
     "solution": false
    }
   },
   "source": [
    "### Using your answer above, make a bar chart of the Description type counts.\n"
   ]
  },
  {
   "cell_type": "code",
   "execution_count": null,
   "metadata": {
    "deletable": false,
    "nbgrader": {
     "checksum": "7bdbbdbfde79037f92ad942bdc318ee5",
     "grade": false,
     "grade_id": "cell-89943fe42d0a5d3e",
     "locked": false,
     "schema_version": 1,
     "solution": true
    }
   },
   "outputs": [],
   "source": [
    "# YOUR CODE HERE\n",
    "raise NotImplementedError()"
   ]
  },
  {
   "cell_type": "markdown",
   "metadata": {
    "deletable": false,
    "editable": false,
    "nbgrader": {
     "checksum": "add6815b6d5cb2ead6719250e9d02ebc",
     "grade": false,
     "grade_id": "cell-878f8c746eb2169f",
     "locked": true,
     "schema_version": 1,
     "solution": false
    }
   },
   "source": [
    "### What percentage of all crimes in this data occur in Ward 42? \n",
    "Hint: just find out how many occur in ward 42 and then divide by all crimes.\n"
   ]
  },
  {
   "cell_type": "code",
   "execution_count": null,
   "metadata": {
    "deletable": false,
    "nbgrader": {
     "checksum": "4fc3c835cdf2426c30a0cac34e579eea",
     "grade": false,
     "grade_id": "cell-d2acbdc4f9c9a05f",
     "locked": false,
     "schema_version": 1,
     "solution": true
    }
   },
   "outputs": [],
   "source": [
    "# YOUR CODE HERE\n",
    "raise NotImplementedError()"
   ]
  },
  {
   "cell_type": "markdown",
   "metadata": {
    "deletable": false,
    "editable": false,
    "nbgrader": {
     "checksum": "66251f98e1e88fcdbe9302293ac05486",
     "grade": false,
     "grade_id": "cell-c63dfe89d9643f37",
     "locked": true,
     "schema_version": 1,
     "solution": false
    }
   },
   "source": [
    "### What is the most common crime Primary Type that results in an arrest?\n"
   ]
  },
  {
   "cell_type": "code",
   "execution_count": null,
   "metadata": {
    "deletable": false,
    "nbgrader": {
     "checksum": "98f028d87c77e685d20168e3a3cbff31",
     "grade": false,
     "grade_id": "cell-b3a154d4c4c44dfc",
     "locked": false,
     "schema_version": 1,
     "solution": true
    }
   },
   "outputs": [],
   "source": [
    "# YOUR CODE HERE\n",
    "raise NotImplementedError()"
   ]
  },
  {
   "cell_type": "markdown",
   "metadata": {
    "deletable": false,
    "editable": false,
    "nbgrader": {
     "checksum": "e395c3ceaa0dfd93d60f78d711461a0e",
     "grade": false,
     "grade_id": "cell-07857823a169aa2b",
     "locked": true,
     "schema_version": 1,
     "solution": false
    }
   },
   "source": [
    "## Part 2: Statistics Computation\n",
    "### Load in the paris rainfall data"
   ]
  },
  {
   "cell_type": "code",
   "execution_count": null,
   "metadata": {
    "deletable": false,
    "nbgrader": {
     "checksum": "a3df3dbe02e421c4820e74233959da6d",
     "grade": false,
     "grade_id": "cell-ab1bb38f06ff8a68",
     "locked": false,
     "schema_version": 1,
     "solution": true
    }
   },
   "outputs": [],
   "source": [
    "# YOUR CODE HERE\n",
    "raise NotImplementedError()"
   ]
  },
  {
   "cell_type": "code",
   "execution_count": null,
   "metadata": {
    "deletable": false,
    "editable": false,
    "nbgrader": {
     "checksum": "18c8fb925ba75f23848ffc353336e20d",
     "grade": false,
     "grade_id": "cell-fe0797ab60bb574c",
     "locked": true,
     "schema_version": 1,
     "solution": false
    }
   },
   "outputs": [],
   "source": [
    "rain.describe()"
   ]
  },
  {
   "cell_type": "code",
   "execution_count": null,
   "metadata": {
    "deletable": false,
    "editable": false,
    "nbgrader": {
     "checksum": "5a51360a7f62fdf6f05f665c78e30e7a",
     "grade": false,
     "grade_id": "cell-fd47ddae27a388bd",
     "locked": true,
     "schema_version": 1,
     "solution": false
    }
   },
   "outputs": [],
   "source": [
    "rain.tail()"
   ]
  },
  {
   "cell_type": "markdown",
   "metadata": {
    "deletable": false,
    "editable": false,
    "nbgrader": {
     "checksum": "cc397ad797d4ca3749161649404baec0",
     "grade": false,
     "grade_id": "cell-aa3e24abaae4adeb",
     "locked": true,
     "schema_version": 1,
     "solution": false
    }
   },
   "source": [
    "### Use .loc to get all the rain values for the year 1700\n"
   ]
  },
  {
   "cell_type": "code",
   "execution_count": null,
   "metadata": {
    "deletable": false,
    "nbgrader": {
     "checksum": "10461a5407919d9a9d2b04629638e6f0",
     "grade": false,
     "grade_id": "cell-1ad77971dfce3c19",
     "locked": false,
     "schema_version": 1,
     "solution": true
    }
   },
   "outputs": [],
   "source": [
    "# YOUR CODE HERE\n",
    "raise NotImplementedError()"
   ]
  },
  {
   "cell_type": "markdown",
   "metadata": {
    "deletable": false,
    "editable": false,
    "nbgrader": {
     "checksum": "b6f52875e6ffc2b8648a739aa7ff62d6",
     "grade": false,
     "grade_id": "cell-bdaad51615846504",
     "locked": true,
     "schema_version": 1,
     "solution": false
    }
   },
   "source": [
    "### Sort by rain amount in January, ascending=False. Now get the top row. What's the year?\n"
   ]
  },
  {
   "cell_type": "code",
   "execution_count": null,
   "metadata": {
    "deletable": false,
    "nbgrader": {
     "checksum": "19c596993be6f5fb25c8bd9d71901df1",
     "grade": false,
     "grade_id": "cell-c86d3c5cf5a824bd",
     "locked": false,
     "schema_version": 1,
     "solution": true
    }
   },
   "outputs": [],
   "source": [
    "# YOUR CODE HERE\n",
    "raise NotImplementedError()"
   ]
  },
  {
   "cell_type": "markdown",
   "metadata": {
    "deletable": false,
    "editable": false,
    "nbgrader": {
     "checksum": "afc43c15c630ac20025dbefb5fac0a3f",
     "grade": false,
     "grade_id": "cell-734c073c909c8df5",
     "locked": true,
     "schema_version": 1,
     "solution": false
    }
   },
   "source": [
    "### Find the values for the month of June. Plot in a bar chart. (It's ok if you can't read the x axis labels.)\n"
   ]
  },
  {
   "cell_type": "code",
   "execution_count": null,
   "metadata": {
    "deletable": false,
    "nbgrader": {
     "checksum": "5984a7544e5476bf9150d034522d69a7",
     "grade": false,
     "grade_id": "cell-68f16dff28c6657f",
     "locked": false,
     "schema_version": 1,
     "solution": true
    }
   },
   "outputs": [],
   "source": [
    "# YOUR CODE HERE\n",
    "raise NotImplementedError()"
   ]
  },
  {
   "cell_type": "markdown",
   "metadata": {
    "deletable": false,
    "editable": false,
    "nbgrader": {
     "checksum": "3dc0657a34f359b2f87a7653b86d1cbc",
     "grade": false,
     "grade_id": "cell-025ec56bd8a05e7e",
     "locked": true,
     "schema_version": 1,
     "solution": false
    }
   },
   "source": [
    "### What are the max and min values for Jun?  What is the median?\n"
   ]
  },
  {
   "cell_type": "code",
   "execution_count": null,
   "metadata": {
    "deletable": false,
    "nbgrader": {
     "checksum": "d6a7bf1852f199cfd2341ead67a5c4f8",
     "grade": false,
     "grade_id": "cell-74ac9deccab8e1a6",
     "locked": false,
     "schema_version": 1,
     "solution": true
    }
   },
   "outputs": [],
   "source": [
    "# YOUR CODE HERE\n",
    "raise NotImplementedError()"
   ]
  },
  {
   "cell_type": "markdown",
   "metadata": {
    "deletable": false,
    "editable": false,
    "nbgrader": {
     "checksum": "3106acaedef055fa886d7a69fcdf556e",
     "grade": false,
     "grade_id": "cell-9d215ec78c6e6e6a",
     "locked": true,
     "schema_version": 1,
     "solution": false
    }
   },
   "source": [
    "### Make a histogram for one month's rain.\n"
   ]
  },
  {
   "cell_type": "code",
   "execution_count": null,
   "metadata": {
    "deletable": false,
    "nbgrader": {
     "checksum": "a65df2286cfcfc19038efc32ea53b89c",
     "grade": false,
     "grade_id": "cell-4c79843209dfaa8a",
     "locked": false,
     "schema_version": 1,
     "solution": true
    }
   },
   "outputs": [],
   "source": [
    "# YOUR CODE HERE\n",
    "raise NotImplementedError()"
   ]
  },
  {
   "cell_type": "markdown",
   "metadata": {
    "deletable": false,
    "editable": false,
    "nbgrader": {
     "checksum": "92ca739f04e09fd38e1d94fb0a9a479e",
     "grade": false,
     "grade_id": "cell-140d4d72e241a14b",
     "locked": true,
     "schema_version": 1,
     "solution": false
    }
   },
   "source": [
    "### Create a column for the total rain each year.  \n",
    "It's okay if you have a NaN for years with columns with missing data, too.\n"
   ]
  },
  {
   "cell_type": "code",
   "execution_count": null,
   "metadata": {
    "deletable": false,
    "nbgrader": {
     "checksum": "e025248377cd1ea248bc0297c24ce727",
     "grade": false,
     "grade_id": "cell-f2638152eb5cdb32",
     "locked": false,
     "schema_version": 1,
     "solution": true
    }
   },
   "outputs": [],
   "source": [
    "# YOUR CODE HERE\n",
    "raise NotImplementedError()"
   ]
  },
  {
   "cell_type": "markdown",
   "metadata": {
    "deletable": false,
    "editable": false,
    "nbgrader": {
     "checksum": "0ac7b70a9e4d56f89248d18baeffbde9",
     "grade": false,
     "grade_id": "cell-090adc8f41689254",
     "locked": true,
     "schema_version": 1,
     "solution": false
    }
   },
   "source": [
    "### Plot the proportion or percentage of rain for each January out of the total (hint: jan/total), using a line chart.\n"
   ]
  },
  {
   "cell_type": "code",
   "execution_count": null,
   "metadata": {
    "deletable": false,
    "nbgrader": {
     "checksum": "0335cd96ddf3f6976ce3d32149888539",
     "grade": false,
     "grade_id": "cell-6a1e02ed72b5649f",
     "locked": false,
     "schema_version": 1,
     "solution": true
    }
   },
   "outputs": [],
   "source": [
    "# YOUR CODE HERE\n",
    "raise NotImplementedError()"
   ]
  }
 ],
 "metadata": {
  "anaconda-cloud": {},
  "kernelspec": {
   "display_name": "Python 3",
   "language": "python",
   "name": "python3"
  },
  "language_info": {
   "codemirror_mode": {
    "name": "ipython",
    "version": 3
   },
   "file_extension": ".py",
   "mimetype": "text/x-python",
   "name": "python",
   "nbconvert_exporter": "python",
   "pygments_lexer": "ipython3",
   "version": "3.8.3"
  },
  "toc": {
   "base_numbering": 1,
   "nav_menu": {},
   "number_sections": true,
   "sideBar": true,
   "skip_h1_title": false,
   "title_cell": "Table of Contents",
   "title_sidebar": "Contents",
   "toc_cell": false,
   "toc_position": {
    "height": "calc(100% - 180px)",
    "left": "10px",
    "top": "150px",
    "width": "287.9963073730469px"
   },
   "toc_section_display": true,
   "toc_window_display": true
  }
 },
 "nbformat": 4,
 "nbformat_minor": 1
}
